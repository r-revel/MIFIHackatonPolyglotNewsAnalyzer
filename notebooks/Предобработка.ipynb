{
 "cells": [
  {
   "cell_type": "code",
   "execution_count": 16,
   "metadata": {
    "colab": {
     "base_uri": "https://localhost:8080/"
    },
    "executionInfo": {
     "elapsed": 220,
     "status": "ok",
     "timestamp": 1745517857765,
     "user": {
      "displayName": "Igor Kamerzan",
      "userId": "17144812295677115809"
     },
     "user_tz": -180
    },
    "id": "nsgwHmMLrzhA",
    "outputId": "f23a15f4-1d9d-4788-924d-3176ef719b6d"
   },
   "outputs": [
    {
     "name": "stdout",
     "output_type": "stream",
     "text": [
      "<class 'pandas.core.frame.DataFrame'>\n",
      "Index: 6000 entries, 0 to 999\n",
      "Data columns (total 4 columns):\n",
      " #   Column       Non-Null Count  Dtype \n",
      "---  ------       --------------  ----- \n",
      " 0   doc_text     6000 non-null   object\n",
      " 1   image2text   3420 non-null   object\n",
      " 2   speech2text  1871 non-null   object\n",
      " 3   response     6000 non-null   object\n",
      "dtypes: object(4)\n",
      "memory usage: 234.4+ KB\n"
     ]
    }
   ],
   "source": [
    "import pandas as pd\n",
    "df1 = pd.read_csv(\"../data/interim/processed_1.csv\")\n",
    "df2 = pd.read_csv(\"../data/interim/processed_2.csv\")\n",
    "df3 = pd.read_csv(\"../data/interim/processed_3.csv\")\n",
    "df4 = pd.read_csv(\"../data/interim/processed_4.csv\")\n",
    "df5 = pd.read_csv(\"../data/interim/processed_5.csv\")\n",
    "df6 = pd.read_csv(\"../data/interim/processed_6.csv\")\n",
    "\n",
    "df = pd.concat([df1, df2, df3, df4, df5, df6])\n",
    "df.info()"
   ]
  },
  {
   "cell_type": "code",
   "execution_count": 17,
   "metadata": {
    "colab": {
     "base_uri": "https://localhost:8080/",
     "height": 206
    },
    "executionInfo": {
     "elapsed": 81,
     "status": "ok",
     "timestamp": 1745517857840,
     "user": {
      "displayName": "Igor Kamerzan",
      "userId": "17144812295677115809"
     },
     "user_tz": -180
    },
    "id": "jB48NygktC9M",
    "outputId": "568e213d-a1a8-490c-cd7b-f6206dd41836"
   },
   "outputs": [
    {
     "data": {
      "text/html": [
       "<div>\n",
       "<style scoped>\n",
       "    .dataframe tbody tr th:only-of-type {\n",
       "        vertical-align: middle;\n",
       "    }\n",
       "\n",
       "    .dataframe tbody tr th {\n",
       "        vertical-align: top;\n",
       "    }\n",
       "\n",
       "    .dataframe thead th {\n",
       "        text-align: right;\n",
       "    }\n",
       "</style>\n",
       "<table border=\"1\" class=\"dataframe\">\n",
       "  <thead>\n",
       "    <tr style=\"text-align: right;\">\n",
       "      <th></th>\n",
       "      <th>doc_text</th>\n",
       "      <th>image2text</th>\n",
       "      <th>speech2text</th>\n",
       "      <th>response</th>\n",
       "    </tr>\n",
       "  </thead>\n",
       "  <tbody>\n",
       "    <tr>\n",
       "      <th>0</th>\n",
       "      <td>Твой лучший секс спрятан здесь 🔞  Делюсь канал...</td>\n",
       "      <td>NaN</td>\n",
       "      <td>NaN</td>\n",
       "      <td>Нет категории</td>\n",
       "    </tr>\n",
       "    <tr>\n",
       "      <th>1</th>\n",
       "      <td>⭐️  Кнопка: ⭐️START⭐️(https://t.me/major/start...</td>\n",
       "      <td>NaN</td>\n",
       "      <td>NaN</td>\n",
       "      <td>Нет категории</td>\n",
       "    </tr>\n",
       "    <tr>\n",
       "      <th>2</th>\n",
       "      <td>А продолжение где? Правильно. В моем сообществ...</td>\n",
       "      <td>девчонки не умеют переписываться sanille они э...</td>\n",
       "      <td>NaN</td>\n",
       "      <td>Соцсети: 1.0</td>\n",
       "    </tr>\n",
       "    <tr>\n",
       "      <th>3</th>\n",
       "      <td>Тем временем моя авторская телега уверенно в т...</td>\n",
       "      <td>10:42 nuil пул telegram ^ 51 142 подписчика 12...</td>\n",
       "      <td>NaN</td>\n",
       "      <td>Соцсети: 0.7/Политика: 0.3</td>\n",
       "    </tr>\n",
       "    <tr>\n",
       "      <th>4</th>\n",
       "      <td>У меня есть двоюродная сестра, у нее есть сын ...</td>\n",
       "      <td>т с не ^ е z 8 * \\\"8 ничего не знала о стендап...</td>\n",
       "      <td>NaN</td>\n",
       "      <td>Соцсети: 0.6/Юмор: 0.4</td>\n",
       "    </tr>\n",
       "  </tbody>\n",
       "</table>\n",
       "</div>"
      ],
      "text/plain": [
       "                                            doc_text  \\\n",
       "0  Твой лучший секс спрятан здесь 🔞  Делюсь канал...   \n",
       "1  ⭐️  Кнопка: ⭐️START⭐️(https://t.me/major/start...   \n",
       "2  А продолжение где? Правильно. В моем сообществ...   \n",
       "3  Тем временем моя авторская телега уверенно в т...   \n",
       "4  У меня есть двоюродная сестра, у нее есть сын ...   \n",
       "\n",
       "                                          image2text speech2text  \\\n",
       "0                                                NaN         NaN   \n",
       "1                                                NaN         NaN   \n",
       "2  девчонки не умеют переписываться sanille они э...         NaN   \n",
       "3  10:42 nuil пул telegram ^ 51 142 подписчика 12...         NaN   \n",
       "4  т с не ^ е z 8 * \\\"8 ничего не знала о стендап...         NaN   \n",
       "\n",
       "                     response  \n",
       "0               Нет категории  \n",
       "1               Нет категории  \n",
       "2                Соцсети: 1.0  \n",
       "3  Соцсети: 0.7/Политика: 0.3  \n",
       "4      Соцсети: 0.6/Юмор: 0.4  "
      ]
     },
     "execution_count": 17,
     "metadata": {},
     "output_type": "execute_result"
    }
   ],
   "source": [
    "df.head()"
   ]
  },
  {
   "cell_type": "code",
   "execution_count": 18,
   "metadata": {
    "colab": {
     "base_uri": "https://localhost:8080/",
     "height": 594
    },
    "executionInfo": {
     "elapsed": 15,
     "status": "ok",
     "timestamp": 1745517857856,
     "user": {
      "displayName": "Igor Kamerzan",
      "userId": "17144812295677115809"
     },
     "user_tz": -180
    },
    "id": "0kg2tNzStJoP",
    "outputId": "1ffed5d9-b141-400e-f7ef-9b905b2a806c"
   },
   "outputs": [
    {
     "data": {
      "text/plain": [
       "response\n",
       "Спорт: 1.0                                                                                                                                                                                                                                                                                                                                                     673\n",
       "Нет категории                                                                                                                                                                                                                                                                                                                                                  398\n",
       "Соцсети: 1.0                                                                                                                                                                                                                                                                                                                                                   359\n",
       "Юмор: 1.0                                                                                                                                                                                                                                                                                                                                                      327\n",
       "Политика: 1.0                                                                                                                                                                                                                                                                                                                                                  231\n",
       "                                                                                                                                                                                                                                                                                                                                                              ... \n",
       "Спорт: 0.5/Личная жизнь: 0.5\\n\\nТекст упоминает падение с самоката перед игрой, что может относиться к спорту, а также содержит элемент личного опыта или наблюдения.                                                                                                                                                                                            1\n",
       "Личная жизнь: 1.0\\n\\nТекст в основном описывает личное путешествие Ляйсан Утяшевой с семьей, её впечатления и эмоции, связанные с этим приключением. Поэтому текст относится к категории \"Личная жизнь\".                                                                                                                                                         1\n",
       "Соцсети: 1.0\\n\\nТекст содержит элементы, характерные для публикаций в социальных сетях, такие как использование эмодзи, загадки (пасхалки) и призыв к взаимодействию с аудиторией.                                                                                                                                                                               1\n",
       "Спорт: 0.5/Политика: 0.5\\n\\nТекст содержит информацию о футбольных клубах и инцидентах с мошенничеством, связанных с трансферами игроков. Это относится к спортивной тематике, но также затрагивает аспекты управления клубами и финансовые вопросы, что может быть связано с политикой.                                                                         1\n",
       "Юмор: 0.5/Спорт: 0.5\\n\\nЭтот текст содержит элементы юмора и может быть интерпретирован как шутливое описание какой-то спортивной или концертной ситуации. Огоньки на телефонах, зажигающиеся в зале, и эмоциональные призывы ведущего или ведущей, могут быть как часть юмористического перформанса, так и элементом спортивного мероприятия или концерта.      1\n",
       "Name: count, Length: 876, dtype: int64"
      ]
     },
     "execution_count": 18,
     "metadata": {},
     "output_type": "execute_result"
    }
   ],
   "source": [
    "df['response'].value_counts()"
   ]
  },
  {
   "cell_type": "markdown",
   "metadata": {
    "id": "hZisYfwytPkb"
   },
   "source": [
    "Получилось 876 разных значений, скачаем, посмотрим все"
   ]
  },
  {
   "cell_type": "code",
   "execution_count": 19,
   "metadata": {
    "id": "W3oriiyFtPG0"
   },
   "outputs": [],
   "source": [
    "df.to_excel('concatenated.xlsx')"
   ]
  },
  {
   "cell_type": "markdown",
   "metadata": {
    "id": "DqjwJPpAuTH6"
   },
   "source": [
    "Подобрали регулярное выражение для парсинга вот тут\n",
    "https://regex101.com/r/TL43Hy/1, после него сделаем strip()"
   ]
  },
  {
   "cell_type": "code",
   "execution_count": 20,
   "metadata": {
    "colab": {
     "base_uri": "https://localhost:8080/"
    },
    "executionInfo": {
     "elapsed": 207,
     "status": "ok",
     "timestamp": 1745517860652,
     "user": {
      "displayName": "Igor Kamerzan",
      "userId": "17144812295677115809"
     },
     "user_tz": -180
    },
    "id": "yBO1rr7-ubCJ",
    "outputId": "e1fd7b55-1f44-4940-cc13-e3a443754152"
   },
   "outputs": [
    {
     "name": "stdout",
     "output_type": "stream",
     "text": [
      "<class 'pandas.core.frame.DataFrame'>\n",
      "Index: 6000 entries, 0 to 999\n",
      "Data columns (total 4 columns):\n",
      " #   Column       Non-Null Count  Dtype \n",
      "---  ------       --------------  ----- \n",
      " 0   doc_text     6000 non-null   object\n",
      " 1   image2text   3420 non-null   object\n",
      " 2   speech2text  1871 non-null   object\n",
      " 3   response     6000 non-null   object\n",
      "dtypes: object(4)\n",
      "memory usage: 234.4+ KB\n"
     ]
    }
   ],
   "source": [
    "import re\n",
    "\n",
    "REMOVE_GARBAGE = re.compile(r'[\\w \\d.:/]+(?:\\n|$)')\n",
    "\n",
    "def extract_first_valid_line(text):\n",
    "    if pd.isna(text):\n",
    "        return text\n",
    "    text = str(text)\n",
    "    matches = REMOVE_GARBAGE.findall(text)\n",
    "    # Берем первое непустое совпадение и тримим\n",
    "    return matches[0].strip() if matches else ''\n",
    "\n",
    "df['response'] = df['response'].apply(extract_first_valid_line)\n",
    "\n",
    "df.info()"
   ]
  },
  {
   "cell_type": "markdown",
   "metadata": {
    "id": "AqOjORmvv-fz"
   },
   "source": [
    "Осталось 180 разных значений"
   ]
  },
  {
   "cell_type": "code",
   "execution_count": 21,
   "metadata": {
    "colab": {
     "base_uri": "https://localhost:8080/",
     "height": 489
    },
    "executionInfo": {
     "elapsed": 20,
     "status": "ok",
     "timestamp": 1745517860679,
     "user": {
      "displayName": "Igor Kamerzan",
      "userId": "17144812295677115809"
     },
     "user_tz": -180
    },
    "id": "2bU37dxSyUrK",
    "outputId": "c2d83853-c611-4937-a9ff-be5d8dea5947"
   },
   "outputs": [
    {
     "data": {
      "text/plain": [
       "response\n",
       "Спорт: 1.0                                      716\n",
       "Нет категории                                   650\n",
       "Соцсети: 1.0                                    377\n",
       "Юмор: 1.0                                       361\n",
       "Политика: 1.0                                   260\n",
       "                                               ... \n",
       "Соцсети: 0.5/Путешествия: 0.5                     1\n",
       "Спорт: 1.0/Политика: 0.5                          1\n",
       "Соцсети: 0.5/Политика: 0.3/Личная жизнь: 0.2      1\n",
       "Соцсети: 0.4/Реклама: 0.6                         1\n",
       "Спорт: 0.4/Личная жизнь: 0.3/Юмор: 0.3            1\n",
       "Name: count, Length: 180, dtype: int64"
      ]
     },
     "execution_count": 21,
     "metadata": {},
     "output_type": "execute_result"
    }
   ],
   "source": [
    "df['response'].value_counts()"
   ]
  },
  {
   "cell_type": "code",
   "execution_count": 22,
   "metadata": {
    "colab": {
     "base_uri": "https://localhost:8080/"
    },
    "executionInfo": {
     "elapsed": 6,
     "status": "ok",
     "timestamp": 1745517860686,
     "user": {
      "displayName": "Igor Kamerzan",
      "userId": "17144812295677115809"
     },
     "user_tz": -180
    },
    "id": "jYcUicr7wXaZ",
    "outputId": "59a193ff-8890-44ab-d080-3c010d795521"
   },
   "outputs": [
    {
     "name": "stdout",
     "output_type": "stream",
     "text": [
      "Нет категории\n",
      "Соцсети: 1.0\n",
      "Соцсети: 0.7/Политика: 0.3\n",
      "Соцсети: 0.6/Юмор: 0.4\n",
      "Реклама: 0.7/Личная жизнь: 0.3\n",
      "Спорт: 1.0\n",
      "Спорт: 0.7/Соцсети: 0.3\n",
      "Спорт: 0.6/Соцсети: 0.4\n",
      "Реклама: 1.0\n",
      "Реклама: 0.5/Соцсети: 0.5\n",
      "Реклама: 0.5/Личная жизнь: 0.5\n",
      "Юмор: 1.0\n",
      "Спорт: 0.7/Реклама: 0.3\n",
      "Юмор: 0.5/Соцсети: 0.5\n",
      "Спорт: 0.5/Соцсети: 0.5\n",
      "Личная жизнь: 0.5/Соцсети: 0.5\n",
      "Юмор: 0.8/Соцсети: 0.2\n",
      "Личная жизнь: 0.6/Юмор: 0.0/Реклама: 0.4\n",
      "Соцсети: 0.7/Личная жизнь: 0.3\n",
      "Спорт: 0.5/Личная жизнь: 0.3/Реклама: 0.2\n",
      "Соцсети: 0.5/Реклама: 0.5\n",
      "Юмор: 0.2/Личная жизнь: 0.8\n",
      "Соцсети: 0.5/Политика: 0.5\n",
      "Соцсети: 0.7/Реклама: 0.3\n",
      "Личная жизнь: 0.6/Юмор: 0.2/Соцсети: 0.2\n",
      "Соцсети: 0.4/Реклама: 0.6\n",
      "Реклама: 0.6/Соцсети: 0.4\n",
      "Соцсети: 0.5/Политика: 0.3/Личная жизнь: 0.2\n",
      "Спорт: 0.8/Юмор: 0.2\n",
      "Соцсети: 0.7/Юмор: 0.3\n",
      "Соцсети: 0.5/Юмор: 0.5\n",
      "Юмор: 0.7/Соцсети: 0.3\n",
      "Спорт: 0.8/Соцсети: 0.2\n",
      "Спорт: 0.7/Личная жизнь: 0.3\n",
      "Личная жизнь: 0.7/Соцсети: 0.3\n",
      "Соцсети: 0.6/Спорт: 0.4\n",
      "Соцсети: 0.6/Реклама: 0.4\n",
      "Спорт: 0.5/Личная жизнь: 0.5\n",
      "Личная жизнь: 1.0\n",
      "Соцсети: 0.5/Личная жизнь: 0.5\n",
      "Юмор: 0.5/Личная жизнь: 0.5\n",
      "Соцсети: 0.6/Личная жизнь: 0.4\n",
      "Юмор: 0.6/Реклама: 0.4\n",
      "Реклама: 0.7/Соцсети: 0.3\n",
      "Реклама: 0.8/Соцсети: 0.2\n",
      "Соцсети: 0.5/Спорт: 0.5\n",
      "Юмор: 0.4/Личная жизнь: 0.3/Соцсети: 0.3\n",
      "Реклама: 0.4/Юмор: 0.3/Соцсети: 0.3\n",
      "Юмор: 0.7/Личная жизнь: 0.3\n",
      "Юмор: 0.5/Реклама: 0.5\n",
      "Спорт: 0.8/Реклама: 0.2\n",
      "Соцсети: 0.8/Реклама: 0.2\n",
      "Личная жизнь: 0.5/Реклама: 0.5\n",
      "Спорт: 0.5/Реклама: 0.5\n",
      "Личная жизнь: 0.5/Юмор: 0.5\n",
      "Юмор: 0.7/Реклама: 0.3\n",
      "Политика: 0.5/Соцсети: 0.5\n",
      "Юмор: 0.6/Соцсети: 0.4\n",
      "Соцсети: 0.5/Реклама: 0.5/Юмор: 0.5\n",
      "Соцсети: 0.5/Музыка: 0.5\n",
      "Политика: 1.0\n",
      "Юмор: 1.0/Соцсети: 0.5\n",
      "Спорт: 0.6/Юмор: 0.4\n",
      "Спорт: 0.7/Юмор: 0.3\n",
      "Спорт: 0.7/Политика: 0.3\n",
      "Политика: 0.3/Соцсети: 0.3/Личная жизнь: 0.2/Реклама: 0.2\n",
      "Соцсети: 0.4/Юмор: 0.6\n",
      "Соцсети: 0.8/Спорт: 0.2\n",
      "Спорт: 0.6/Реклама: 0.4\n",
      "Спорт: 0.5/Юмор: 0.5\n",
      "Соцсети: 0.4/Юмор: 0.3/Реклама: 0.3\n",
      "Соцсети: 0.8/Юмор: 0.2\n",
      "Соцсети: 0.7/Спорт: 0.3\n",
      "Спорт: 0.5/Политика: 0.5\n",
      "Юмор: 0.5/Спорт: 0.5\n",
      "Реклама: 0.5/Юмор: 0.5\n",
      "Реклама: 1.0/Соцсети: 0.5\n",
      "Личная жизнь: 0.8/Соцсети: 0.2\n",
      "Реклама: 0.8/Личная жизнь: 0.2\n",
      "Спорт: 0.3/Личная жизнь: 0.5/Реклама: 0.2\n",
      "Политика: 0.5/Личная жизнь: 0.5\n",
      "Реклама: 0.6/Личная жизнь: 0.4\n",
      "Юмор: 0.5/Реклама: 0.5/Соцсети: 0.5\n",
      "Реклама: 0.5/Юмор: 0.5/Соцсети: 0.5\n",
      "Личная жизнь: 0.5/Спорт: 0.5\n",
      "Соцсети: 0.6/Политика: 0.4\n",
      "Личная жизнь: 0.6/Соцсети: 0.4\n",
      "Личная жизнь: 0.5/Политика: 0.5\n",
      "Политика: 0.5/Спорт: 0.5\n",
      "Спорт: 0.6/Политика: 0.4\n",
      "Личная жизнь: 0.7/Юмор: 0.3\n",
      "Юмор: 0.6/Личная жизнь: 0.4\n",
      "Политика: 0.6/Соцсети: 0.4\n",
      "Личная жизнь: 0.7/Реклама: 0.3\n",
      "Юмор: 0.8/Спорт: 0.2\n",
      "Спорт: 0.4/Политика: 0.3/Личная жизнь: 0.3\n",
      "Спорт: 0.8/Личная жизнь: 0.2\n",
      "Юмор: 0.7/Спорт: 0.3\n",
      "Юмор: 0.6/Спорт: 0.2/Личная жизнь: 0.2\n",
      "Личная жизнь: 0.6/Реклама: 0.4\n",
      "Спорт: 0.8/Политика: 0.2\n",
      "Политика: 0.7/Спорт: 0.3\n",
      "Реклама: 0.5/Спорт: 0.5\n",
      "Личная жизнь: 0.6/Спорт: 0.4\n",
      "Политика: 0.3/Соцсети: 0.7\n",
      "Личная жизнь: 0.7/Путешествия: 0.3\n",
      "Личная жизнь: 1.0/Соцсети: 0.5\n",
      "Соцсети: 0.5/Политика: 0.3/Реклама: 0.2\n",
      "Реклама: 0.7/Юмор: 0.3\n",
      "Юмор: 0.5/Спорт: 0.5/Личная жизнь: 0.3\n",
      "Спорт: 0.6/Личная жизнь: 0.4\n",
      "Личная жизнь: 0.7/Работа: 0.3\n",
      "Личная жизнь: 0.6/Юмор: 0.4\n",
      "Личная жизнь: 0.7/Спорт: 0.3\n",
      "Соцсети: 0.5/Политика: 0.5/Спорт: 0.5\n",
      "Политика: 0.7/Личная жизнь: 0.3\n",
      "Политика: 0.5/Реклама: 0.5\n",
      "Политика: 0.7/Соцсети: 0.3\n",
      "Юмор: 0.5/Политика: 0.5\n",
      "Политика: 0.6/Спорт: 0.4\n",
      "Политика: 0.5/Юмор: 0.5\n",
      "Личная жизнь: 0.6/Политика: 0.4\n",
      "Спорт: 1.0/Политика: 0.5\n",
      "Соцсети: 0.5/Путешествия: 0.5\n",
      "Соцсети: 0.6/Путешествия: 0.4\n",
      "Политика: 0.5/Соцсети: 0.5/Личная жизнь: 0.5\n",
      "Реклама: 0.4/Политика: 0.3/Личная жизнь: 0.3\n",
      "Личная жизнь: 0.7/Политика: 0.3\n",
      "Реклама: 0.5/Политика: 0.5\n",
      "Политика: 0.8/Личная жизнь: 0.2\n",
      "Политика: 1.0/Sпорт: 0.5\n",
      "Политика: 0.6/Личная жизнь: 0.4\n",
      "Политика: 0.8/Соцсети: 0.2\n",
      "Политика: 0.7/Реклама: 0.3\n",
      "Политика: 0.6/Юмор: 0.4\n",
      "Политика: 0.7/Юмор: 0.3\n",
      "Юмор: 0.7/Политика: 0.3\n",
      "Политика: 0.8/Спорт: 0.2\n",
      "Политика: 0.4/Личная жизнь: 0.3/Юмор: 0.3\n",
      "Спорт: 0.0/Юмор: 0.0/Реклама: 0.0/Соцсети: 0.0/Политика: 0.5/Личная жизнь: 0.5\n",
      "Спорт: 0.5/Политика: 0.5/Личная жизнь: 0.5\n",
      "Политика: 0.5/Соцсети: 0.5/Спорт: 0.5\n",
      "Спорт: 0.3/Политика: 0.3/Соцсети: 0.4\n",
      "Политика: 0.3/Спорт: 0.7\n",
      "Спорт: 0.5/Соцсети: 0.3/Политика: 0.2\n",
      "Спорт: 0.3/Политика: 0.4/Личная жизнь: 0.3\n",
      "Реклама: 0.6/Юмор: 0.4\n",
      "Соцсети: 0.5/Юмор: 0.5/Реклама: 0.5\n",
      "Реклама: 0.6/Спорт: 0.4\n",
      "Спорт: 0.5/Личная жизнь: 0.5/Реклама: 0.5\n",
      "Юмор: 0.5/Личная жизнь: 0.5/Соцсети: 0.5\n",
      "Юмор: 0.3/Личная жизнь: 0.7\n",
      "Юмор: 0.8/Личная жизнь: 0.2\n",
      "Соцсети: 0.5/Спорт: 0.3/Юмор: 0.2\n",
      "Соцсети: 0.6/Юмор: 0.2/Личная жизнь: 0.2\n",
      "Соцсети: 0.8/Личная жизнь: 0.2\n",
      "Соцсети: 1.0/Реклама: 0.5\n",
      "Соцсети: 0.6/Политика: 0.2/Личная жизнь: 0.2\n",
      "Юмор: 0.8/Реклама: 0.2\n",
      "Соцсети: 0.5/Политика: 0.3/Юмор: 0.2\n",
      "Реклама: 0.7/Спорт: 0.3\n",
      "Спорт: 0.3/Политика: 0.7\n",
      "Реклама: 0.8/Юмор: 0.2\n",
      "Спорт: 0.4/Инвестиции: 0.4/Соцсети: 0.2\n",
      "Юмор: 0.5/Спорт: 0.5/Реклама: 0.5\n",
      "Юмор: 0.5/Соцсети: 0.5/Реклама: 0.5\n",
      "Спорт: 0.5/Политика: 0.2/Реклама: 0.3\n",
      "Спорт: 0.6/Юмор: 0.2/Личная жизнь: 0.2\n",
      "Спорт: 0.5/Политика: 0.3/Соцсети: 0.2\n",
      "Реклама: 1.0/Спорт: 0.5\n",
      "Спорт: 0.4/Политика: 0.3/Соцсети: 0.3\n",
      "Реклама: 0.5/Спорт: 0.5/Юмор: 0.5\n",
      "Спорт: 0.9/Соцсети: 0.1\n",
      "Юмор: 0.6/Спорт: 0.4\n",
      "Юмор: 0.6/Политика: 0.4\n",
      "Юмор: 1.0/Соцсети: 0.5/Личная жизнь: 0.5\n",
      "Юмор: 1.0/Lичная жизнь: 0.5\n",
      "Личная жизнь: 0.8/Юмор: 0.2\n",
      "Юмор: 1.0/Личная жизнь: 0.5\n",
      "Спорт: 0.4/Личная жизнь: 0.3/Юмор: 0.3\n"
     ]
    }
   ],
   "source": [
    "# Посмотрим все строки:\n",
    "for response in df['response'].unique():\n",
    "    print(response)"
   ]
  },
  {
   "cell_type": "markdown",
   "metadata": {
    "id": "xKEx2YsyzXIc"
   },
   "source": [
    "Надо как-то придумать, как это все разбить и надо ли степень уверенности делать 1 максимально.\n",
    "Наверное, лучше вместо 1 сделать 7 столбиков и как-то с ними работать. Но сперва соединим все текстовые в одну"
   ]
  },
  {
   "cell_type": "code",
   "execution_count": 23,
   "metadata": {
    "id": "uUweBtsvwXX9"
   },
   "outputs": [],
   "source": [
    "# Более читаемый вариант создания full_text\n",
    "def combine_texts(row):\n",
    "    parts = [row['doc_text']]\n",
    "    if pd.notna(row['image2text']):\n",
    "        parts.append(row['image2text'])\n",
    "    if pd.notna(row['speech2text']):\n",
    "        parts.append(row['speech2text'])\n",
    "    return ' '.join(parts)\n",
    "\n",
    "df['full_text'] = df.apply(combine_texts, axis=1)\n",
    "df = df[['full_text', 'response']]\n"
   ]
  },
  {
   "cell_type": "code",
   "execution_count": 24,
   "metadata": {
    "colab": {
     "base_uri": "https://localhost:8080/",
     "height": 423
    },
    "executionInfo": {
     "elapsed": 72,
     "status": "ok",
     "timestamp": 1745517860868,
     "user": {
      "displayName": "Igor Kamerzan",
      "userId": "17144812295677115809"
     },
     "user_tz": -180
    },
    "id": "PJBl_sgFv8rX",
    "outputId": "d51ff516-6913-4b71-aa17-7971d3ed1b31"
   },
   "outputs": [
    {
     "data": {
      "text/html": [
       "<div>\n",
       "<style scoped>\n",
       "    .dataframe tbody tr th:only-of-type {\n",
       "        vertical-align: middle;\n",
       "    }\n",
       "\n",
       "    .dataframe tbody tr th {\n",
       "        vertical-align: top;\n",
       "    }\n",
       "\n",
       "    .dataframe thead th {\n",
       "        text-align: right;\n",
       "    }\n",
       "</style>\n",
       "<table border=\"1\" class=\"dataframe\">\n",
       "  <thead>\n",
       "    <tr style=\"text-align: right;\">\n",
       "      <th></th>\n",
       "      <th>full_text</th>\n",
       "      <th>response</th>\n",
       "    </tr>\n",
       "  </thead>\n",
       "  <tbody>\n",
       "    <tr>\n",
       "      <th>0</th>\n",
       "      <td>Твой лучший секс спрятан здесь 🔞  Делюсь канал...</td>\n",
       "      <td>Нет категории</td>\n",
       "    </tr>\n",
       "    <tr>\n",
       "      <th>1</th>\n",
       "      <td>⭐️  Кнопка: ⭐️START⭐️(https://t.me/major/start...</td>\n",
       "      <td>Нет категории</td>\n",
       "    </tr>\n",
       "    <tr>\n",
       "      <th>2</th>\n",
       "      <td>А продолжение где? Правильно. В моем сообществ...</td>\n",
       "      <td>Соцсети: 1.0</td>\n",
       "    </tr>\n",
       "    <tr>\n",
       "      <th>3</th>\n",
       "      <td>Тем временем моя авторская телега уверенно в т...</td>\n",
       "      <td>Соцсети: 0.7/Политика: 0.3</td>\n",
       "    </tr>\n",
       "    <tr>\n",
       "      <th>4</th>\n",
       "      <td>У меня есть двоюродная сестра, у нее есть сын ...</td>\n",
       "      <td>Соцсети: 0.6/Юмор: 0.4</td>\n",
       "    </tr>\n",
       "    <tr>\n",
       "      <th>...</th>\n",
       "      <td>...</td>\n",
       "      <td>...</td>\n",
       "    </tr>\n",
       "    <tr>\n",
       "      <th>995</th>\n",
       "      <td>Отказали ноги, стандартная ситуация!  #щербако...</td>\n",
       "      <td>Нет категории</td>\n",
       "    </tr>\n",
       "    <tr>\n",
       "      <th>996</th>\n",
       "      <td>Осторожно пропала собака! #алексейщербаков #ще...</td>\n",
       "      <td>Нет категории</td>\n",
       "    </tr>\n",
       "    <tr>\n",
       "      <th>997</th>\n",
       "      <td>Для ваших огонёчков🔥 v к видео на телефонах ог...</td>\n",
       "      <td>Юмор: 0.5/Спорт: 0.5</td>\n",
       "    </tr>\n",
       "    <tr>\n",
       "      <th>998</th>\n",
       "      <td>#зиминарулит 😂😂😂 #актрисатеатраикино  #виктори...</td>\n",
       "      <td>Соцсети: 0.7/Юмор: 0.3</td>\n",
       "    </tr>\n",
       "    <tr>\n",
       "      <th>999</th>\n",
       "      <td>Девочки, ну мы?!  @katiashmatia правильно пост...</td>\n",
       "      <td>Соцсети: 0.5/Юмор: 0.5</td>\n",
       "    </tr>\n",
       "  </tbody>\n",
       "</table>\n",
       "<p>6000 rows × 2 columns</p>\n",
       "</div>"
      ],
      "text/plain": [
       "                                             full_text  \\\n",
       "0    Твой лучший секс спрятан здесь 🔞  Делюсь канал...   \n",
       "1    ⭐️  Кнопка: ⭐️START⭐️(https://t.me/major/start...   \n",
       "2    А продолжение где? Правильно. В моем сообществ...   \n",
       "3    Тем временем моя авторская телега уверенно в т...   \n",
       "4    У меня есть двоюродная сестра, у нее есть сын ...   \n",
       "..                                                 ...   \n",
       "995  Отказали ноги, стандартная ситуация!  #щербако...   \n",
       "996  Осторожно пропала собака! #алексейщербаков #ще...   \n",
       "997  Для ваших огонёчков🔥 v к видео на телефонах ог...   \n",
       "998  #зиминарулит 😂😂😂 #актрисатеатраикино  #виктори...   \n",
       "999  Девочки, ну мы?!  @katiashmatia правильно пост...   \n",
       "\n",
       "                       response  \n",
       "0                 Нет категории  \n",
       "1                 Нет категории  \n",
       "2                  Соцсети: 1.0  \n",
       "3    Соцсети: 0.7/Политика: 0.3  \n",
       "4        Соцсети: 0.6/Юмор: 0.4  \n",
       "..                          ...  \n",
       "995               Нет категории  \n",
       "996               Нет категории  \n",
       "997        Юмор: 0.5/Спорт: 0.5  \n",
       "998      Соцсети: 0.7/Юмор: 0.3  \n",
       "999      Соцсети: 0.5/Юмор: 0.5  \n",
       "\n",
       "[6000 rows x 2 columns]"
      ]
     },
     "execution_count": 24,
     "metadata": {},
     "output_type": "execute_result"
    }
   ],
   "source": [
    "df"
   ]
  },
  {
   "cell_type": "markdown",
   "metadata": {
    "id": "EyNdhhIk1Yla"
   },
   "source": [
    "А еще я заметил аномалии во фразах\n",
    "Lичная жизнь и Sпорт, а еще есть лишние категории в виде \"Музыка\", \"Путешествия\", \"Работа\", \"Инвестиции\"\n",
    "\n",
    "А еще заодно надо отнормировать по вероятности."
   ]
  },
  {
   "cell_type": "code",
   "execution_count": 25,
   "metadata": {
    "colab": {
     "base_uri": "https://localhost:8080/"
    },
    "executionInfo": {
     "elapsed": 1432,
     "status": "ok",
     "timestamp": 1745517862336,
     "user": {
      "displayName": "Igor Kamerzan",
      "userId": "17144812295677115809"
     },
     "user_tz": -180
    },
    "id": "sTP80v2U2Me1",
    "outputId": "c12264af-98c6-4e50-8254-45cc182c08ee"
   },
   "outputs": [
    {
     "name": "stdout",
     "output_type": "stream",
     "text": [
      "   Спорт  Личная жизнь  Юмор  Соцсети  Политика  Реклама  Нет категории\n",
      "0    0.0           0.0   0.0      0.0       0.0      0.0            1.0\n",
      "1    0.0           0.0   0.0      0.0       0.0      0.0            1.0\n",
      "2    0.0           0.0   0.0      1.0       0.0      0.0            0.0\n",
      "3    0.0           0.0   0.0      0.7       0.3      0.0            0.0\n",
      "4    0.0           0.0   0.4      0.6       0.0      0.0            0.0\n"
     ]
    }
   ],
   "source": [
    "import pandas as pd\n",
    "import re\n",
    "\n",
    "main_categories = ['Спорт', 'Личная жизнь', 'Юмор', 'Соцсети', 'Политика', 'Реклама', 'Нет категории']\n",
    "\n",
    "# Функция для исправления опечаток и нормализации чисел\n",
    "def fix_typos_and_numbers(text):\n",
    "    if pd.isna(text):\n",
    "        return text\n",
    "\n",
    "    text = str(text)\n",
    "    text = re.sub(r'Lичная жизнь', 'Личная жизнь', text)\n",
    "    text = re.sub(r'Sпорт', 'Спорт', text)\n",
    "\n",
    "    # Защитная замена запятых на точки в дробях (если вдруг появятся)\n",
    "    text = re.sub(r'(\\d),(\\d)', r'\\1.\\2', text)\n",
    "\n",
    "    return text\n",
    "\n",
    "#применяем исправления\n",
    "df['response'] = df['response'].apply(fix_typos_and_numbers)\n",
    "\n",
    "# Функция для извлечения весов категорий\n",
    "def extract_weights(text):\n",
    "    weights = {category: 0.0 for category in main_categories}\n",
    "\n",
    "    if pd.isna(text) or text.strip() == '':\n",
    "        weights['Нет категории'] = 1.0\n",
    "        return weights\n",
    "\n",
    "    if 'Нет категории' in text:\n",
    "        weights['Нет категории'] = 1.0\n",
    "        return weights\n",
    "\n",
    "    parts = re.split(r'/', text)\n",
    "\n",
    "    for part in parts:\n",
    "        part = part.strip()\n",
    "        if not part:\n",
    "            continue\n",
    "\n",
    "        # Ищем название категории и вес (теперь поддерживаем оба формата: 0.5 и 0,5)\n",
    "        match = re.match(r'([^0-9]+)(\\d+[.,]\\d+|\\d+)', part)\n",
    "        if match:\n",
    "            category = match.group(1).strip()\n",
    "            weight_str = match.group(2).replace(',', '.')  # Заменяем запятую на точку\n",
    "            weight = float(weight_str)\n",
    "\n",
    "            category = category.replace(':', '').strip()\n",
    "\n",
    "            found = False\n",
    "            for cat in main_categories:\n",
    "                if cat in category:\n",
    "                    weights[cat] += weight\n",
    "                    found = True\n",
    "                    break\n",
    "\n",
    "            if not found:\n",
    "                weights['Нет категории'] += weight\n",
    "\n",
    "    # Нормализация весов\n",
    "    total = sum(weights.values())\n",
    "    if total > 0:\n",
    "        for cat in weights:\n",
    "            weights[cat] = round(weights[cat] / total, 4)  # Округляем до 4 знаков\n",
    "\n",
    "    return weights\n",
    "\n",
    "weights_df = df['response'].apply(lambda x: pd.Series(extract_weights(x)))\n",
    "\n",
    "# Объединяем с исходным df\n",
    "df = pd.concat([df, weights_df], axis=1)\n",
    "\n",
    "print(df[main_categories].head())"
   ]
  },
  {
   "cell_type": "markdown",
   "metadata": {
    "id": "ucCNV0d_0rE3"
   },
   "source": [
    "Удаляем ненужные колонки"
   ]
  },
  {
   "cell_type": "code",
   "execution_count": 26,
   "metadata": {
    "id": "ylrViqS93B68"
   },
   "outputs": [],
   "source": [
    "final_columns = ['full_text'] + main_categories\n",
    "df = df[final_columns]"
   ]
  },
  {
   "cell_type": "markdown",
   "metadata": {
    "id": "hYVApNp15WUB"
   },
   "source": [
    "Заметил, что есть строчки, у которых начало одинаковое, но по итогу они различаются. Давайте их удалим от греха подальше, оставив только те, которые длиннее, а еще регистр сделаем нижний."
   ]
  },
  {
   "cell_type": "code",
   "execution_count": 27,
   "metadata": {
    "id": "6-rVCgkW6aWA"
   },
   "outputs": [],
   "source": [
    "import pandas as pd\n",
    "\n",
    "# Приводим тексты к нижнему регистру\n",
    "df['full_text'] = df['full_text'].str.lower()\n",
    "\n",
    "# Создаём столбец с префиксами (первые 60 символов)\n",
    "df['prefix'] = df['full_text'].str[:40]\n",
    "\n",
    "# Добавляем столбец с длиной текста\n",
    "df['text_length'] = df['full_text'].str.len()\n",
    "\n",
    "# Сортируем по длине строки, чтобы длинные были первыми\n",
    "df = df.sort_values(by='text_length', ascending=False)\n",
    "\n",
    "#Оставляем более длинную версию\n",
    "df = df.drop_duplicates(subset='prefix', keep='first')\n",
    "\n",
    "df = df.drop(columns=['prefix', 'text_length'])"
   ]
  },
  {
   "cell_type": "code",
   "execution_count": 28,
   "metadata": {
    "colab": {
     "base_uri": "https://localhost:8080/"
    },
    "executionInfo": {
     "elapsed": 15,
     "status": "ok",
     "timestamp": 1745517862413,
     "user": {
      "displayName": "Igor Kamerzan",
      "userId": "17144812295677115809"
     },
     "user_tz": -180
    },
    "id": "5XpABWD96yY1",
    "outputId": "4695b1a3-0070-42c8-ee40-b8a768c68b1f"
   },
   "outputs": [
    {
     "name": "stdout",
     "output_type": "stream",
     "text": [
      "<class 'pandas.core.frame.DataFrame'>\n",
      "Index: 4984 entries, 614 to 38\n",
      "Data columns (total 8 columns):\n",
      " #   Column         Non-Null Count  Dtype  \n",
      "---  ------         --------------  -----  \n",
      " 0   full_text      4984 non-null   object \n",
      " 1   Спорт          4984 non-null   float64\n",
      " 2   Личная жизнь   4984 non-null   float64\n",
      " 3   Юмор           4984 non-null   float64\n",
      " 4   Соцсети        4984 non-null   float64\n",
      " 5   Политика       4984 non-null   float64\n",
      " 6   Реклама        4984 non-null   float64\n",
      " 7   Нет категории  4984 non-null   float64\n",
      "dtypes: float64(7), object(1)\n",
      "memory usage: 350.4+ KB\n"
     ]
    }
   ],
   "source": [
    "df.info()"
   ]
  },
  {
   "cell_type": "markdown",
   "metadata": {
    "id": "cOas9MtV7JGJ"
   },
   "source": [
    "Ну и теперь скачаем эксельку"
   ]
  },
  {
   "cell_type": "code",
   "execution_count": 29,
   "metadata": {
    "id": "CelX1Ehd7Ifp"
   },
   "outputs": [],
   "source": [
    "df.to_excel('../data/processed/final.xlsx')"
   ]
  },
  {
   "cell_type": "markdown",
   "metadata": {
    "id": "M5Stv1Sr66ck"
   },
   "source": [
    "Вообще теперь с этим можно работать.\n",
    "А еще можно сделать свои эмбеддинги, если очень хочется и посмотреть word_clouds и отобразить закон ципфа на полученных текстах, но как-нибудь потом"
   ]
  }
 ],
 "metadata": {
  "colab": {
   "provenance": [
    {
     "file_id": "1Zweerob1ZuBxZ3vq3PJxGLBORBULMJ_7",
     "timestamp": 1745522321029
    }
   ]
  },
  "kernelspec": {
   "display_name": "Python 3 (ipykernel)",
   "language": "python",
   "name": "python3"
  },
  "language_info": {
   "codemirror_mode": {
    "name": "ipython",
    "version": 3
   },
   "file_extension": ".py",
   "mimetype": "text/x-python",
   "name": "python",
   "nbconvert_exporter": "python",
   "pygments_lexer": "ipython3",
   "version": "3.11.7"
  }
 },
 "nbformat": 4,
 "nbformat_minor": 4
}
