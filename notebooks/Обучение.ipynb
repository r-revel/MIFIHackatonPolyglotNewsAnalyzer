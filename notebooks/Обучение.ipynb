{
 "cells": [
  {
   "cell_type": "markdown",
   "id": "86a5bc74-a048-486e-a6e7-bc948d3ae856",
   "metadata": {},
   "source": [
    "# Обучение модели ai-forever/ruRoberta-large для multi-label классификации"
   ]
  },
  {
   "cell_type": "code",
   "execution_count": 1,
   "id": "014a3a50-0b8c-4654-ba46-694c181ccfa9",
   "metadata": {},
   "outputs": [],
   "source": [
    "!pip install pandas scikit-learn transformers optuna scikit-multilearn openpyxl matplotlib -q "
   ]
  },
  {
   "cell_type": "code",
   "execution_count": 2,
   "id": "2e7ff4ff-709f-4836-9a69-57ceeeb737cd",
   "metadata": {},
   "outputs": [
    {
     "name": "stdout",
     "output_type": "stream",
     "text": [
      "transformers version: 4.51.3\n",
      "NumPy version: 1.23.5\n",
      "Optuna version: 4.3.0\n",
      "Matplotlib version: 3.10.1\n"
     ]
    }
   ],
   "source": [
    "import pandas as pd\n",
    "import numpy as np\n",
    "import torch\n",
    "import matplotlib\n",
    "import matplotlib.pyplot as plt\n",
    "import optuna\n",
    "from sklearn.metrics import f1_score, roc_auc_score, accuracy_score, precision_recall_curve, roc_curve, auc, classification_report\n",
    "from skmultilearn.model_selection import iterative_train_test_split\n",
    "import joblib\n",
    "import transformers\n",
    "import random\n",
    "from transformers import AutoTokenizer, AutoModelForSequenceClassification, TrainingArguments, Trainer\n",
    "from torch.utils.data import Dataset\n",
    "import json\n",
    "import math\n",
    "import gc\n",
    "\n",
    "# Проверка версий библиотек\n",
    "print(\"transformers version:\", transformers.__version__)\n",
    "print(\"NumPy version:\", np.__version__)\n",
    "print(\"Optuna version:\", optuna.__version__)\n",
    "print(\"Matplotlib version:\", matplotlib.__version__)  \n"
   ]
  },
  {
   "cell_type": "code",
   "execution_count": 3,
   "id": "fac76761-f95b-4d12-a498-d9bcb8a7e04b",
   "metadata": {},
   "outputs": [],
   "source": [
    "def set_seed(seed):\n",
    "    random.seed(seed)\n",
    "    np.random.seed(seed)\n",
    "    torch.manual_seed(seed)\n",
    "    torch.cuda.manual_seed_all(seed)\n",
    "    torch.backends.cudnn.deterministic = True\n",
    "    torch.backends.cudnn.benchmark = False\n",
    "\n",
    "SEED = 42\n",
    "set_seed(SEED)"
   ]
  },
  {
   "cell_type": "code",
   "execution_count": 4,
   "id": "e28081e9-08cb-43a6-9a13-ee6a32134891",
   "metadata": {},
   "outputs": [
    {
     "name": "stdout",
     "output_type": "stream",
     "text": [
      "Размер датасета: (4984, 9)\n"
     ]
    },
    {
     "data": {
      "text/html": [
       "<div>\n",
       "<style scoped>\n",
       "    .dataframe tbody tr th:only-of-type {\n",
       "        vertical-align: middle;\n",
       "    }\n",
       "\n",
       "    .dataframe tbody tr th {\n",
       "        vertical-align: top;\n",
       "    }\n",
       "\n",
       "    .dataframe thead th {\n",
       "        text-align: right;\n",
       "    }\n",
       "</style>\n",
       "<table border=\"1\" class=\"dataframe\">\n",
       "  <thead>\n",
       "    <tr style=\"text-align: right;\">\n",
       "      <th></th>\n",
       "      <th>Unnamed: 0</th>\n",
       "      <th>full_text</th>\n",
       "      <th>Спорт</th>\n",
       "      <th>Личная жизнь</th>\n",
       "      <th>Юмор</th>\n",
       "      <th>Соцсети</th>\n",
       "      <th>Политика</th>\n",
       "      <th>Реклама</th>\n",
       "      <th>Нет категории</th>\n",
       "    </tr>\n",
       "  </thead>\n",
       "  <tbody>\n",
       "    <tr>\n",
       "      <th>0</th>\n",
       "      <td>614</td>\n",
       "      <td>лебединая песня… (с подтекстом)  2024 год - го...</td>\n",
       "      <td>0.0</td>\n",
       "      <td>0.0</td>\n",
       "      <td>0.0</td>\n",
       "      <td>0.0</td>\n",
       "      <td>0.0</td>\n",
       "      <td>1.0</td>\n",
       "      <td>0.0</td>\n",
       "    </tr>\n",
       "    <tr>\n",
       "      <th>1</th>\n",
       "      <td>789</td>\n",
       "      <td>ура конкурс!!!!!!!  одарим же!!! всех любимых ...</td>\n",
       "      <td>0.0</td>\n",
       "      <td>0.0</td>\n",
       "      <td>0.0</td>\n",
       "      <td>0.0</td>\n",
       "      <td>0.0</td>\n",
       "      <td>1.0</td>\n",
       "      <td>0.0</td>\n",
       "    </tr>\n",
       "    <tr>\n",
       "      <th>2</th>\n",
       "      <td>628</td>\n",
       "      <td>славянский зодиак  для познания себе, если еще...</td>\n",
       "      <td>0.0</td>\n",
       "      <td>0.0</td>\n",
       "      <td>0.0</td>\n",
       "      <td>0.5</td>\n",
       "      <td>0.0</td>\n",
       "      <td>0.5</td>\n",
       "      <td>0.0</td>\n",
       "    </tr>\n",
       "    <tr>\n",
       "      <th>3</th>\n",
       "      <td>531</td>\n",
       "      <td>английским газетам тяжело даётся ожидание фина...</td>\n",
       "      <td>1.0</td>\n",
       "      <td>0.0</td>\n",
       "      <td>0.0</td>\n",
       "      <td>0.0</td>\n",
       "      <td>0.0</td>\n",
       "      <td>0.0</td>\n",
       "      <td>0.0</td>\n",
       "    </tr>\n",
       "    <tr>\n",
       "      <th>4</th>\n",
       "      <td>347</td>\n",
       "      <td>итак, самое главное:) по фактам! по минутам, с...</td>\n",
       "      <td>1.0</td>\n",
       "      <td>0.0</td>\n",
       "      <td>0.0</td>\n",
       "      <td>0.0</td>\n",
       "      <td>0.0</td>\n",
       "      <td>0.0</td>\n",
       "      <td>0.0</td>\n",
       "    </tr>\n",
       "  </tbody>\n",
       "</table>\n",
       "</div>"
      ],
      "text/plain": [
       "   Unnamed: 0                                          full_text  Спорт  \\\n",
       "0         614  лебединая песня… (с подтекстом)  2024 год - го...    0.0   \n",
       "1         789  ура конкурс!!!!!!!  одарим же!!! всех любимых ...    0.0   \n",
       "2         628  славянский зодиак  для познания себе, если еще...    0.0   \n",
       "3         531  английским газетам тяжело даётся ожидание фина...    1.0   \n",
       "4         347  итак, самое главное:) по фактам! по минутам, с...    1.0   \n",
       "\n",
       "   Личная жизнь  Юмор  Соцсети  Политика  Реклама  Нет категории  \n",
       "0           0.0   0.0      0.0       0.0      1.0            0.0  \n",
       "1           0.0   0.0      0.0       0.0      1.0            0.0  \n",
       "2           0.0   0.0      0.5       0.0      0.5            0.0  \n",
       "3           0.0   0.0      0.0       0.0      0.0            0.0  \n",
       "4           0.0   0.0      0.0       0.0      0.0            0.0  "
      ]
     },
     "execution_count": 4,
     "metadata": {},
     "output_type": "execute_result"
    }
   ],
   "source": [
    "# Загрузка датасета\n",
    "data_path = \"../data/processed/final.xlsx\"\n",
    "df = pd.read_excel(data_path)\n",
    "\n",
    "# Посмотрим на первые строки и общую информацию\n",
    "print(\"Размер датасета:\", df.shape)\n",
    "df.head(5)\n"
   ]
  },
  {
   "cell_type": "code",
   "execution_count": 5,
   "id": "b39f918d-c789-4f3d-8d93-051459acc8b5",
   "metadata": {},
   "outputs": [
    {
     "name": "stdout",
     "output_type": "stream",
     "text": [
      "Колонки тем: ['Спорт', 'Личная жизнь', 'Юмор', 'Соцсети', 'Политика', 'Реклама', 'Нет категории']\n",
      "Количество тем: 7\n"
     ]
    }
   ],
   "source": [
    "# Определяем список тематик (берем из колонок кроме full_text)\n",
    "all_columns = list(df.columns)\n",
    "label_cols = [col for col in all_columns if col not in ('full_text', 'Unnamed: 0')]\n",
    "print(\"Колонки тем:\", label_cols)\n",
    "num_topics = len(label_cols)\n",
    "print(\"Количество тем:\", num_topics)\n"
   ]
  },
  {
   "cell_type": "code",
   "execution_count": 6,
   "id": "e256e9ff-eba7-49b0-a4f3-9a85830a8cbf",
   "metadata": {},
   "outputs": [
    {
     "data": {
      "text/html": [
       "<div>\n",
       "<style scoped>\n",
       "    .dataframe tbody tr th:only-of-type {\n",
       "        vertical-align: middle;\n",
       "    }\n",
       "\n",
       "    .dataframe tbody tr th {\n",
       "        vertical-align: top;\n",
       "    }\n",
       "\n",
       "    .dataframe thead th {\n",
       "        text-align: right;\n",
       "    }\n",
       "</style>\n",
       "<table border=\"1\" class=\"dataframe\">\n",
       "  <thead>\n",
       "    <tr style=\"text-align: right;\">\n",
       "      <th></th>\n",
       "      <th>Unnamed: 0</th>\n",
       "      <th>full_text</th>\n",
       "      <th>Спорт</th>\n",
       "      <th>Личная жизнь</th>\n",
       "      <th>Юмор</th>\n",
       "      <th>Соцсети</th>\n",
       "      <th>Политика</th>\n",
       "      <th>Реклама</th>\n",
       "      <th>Нет категории</th>\n",
       "      <th>Спорт_label</th>\n",
       "      <th>Личная жизнь_label</th>\n",
       "      <th>Юмор_label</th>\n",
       "      <th>Соцсети_label</th>\n",
       "      <th>Политика_label</th>\n",
       "      <th>Реклама_label</th>\n",
       "      <th>Нет категории_label</th>\n",
       "    </tr>\n",
       "  </thead>\n",
       "  <tbody>\n",
       "    <tr>\n",
       "      <th>0</th>\n",
       "      <td>614</td>\n",
       "      <td>лебединая песня… (с подтекстом)  2024 год - го...</td>\n",
       "      <td>0.0</td>\n",
       "      <td>0.0</td>\n",
       "      <td>0.0</td>\n",
       "      <td>0.0</td>\n",
       "      <td>0.0</td>\n",
       "      <td>1.0</td>\n",
       "      <td>0.0</td>\n",
       "      <td>0</td>\n",
       "      <td>0</td>\n",
       "      <td>0</td>\n",
       "      <td>0</td>\n",
       "      <td>0</td>\n",
       "      <td>1</td>\n",
       "      <td>0</td>\n",
       "    </tr>\n",
       "    <tr>\n",
       "      <th>1</th>\n",
       "      <td>789</td>\n",
       "      <td>ура конкурс!!!!!!!  одарим же!!! всех любимых ...</td>\n",
       "      <td>0.0</td>\n",
       "      <td>0.0</td>\n",
       "      <td>0.0</td>\n",
       "      <td>0.0</td>\n",
       "      <td>0.0</td>\n",
       "      <td>1.0</td>\n",
       "      <td>0.0</td>\n",
       "      <td>0</td>\n",
       "      <td>0</td>\n",
       "      <td>0</td>\n",
       "      <td>0</td>\n",
       "      <td>0</td>\n",
       "      <td>1</td>\n",
       "      <td>0</td>\n",
       "    </tr>\n",
       "    <tr>\n",
       "      <th>2</th>\n",
       "      <td>628</td>\n",
       "      <td>славянский зодиак  для познания себе, если еще...</td>\n",
       "      <td>0.0</td>\n",
       "      <td>0.0</td>\n",
       "      <td>0.0</td>\n",
       "      <td>0.5</td>\n",
       "      <td>0.0</td>\n",
       "      <td>0.5</td>\n",
       "      <td>0.0</td>\n",
       "      <td>0</td>\n",
       "      <td>0</td>\n",
       "      <td>0</td>\n",
       "      <td>1</td>\n",
       "      <td>0</td>\n",
       "      <td>1</td>\n",
       "      <td>0</td>\n",
       "    </tr>\n",
       "    <tr>\n",
       "      <th>3</th>\n",
       "      <td>531</td>\n",
       "      <td>английским газетам тяжело даётся ожидание фина...</td>\n",
       "      <td>1.0</td>\n",
       "      <td>0.0</td>\n",
       "      <td>0.0</td>\n",
       "      <td>0.0</td>\n",
       "      <td>0.0</td>\n",
       "      <td>0.0</td>\n",
       "      <td>0.0</td>\n",
       "      <td>1</td>\n",
       "      <td>0</td>\n",
       "      <td>0</td>\n",
       "      <td>0</td>\n",
       "      <td>0</td>\n",
       "      <td>0</td>\n",
       "      <td>0</td>\n",
       "    </tr>\n",
       "    <tr>\n",
       "      <th>4</th>\n",
       "      <td>347</td>\n",
       "      <td>итак, самое главное:) по фактам! по минутам, с...</td>\n",
       "      <td>1.0</td>\n",
       "      <td>0.0</td>\n",
       "      <td>0.0</td>\n",
       "      <td>0.0</td>\n",
       "      <td>0.0</td>\n",
       "      <td>0.0</td>\n",
       "      <td>0.0</td>\n",
       "      <td>1</td>\n",
       "      <td>0</td>\n",
       "      <td>0</td>\n",
       "      <td>0</td>\n",
       "      <td>0</td>\n",
       "      <td>0</td>\n",
       "      <td>0</td>\n",
       "    </tr>\n",
       "  </tbody>\n",
       "</table>\n",
       "</div>"
      ],
      "text/plain": [
       "   Unnamed: 0                                          full_text  Спорт  \\\n",
       "0         614  лебединая песня… (с подтекстом)  2024 год - го...    0.0   \n",
       "1         789  ура конкурс!!!!!!!  одарим же!!! всех любимых ...    0.0   \n",
       "2         628  славянский зодиак  для познания себе, если еще...    0.0   \n",
       "3         531  английским газетам тяжело даётся ожидание фина...    1.0   \n",
       "4         347  итак, самое главное:) по фактам! по минутам, с...    1.0   \n",
       "\n",
       "   Личная жизнь  Юмор  Соцсети  Политика  Реклама  Нет категории  Спорт_label  \\\n",
       "0           0.0   0.0      0.0       0.0      1.0            0.0            0   \n",
       "1           0.0   0.0      0.0       0.0      1.0            0.0            0   \n",
       "2           0.0   0.0      0.5       0.0      0.5            0.0            0   \n",
       "3           0.0   0.0      0.0       0.0      0.0            0.0            1   \n",
       "4           0.0   0.0      0.0       0.0      0.0            0.0            1   \n",
       "\n",
       "   Личная жизнь_label  Юмор_label  Соцсети_label  Политика_label  \\\n",
       "0                   0           0              0               0   \n",
       "1                   0           0              0               0   \n",
       "2                   0           0              1               0   \n",
       "3                   0           0              0               0   \n",
       "4                   0           0              0               0   \n",
       "\n",
       "   Реклама_label  Нет категории_label  \n",
       "0              1                    0  \n",
       "1              1                    0  \n",
       "2              1                    0  \n",
       "3              0                    0  \n",
       "4              0                    0  "
      ]
     },
     "execution_count": 6,
     "metadata": {},
     "output_type": "execute_result"
    }
   ],
   "source": [
    "# Преобразуем вероятности в 0/1 при пороге 0.5\n",
    "threshold = 0.5\n",
    "df_labels = (df[label_cols] >= threshold).astype(int)\n",
    "\n",
    "# Добавим бинарные метки к таблице (для ясности, необязательно)\n",
    "for col in label_cols:\n",
    "    df[f\"{col}_label\"] = df_labels[col]\n",
    "\n",
    "# Посмотрим фрагмент обновленных данных\n",
    "df.head(5)\n"
   ]
  },
  {
   "cell_type": "code",
   "execution_count": 7,
   "id": "0ec78827-90a9-4c77-95aa-5bd123609f68",
   "metadata": {},
   "outputs": [
    {
     "name": "stdout",
     "output_type": "stream",
     "text": [
      "Число текстов по темам:\n",
      "Спорт            1590\n",
      "Личная жизнь      743\n",
      "Юмор              892\n",
      "Соцсети          1345\n",
      "Политика          573\n",
      "Реклама           571\n",
      "Нет категории     593\n",
      "dtype: int64\n",
      "\n",
      "Распределение числа меток на текст:\n",
      "1    3611\n",
      "2    1348\n",
      "0      25\n",
      "Name: count, dtype: int64 \n",
      "Среднее: 1.2654494382022472\n"
     ]
    }
   ],
   "source": [
    "# Количество текстов, содержащих каждую тему (частота меток)\n",
    "label_counts = df_labels.sum()\n",
    "print(\"Число текстов по темам:\")\n",
    "print(label_counts)\n",
    "\n",
    "# Среднее и распределение числа тем на текст\n",
    "labels_per_text = df_labels.sum(axis=1)\n",
    "print(\"\\nРаспределение числа меток на текст:\")\n",
    "print(labels_per_text.value_counts(), \"\\nСреднее:\", labels_per_text.mean())\n"
   ]
  },
  {
   "cell_type": "code",
   "execution_count": 8,
   "id": "56d2326a-9fef-4440-8f22-a98244879c39",
   "metadata": {},
   "outputs": [
    {
     "name": "stdout",
     "output_type": "stream",
     "text": [
      "Обучающая выборка: 3987 текстов\n",
      "Валидационная выборка: 997 текстов\n"
     ]
    }
   ],
   "source": [
    "# Преобразуем данные для разделения\n",
    "X = df['full_text'].values.reshape(-1, 1)   \n",
    "Y = df_labels.values                        \n",
    "\n",
    "# Выполняем стратифицированное разделение на train/val\n",
    "test_size = 0.2\n",
    "X_train, y_train, X_val, y_val = iterative_train_test_split(X, Y, test_size=test_size)\n",
    "\n",
    "# Преобразуем обратно в списки/таблицы\n",
    "train_texts = X_train.ravel()   # превращаем (n,1) обратно в (n,)\n",
    "val_texts = X_val.ravel()\n",
    "train_labels = y_train\n",
    "val_labels = y_val\n",
    "\n",
    "print(f\"Обучающая выборка: {len(train_texts)} текстов\")\n",
    "print(f\"Валидационная выборка: {len(val_texts)} текстов\")\n"
   ]
  },
  {
   "cell_type": "code",
   "execution_count": 9,
   "id": "4d84c742-f7c8-49be-a154-bcfaa3d505b1",
   "metadata": {},
   "outputs": [
    {
     "name": "stdout",
     "output_type": "stream",
     "text": [
      "Доля положительных примеров по темам в выборках:\n",
      "               train_frac  val_frac\n",
      "Спорт            0.319037  0.318957\n",
      "Личная жизнь     0.148984  0.149448\n",
      "Юмор             0.179082  0.178536\n",
      "Соцсети          0.269877  0.269809\n",
      "Политика         0.114873  0.115346\n",
      "Реклама          0.114623  0.114343\n",
      "Нет категории    0.118886  0.119358\n"
     ]
    }
   ],
   "source": [
    "train_label_freq = train_labels.mean(axis=0)\n",
    "val_label_freq = val_labels.mean(axis=0)\n",
    "freq_df = pd.DataFrame({'train_frac': train_label_freq, 'val_frac': val_label_freq}, index=label_cols)\n",
    "print(\"Доля положительных примеров по темам в выборках:\")\n",
    "print(freq_df)\n"
   ]
  },
  {
   "cell_type": "code",
   "execution_count": 10,
   "id": "ca784e66-6edc-45ab-803e-0004a9865915",
   "metadata": {},
   "outputs": [],
   "source": [
    "model_name = \"ai-forever/ruRoberta-large\"\n",
    "#model_name = \"cointegrated/rubert-tiny\"\n",
    "tokenizer = AutoTokenizer.from_pretrained(model_name)\n"
   ]
  },
  {
   "cell_type": "code",
   "execution_count": 11,
   "id": "f3c274e5-a72d-4e24-8b32-3feeaddb87e0",
   "metadata": {},
   "outputs": [
    {
     "name": "stderr",
     "output_type": "stream",
     "text": [
      "Some weights of RobertaForSequenceClassification were not initialized from the model checkpoint at ai-forever/ruRoberta-large and are newly initialized: ['classifier.dense.bias', 'classifier.dense.weight', 'classifier.out_proj.bias', 'classifier.out_proj.weight']\n",
      "You should probably TRAIN this model on a down-stream task to be able to use it for predictions and inference.\n"
     ]
    },
    {
     "name": "stdout",
     "output_type": "stream",
     "text": [
      "Модель загружена. Число классов: 7\n"
     ]
    }
   ],
   "source": [
    "num_labels = num_topics  # количество тем\n",
    "# Создаем сопоставление индексов и названий тем\n",
    "id2label = {i: label for i, label in enumerate(label_cols)}\n",
    "label2id = {label: i for i, label in id2label.items()}\n",
    "\n",
    "# Загружаем модель для классификации\n",
    "model = AutoModelForSequenceClassification.from_pretrained(\n",
    "    model_name, \n",
    "    num_labels=num_labels, \n",
    "    problem_type=\"multi_label_classification\",\n",
    "    id2label=id2label,\n",
    "    label2id=label2id\n",
    ")\n",
    "print(\"Модель загружена. Число классов:\", model.config.num_labels)\n"
   ]
  },
  {
   "cell_type": "code",
   "execution_count": 12,
   "id": "33c33fce-b6c4-471d-95e4-ebeb017c1075",
   "metadata": {},
   "outputs": [
    {
     "name": "stdout",
     "output_type": "stream",
     "text": [
      "torch version: 2.5.1\n",
      "CUDA доступна: True\n",
      "Имя устройства: NVIDIA GeForce RTX 3080 Ti\n",
      "Вычислительное устройство: cuda\n",
      "Sat Apr 26 22:26:11 2025       \n",
      "+-----------------------------------------------------------------------------------------+\n",
      "| NVIDIA-SMI 550.163.01             Driver Version: 550.163.01     CUDA Version: 12.4     |\n",
      "|-----------------------------------------+------------------------+----------------------+\n",
      "| GPU  Name                 Persistence-M | Bus-Id          Disp.A | Volatile Uncorr. ECC |\n",
      "| Fan  Temp   Perf          Pwr:Usage/Cap |           Memory-Usage | GPU-Util  Compute M. |\n",
      "|                                         |                        |               MIG M. |\n",
      "|=========================================+========================+======================|\n",
      "|   0  NVIDIA GeForce RTX 3080 Ti     Off |   00000000:01:00.0 Off |                  N/A |\n",
      "|  0%   42C    P2             33W /  400W |    1623MiB /  12288MiB |     29%      Default |\n",
      "|                                         |                        |                  N/A |\n",
      "+-----------------------------------------+------------------------+----------------------+\n",
      "                                                                                         \n",
      "+-----------------------------------------------------------------------------------------+\n",
      "| Processes:                                                                              |\n",
      "|  GPU   GI   CI        PID   Type   Process name                              GPU Memory |\n",
      "|        ID   ID                                                               Usage      |\n",
      "|=========================================================================================|\n",
      "|    0   N/A  N/A    111847      C   ...n_Polyglot_News_Analyzer/bin/python       1616MiB |\n",
      "+-----------------------------------------------------------------------------------------+\n"
     ]
    }
   ],
   "source": [
    "print(\"torch version:\", torch.__version__)\n",
    "print(\"CUDA доступна:\", torch.cuda.is_available())\n",
    "if torch.cuda.is_available():\n",
    "    print(\"Имя устройства:\", torch.cuda.get_device_name(torch.cuda.current_device()))\n",
    "\n",
    "device = torch.device('cuda' if torch.cuda.is_available() else 'cpu')\n",
    "model.to(device)\n",
    "print(\"Вычислительное устройство:\", device)\n",
    "!nvidia-smi"
   ]
  },
  {
   "cell_type": "code",
   "execution_count": 13,
   "id": "a179f75e-8899-4a91-8638-6bf884a49d18",
   "metadata": {},
   "outputs": [
    {
     "name": "stdout",
     "output_type": "stream",
     "text": [
      "лебединая песня… (с подтекстом)  2024 год - год лебедя по зороастрийскому (некоторые считают его арийским) календарю. тотемный гороскоп от предков человечества нам достался в наследство 32-летний календарь. уникальность тотемного календаря заключается в том, что каждый год в нем имеет своего управителя — священное животное, тотем. тотемный календарь начинает действовать вдень весеннего равноденствия - 20-21-23 марта. зороастрийский новый год носит название навруз (новруз, ноурыз…) (в переводе с персидского «новый день»). если вы родились 5 января 1976 года, то смотрите себя 1975 годом. так как год в этом летоисчислении начинается весной. для информации: «наступающий 2024 год пройдет под управлением грациозного, элегантного лебедя. этот год будет связан с духовным объединением людей. пришло время подняться над материальным миром, воспарить! пора понять, что не хлебом единым жив человек. и еще, верность семье будет самым главным достоинством в глазах тотема. если вы обладаете этим даром — ждите! могут произойти невероятные чудесные события. чтобы достичь успеха и процветания в наступающем году, необходимо учитывать и стараться развивать в себе лучшие качества своего тотема. для того, чтобы тотем вас оберегал, покажите ему, какой важен для вас. приобретите фигурку этого животного, картину, игрушку или поставьте на экран компьютера заставку в виде своего защитника.» лебедь (1960, 1992, 2024) вы фаворит года! наступают счастливые времена. не ограничивайте себя в желаниях. вы добьетесь всего, чего хотите. ставку делайте на укрепление партнерских отношений. рысь (1961, 1993) для нетерпеливых и независимых рысей ключ к успеху — честность и свободолюбие. не прогибайтесь под изменчивый мир, пусть он прогнется под вас. но сдерживайте мстительность! осел (1962, 1994) трудолюбивый осел стоит у заслуженной белой полосы. вы получите от лебедя награду за проявленные в прошлые годы трудолюбие и терпение. только не упрямьтесь. белый медведь (1963, 1995) наступает время для рывка в карьере. новый статус потребует много сил. чередуйте периоды трудовой активности с отдыхом, чтобы не потерять здоровье. орел (1964, 1996) свободолюбивым орлам наступающий год грозит постоянной необходимостью бороться. за репутацию, за лучшее место, за уважение... но по итогу года у вас будет выигрышная позиция. лисица (1965, 1997) вы уверенно бежите по жизни благодаря своему магнетическому обаянию. бесперебойную поставку «сыра» обеспечат рядом живущие «вороны». но постарайтесь не интриговать! дельфин (1966, 1998) идеалисты дельфины, увы, столкнутся с несовершенством мира. но врожденная мудрость позволит принять правильное решение. у вас будет причина гордиться собой. вепрь (1967, 1999) безжалостным вепрям в предстоящем году не стоит проявлять присущую им агрессию, тогда год будет сытым и безопасным. вы наконец сможете позволить себе путешествовать! сова или филин (1968, 2000) привычка мудрых филинов сначала отмерить, а потом отрезать принесет невероятные финансовые успехи. и постарайтесь не обижать близких, тогда все будет отлично! сокол (1969, 2001) позитивного и общительного сокола ждут новые знакомства, благодаря которым откроются заманчивые возможности — и в карьере, и в личной жизни. олень (1938, 1970, 2002) для склонных к размышлениям оленей год будет гармоничным. удачных дней будет статистически гораздо больше, чем плохих. безоговорочно доверяйте своей интуиции. муфлон (1939, 1971, 2003) спокойным и послушным муфлонам не придется нервничать, поскольку год будет гармоничным. неожиданное везение поможет решить ряд финансовых вопросов. мангуст (1940, 1972, 2004) обаятельные и ловкие мангусты могут рассчитывать на рост материального благополучия, но придется много работать. чаще бывайте на природе — это даст вам силу. волк (1941, 1973, 2005) напористым волкам будет сопутствовать успех, если они возьмут под контроль свои эмоции и не будут суетиться по пустякам. велика вероятность появления друга из прошлого. аист (1942, 1974, 2006) нешаблонное мышление и творческий подход позволят вам с успехом решать как повседневные задачи, так и реализовывать стратегические судьбоносные планы. паук (1943, 1975, 2007) ловким паукам нельзя резко форсировать события. шаг вперед, два шага назад — вот ваша тактика на 2024-й. терпение и умение ждать сделают вас недосягаемыми для конкурентов. уж (1944, 1976, 2008) изворотливых и нетерпеливых ужей минуют большие неприятности, но вот мелких препятствий будет достаточно. зато 2024-й — прекрасное время улучшать жилищные условия. бобер (1945, 1977, 2009) мастеровитые и домовитые бобры получат максимальную поддержку от хозяина года — и, соответственно, всевозможные выгоды и бонусы. не рискуйте и не пускайтесь в авантюры. черепаха (1946, 1978, 2010) мудрым и неторопливым черепахам не придется «латать дыры в карманах». но и особых прибылей не ждите. и постарайтесь оказать помощь старшим родственникам. сорока (1947, 1979, 2011) бойким сорокам придется полагаться только на свои силы. неразборчивость в выборе партнера может привести к потерям и разочарованиям. доверяйте своим предчувствиям. белка (1948, 1980, 2012) трудолюбивые и запасливые белки будут много пахать для создания финансовой подушки безопасности. похвально! вторая половина года даст возможность отдохнуть. ворон (1949, 1981, 2013) серьезные и брезгливые вороны будут интуитивно чувствовать опасность, что позволит обойти острые углы без потерь. старайтесь договариваться и находить компромиссные решения. петух (1950, 1982, 2014) главный гарант вашего успеха — ваши бойцовские качества и настойчивость. идите к цели прямо и бескомпромиссно. не стоит надевать маски и играть чужие роли. бык (1951, 1983, 2015) для доверчивых и неторопливых быков год не готовит сюрпризов. но и особых неприятностей не будет. итоги года окажутся прямо пропорциональными вашему трудолюбию. барсук (1952, 1984, 2016) консервативные барсуки будут прилагать героические усилия для создания «ячейки общества». и правильно! отличный момент обрести счастье в супружеской гармонии. верблюд (1953, 1985, 2017) аскетичные и надежные верблюды вдруг захотят удовольствий. пришло время отказаться от многих самоограничений. за кардинальной сменой имиджа последуют социальные успехи. ёж (1954, 1986, 2018) осторожным и недоверчивым ежам придется пристегнуть ремни. первая половина года будет турбулентной. но если не дадите задний ход, то по итогу года окажетесь в большом выигрыше. лань (1955, 1987, 2019) вам, мечтательным и артистичным, год покажется слишком предсказуемым и потому немного «пресным». вам захочется добавить вжизнь драйва, но едва ли это принесет успех. слон (1956, 1988, 2020) уравновешенные и консервативные слоны не будут искать рискованных путей. протоптанные дороги точно приведут к «водопою», и не придется нервничать и переживать. лошадь (1957, 1989, 2021) безотказные лошади наконец-то взбрыкнут и сбросят с себя тех, кто давно сидит на их шеях. и сразу скорость жизни заметно возрастет, появится много поводов для радости и гордости. гепард (1958, 1990, 2022) элегантным и смелым гепардам придется подумать об индивидуальной деятельности, что-то не ладится в работе с коллективом. зато вдруг станет ясно: ваше хобби можно монетизировать. павлин (1927, 1959, 1991, 2023) красивые и тщеславные павлины дадут много поводов для критики. но, несмотря на происки завистников, павлины будут успешны. они смогут жить по своим, а не по чужим правилам. ссылки на альтернативное мнение и прогноз от #фатимахадуева будут позже) весеннее равноденствие - https://hadueva.com/product/z4/ лунное затмение + полнолуние - https://hadueva.com/product/kz/ коридор затмений - http://hadueva.com/product-tag/koridor/ новолуние в овне + солнечное затмение - http://hadueva.com/product-tag/novolunie/ год дракона - https://hadueva.com/product-category/dragon/ whatsapp приёмная - https://wa.me/79852257339 whatsapp школа фатимы хадуевой - https://wa.me/79165457777 ingram - https://ingram.com/fatimakhadueva ingram школа - https://ingram.com/fatimakhaduevaschool vk - http://vk.com/fatimakhadueva одноклассники - https://ok.ru/fatimakhadueva дзен - https://dzen.ru/id/5f96c9980956a032f2f31710 telegram - https://t.me/fatimakhadueva369\n",
      "[1, 5589, 1614, 396, 14091, 513, 534, 267, 2481, 11901, 300, 13, 225, 889, 5770, 605, 406, 605, 23021, 31769] ... длина: 128\n"
     ]
    }
   ],
   "source": [
    "# Токенизация текстов\n",
    "train_encodings = tokenizer(list(train_texts), padding=True, truncation=True, max_length=128)\n",
    "val_encodings = tokenizer(list(val_texts), padding=True, truncation=True, max_length=128)\n",
    "\n",
    "# Проверим пример токенизации\n",
    "print(train_texts[0])\n",
    "print(train_encodings['input_ids'][0][:20], \"...\", \"длина:\", len(train_encodings['input_ids'][0]))\n"
   ]
  },
  {
   "cell_type": "code",
   "execution_count": 14,
   "id": "d18bba2d-f82f-4851-ae48-f0d27992dd03",
   "metadata": {},
   "outputs": [
    {
     "name": "stdout",
     "output_type": "stream",
     "text": [
      "Пример батча:\n",
      "<s>лебединая песня… (с подтекстом)  2024 год - год лебедя по зороастрийскому (некоторые считают его арийским) календарю. тотемный гороскоп от предков человечества нам достался в наследство 32-летний календарь. уникальность тотемного календаря заключается в том, что каждый год в нем имеет своего управителя — священное животное, тотем. тотемный календарь начинает действовать вдень весеннего равноденствия - 20-21-23 марта. зороастрийский новый год носит название навруз (новруз, ноурыз…) (в переводе с</s> -- метки: [0. 0. 0. 0. 0. 1. 0.]\n",
      "<s>славянский зодиак  для познания себе, если еще мозг не закипел, ознакомьтесь с собой по дням и месяцам славянского зодиака. каждому месяцу в году и дате рождения соответствовало определенное животное. считалось, что люди, рожденные в этом месяце, обладали качествами этого животного. тотемы животных влияли на судьбу человека. таких животных 12, хотя есть предположение, что первоначально их было больше. самый древний славянский животный гороскоп по месяцам и дате рождения: • пес – 10.11 – 10.12  • медведь – 10.12 – 10.1  • росом</s> -- метки: [0. 0. 0. 1. 0. 1. 0.]\n"
     ]
    }
   ],
   "source": [
    "class TextDataset(Dataset):\n",
    "    def __init__(self, encodings, labels):\n",
    "        self.encodings = encodings\n",
    "        self.labels = labels.astype(np.float32)\n",
    "    def __len__(self):\n",
    "        return len(self.labels)\n",
    "    def __getitem__(self, idx):\n",
    "        item = {key: torch.tensor(val[idx]) for key, val in self.encodings.items()}\n",
    "        # Некоторые токенизаторы не выдают token_type_ids для моделей типа RoBERTa, поэтому проверим\n",
    "        if 'token_type_ids' in item and item['token_type_ids'].ndim == 1:\n",
    "            # Делаем token_type_ids того же измерения, что и input_ids\n",
    "            item['token_type_ids'] = item['token_type_ids'].unsqueeze(0)\n",
    "        item['labels'] = torch.tensor(self.labels[idx])\n",
    "        return item\n",
    "\n",
    "# Создаем объекты Dataset\n",
    "train_dataset = TextDataset(train_encodings, train_labels)\n",
    "val_dataset = TextDataset(val_encodings, val_labels)\n",
    "\n",
    "print(\"Пример батча:\")\n",
    "for i in range(2):\n",
    "    example = train_dataset[i]\n",
    "    print(tokenizer.decode(example['input_ids']), \"-- метки:\", example['labels'].numpy())\n"
   ]
  },
  {
   "cell_type": "code",
   "execution_count": 15,
   "id": "830650ce-00a2-4ca2-bd0b-503baaac5eed",
   "metadata": {},
   "outputs": [],
   "source": [
    "\n",
    "def objective(trial):\n",
    "    gc.collect()\n",
    "    torch.cuda.empty_cache()\n",
    "    # Выбираем значения гиперпараметров из заданных диапазонов\n",
    "    learning_rate = trial.suggest_float('learning_rate', 1e-5, 5e-5, log=True)\n",
    "    #batch_size = trial.suggest_categorical('batch_size', [4, 8])\n",
    "    batch_size = trial.suggest_categorical('batch_size', [8, 16])\n",
    "    num_epochs = trial.suggest_int('num_epochs', 3, 6)\n",
    "    weight_decay = trial.suggest_float('weight_decay', 0.0, 0.1)\n",
    "    \n",
    "    # Инициализируем новую модель с исходными (pretrained) весами для данного trial\n",
    "    model_trial = AutoModelForSequenceClassification.from_pretrained(\n",
    "        model_name, \n",
    "        num_labels=num_labels, \n",
    "        problem_type=\"multi_label_classification\",\n",
    "        id2label=id2label,\n",
    "        label2id=label2id\n",
    "    )\n",
    "    model_trial.to(device)\n",
    "    \n",
    "    # Параметры обучения\n",
    "    args = TrainingArguments(\n",
    "        output_dir=\"optuna_trial\",       # временная директория для вывода (можно переиспользовать)\n",
    "        per_device_train_batch_size=batch_size,\n",
    "        per_device_eval_batch_size=batch_size,\n",
    "        metric_for_best_model=\"f1_micro\",\n",
    "        learning_rate=learning_rate,\n",
    "        num_train_epochs=num_epochs,\n",
    "        weight_decay=weight_decay,\n",
    "        # Отключаем сохранения и подробный лог\n",
    "        save_strategy=\"no\",\n",
    "        logging_strategy=\"no\",\n",
    "        # Отключаем прогресс-бар для ускорения вывода\n",
    "        disable_tqdm=True,\n",
    "        # Используем GPU и смешанную точность\n",
    "        dataloader_pin_memory=True,\n",
    "        fp16=True,\n",
    "        seed=SEED\n",
    "    )\n",
    "    \n",
    "    # Создаем Trainer\n",
    "    trainer = Trainer(\n",
    "        model=model_trial,\n",
    "        args=args,\n",
    "        train_dataset=train_dataset,\n",
    "        # Оценку на валидации проведём вручную после обучения\n",
    "        # (чтобы сэкономить время, не делаем eval на каждой эпохе)\n",
    "    )\n",
    "    \n",
    "    # Обучаем модель\n",
    "    trainer.train()\n",
    "    \n",
    "    # Предсказываем на валидации\n",
    "    preds = trainer.predict(val_dataset)\n",
    "    logits = preds.predictions  # логиты модели (до применения сигмоиды)\n",
    "    # Применяем сигмоиду к логитам для получения вероятностей\n",
    "    probs = torch.sigmoid(torch.tensor(logits)).numpy()\n",
    "    # Бинаризуем по порогу 0.5\n",
    "    y_pred = (probs >= 0.5).astype(int)\n",
    "    y_true = preds.label_ids\n",
    "    \n",
    "    # Вычисляем micro F1 как целевую метрику\n",
    "    f1_micro = f1_score(y_true, y_pred, average='micro')\n",
    "    \n",
    "    # Опционально: очищаем GPU память (если большие модели, чтобы не накапливались)\n",
    "    torch.cuda.empty_cache()\n",
    "    \n",
    "    # Возвращаем значение, которое хотим **максимизировать**\n",
    "    return f1_micro"
   ]
  },
  {
   "cell_type": "code",
   "execution_count": 16,
   "id": "263e2343-1784-4d77-a45e-506ea19a2cd9",
   "metadata": {},
   "outputs": [
    {
     "name": "stderr",
     "output_type": "stream",
     "text": [
      "[I 2025-04-26 22:26:12,077] A new study created in memory with name: Multilabel_Optimization\n",
      "Some weights of RobertaForSequenceClassification were not initialized from the model checkpoint at ai-forever/ruRoberta-large and are newly initialized: ['classifier.dense.bias', 'classifier.dense.weight', 'classifier.out_proj.bias', 'classifier.out_proj.weight']\n",
      "You should probably TRAIN this model on a down-stream task to be able to use it for predictions and inference.\n"
     ]
    },
    {
     "name": "stdout",
     "output_type": "stream",
     "text": [
      "{'train_runtime': 175.1189, 'train_samples_per_second': 113.837, 'train_steps_per_second': 7.138, 'train_loss': 0.1759001708984375, 'epoch': 5.0}\n"
     ]
    },
    {
     "name": "stderr",
     "output_type": "stream",
     "text": [
      "[I 2025-04-26 22:29:10,658] Trial 0 finished with value: 0.7429963459196103 and parameters: {'learning_rate': 1.2017820673136863e-05, 'batch_size': 16, 'num_epochs': 5, 'weight_decay': 0.022870592669541303}. Best is trial 0 with value: 0.7429963459196103.\n",
      "Some weights of RobertaForSequenceClassification were not initialized from the model checkpoint at ai-forever/ruRoberta-large and are newly initialized: ['classifier.dense.bias', 'classifier.dense.weight', 'classifier.out_proj.bias', 'classifier.out_proj.weight']\n",
      "You should probably TRAIN this model on a down-stream task to be able to use it for predictions and inference.\n"
     ]
    },
    {
     "name": "stdout",
     "output_type": "stream",
     "text": [
      "{'train_runtime': 253.0996, 'train_samples_per_second': 78.763, 'train_steps_per_second': 9.858, 'train_loss': 0.4531757362381012, 'epoch': 5.0}\n"
     ]
    },
    {
     "name": "stderr",
     "output_type": "stream",
     "text": [
      "[I 2025-04-26 22:33:27,598] Trial 1 finished with value: 0.3577339274347549 and parameters: {'learning_rate': 2.520060193280556e-05, 'batch_size': 8, 'num_epochs': 5, 'weight_decay': 0.08269849120512518}. Best is trial 0 with value: 0.7429963459196103.\n",
      "Some weights of RobertaForSequenceClassification were not initialized from the model checkpoint at ai-forever/ruRoberta-large and are newly initialized: ['classifier.dense.bias', 'classifier.dense.weight', 'classifier.out_proj.bias', 'classifier.out_proj.weight']\n",
      "You should probably TRAIN this model on a down-stream task to be able to use it for predictions and inference.\n"
     ]
    },
    {
     "name": "stdout",
     "output_type": "stream",
     "text": [
      "{'train_runtime': 176.0233, 'train_samples_per_second': 113.252, 'train_steps_per_second': 7.101, 'train_loss': 0.1867997802734375, 'epoch': 5.0}\n"
     ]
    },
    {
     "name": "stderr",
     "output_type": "stream",
     "text": [
      "[I 2025-04-26 22:36:27,178] Trial 2 finished with value: 0.7552 and parameters: {'learning_rate': 2.5818376644830798e-05, 'batch_size': 16, 'num_epochs': 5, 'weight_decay': 0.07064120623097118}. Best is trial 2 with value: 0.7552.\n",
      "Some weights of RobertaForSequenceClassification were not initialized from the model checkpoint at ai-forever/ruRoberta-large and are newly initialized: ['classifier.dense.bias', 'classifier.dense.weight', 'classifier.out_proj.bias', 'classifier.out_proj.weight']\n",
      "You should probably TRAIN this model on a down-stream task to be able to use it for predictions and inference.\n"
     ]
    },
    {
     "name": "stdout",
     "output_type": "stream",
     "text": [
      "{'train_runtime': 304.3508, 'train_samples_per_second': 78.6, 'train_steps_per_second': 9.837, 'train_loss': 0.1433375275127077, 'epoch': 6.0}\n"
     ]
    },
    {
     "name": "stderr",
     "output_type": "stream",
     "text": [
      "[I 2025-04-26 22:41:35,385] Trial 3 finished with value: 0.7499005964214712 and parameters: {'learning_rate': 1.2216594833548418e-05, 'batch_size': 8, 'num_epochs': 6, 'weight_decay': 0.027809320554246952}. Best is trial 2 with value: 0.7552.\n",
      "Some weights of RobertaForSequenceClassification were not initialized from the model checkpoint at ai-forever/ruRoberta-large and are newly initialized: ['classifier.dense.bias', 'classifier.dense.weight', 'classifier.out_proj.bias', 'classifier.out_proj.weight']\n",
      "You should probably TRAIN this model on a down-stream task to be able to use it for predictions and inference.\n"
     ]
    },
    {
     "name": "stdout",
     "output_type": "stream",
     "text": [
      "{'train_runtime': 176.5196, 'train_samples_per_second': 112.934, 'train_steps_per_second': 7.081, 'train_loss': 0.155079443359375, 'epoch': 5.0}\n"
     ]
    },
    {
     "name": "stderr",
     "output_type": "stream",
     "text": [
      "[I 2025-04-26 22:44:36,070] Trial 4 finished with value: 0.7471490365709792 and parameters: {'learning_rate': 3.304086346337269e-05, 'batch_size': 16, 'num_epochs': 5, 'weight_decay': 0.03430846353508548}. Best is trial 2 with value: 0.7552.\n",
      "Some weights of RobertaForSequenceClassification were not initialized from the model checkpoint at ai-forever/ruRoberta-large and are newly initialized: ['classifier.dense.bias', 'classifier.dense.weight', 'classifier.out_proj.bias', 'classifier.out_proj.weight']\n",
      "You should probably TRAIN this model on a down-stream task to be able to use it for predictions and inference.\n"
     ]
    },
    {
     "name": "stdout",
     "output_type": "stream",
     "text": [
      "{'train_runtime': 176.7308, 'train_samples_per_second': 112.799, 'train_steps_per_second': 7.073, 'train_loss': 0.45901279296875, 'epoch': 5.0}\n"
     ]
    },
    {
     "name": "stderr",
     "output_type": "stream",
     "text": [
      "[I 2025-04-26 22:47:36,311] Trial 5 finished with value: 0.0 and parameters: {'learning_rate': 4.7024030991351144e-05, 'batch_size': 16, 'num_epochs': 5, 'weight_decay': 0.07086771290249363}. Best is trial 2 with value: 0.7552.\n",
      "Some weights of RobertaForSequenceClassification were not initialized from the model checkpoint at ai-forever/ruRoberta-large and are newly initialized: ['classifier.dense.bias', 'classifier.dense.weight', 'classifier.out_proj.bias', 'classifier.out_proj.weight']\n",
      "You should probably TRAIN this model on a down-stream task to be able to use it for predictions and inference.\n"
     ]
    },
    {
     "name": "stdout",
     "output_type": "stream",
     "text": [
      "{'train_runtime': 211.5874, 'train_samples_per_second': 113.06, 'train_steps_per_second': 7.089, 'train_loss': 0.16455879720052083, 'epoch': 6.0}\n"
     ]
    },
    {
     "name": "stderr",
     "output_type": "stream",
     "text": [
      "[I 2025-04-26 22:51:11,396] Trial 6 finished with value: 0.7356042173560422 and parameters: {'learning_rate': 1.0924903486191258e-05, 'batch_size': 16, 'num_epochs': 6, 'weight_decay': 0.037502495425502685}. Best is trial 2 with value: 0.7552.\n",
      "Some weights of RobertaForSequenceClassification were not initialized from the model checkpoint at ai-forever/ruRoberta-large and are newly initialized: ['classifier.dense.bias', 'classifier.dense.weight', 'classifier.out_proj.bias', 'classifier.out_proj.weight']\n",
      "You should probably TRAIN this model on a down-stream task to be able to use it for predictions and inference.\n"
     ]
    },
    {
     "name": "stdout",
     "output_type": "stream",
     "text": [
      "{'train_runtime': 105.7673, 'train_samples_per_second': 113.088, 'train_steps_per_second': 7.091, 'train_loss': 0.24043404134114582, 'epoch': 3.0}\n"
     ]
    },
    {
     "name": "stderr",
     "output_type": "stream",
     "text": [
      "[I 2025-04-26 22:53:00,674] Trial 7 finished with value: 0.7254985150615189 and parameters: {'learning_rate': 1.0047035372176014e-05, 'batch_size': 16, 'num_epochs': 3, 'weight_decay': 0.05254140124971828}. Best is trial 2 with value: 0.7552.\n",
      "Some weights of RobertaForSequenceClassification were not initialized from the model checkpoint at ai-forever/ruRoberta-large and are newly initialized: ['classifier.dense.bias', 'classifier.dense.weight', 'classifier.out_proj.bias', 'classifier.out_proj.weight']\n",
      "You should probably TRAIN this model on a down-stream task to be able to use it for predictions and inference.\n"
     ]
    },
    {
     "name": "stdout",
     "output_type": "stream",
     "text": [
      "{'train_runtime': 105.7885, 'train_samples_per_second': 113.065, 'train_steps_per_second': 7.09, 'train_loss': 0.461830078125, 'epoch': 3.0}\n"
     ]
    },
    {
     "name": "stderr",
     "output_type": "stream",
     "text": [
      "[I 2025-04-26 22:54:49,971] Trial 8 finished with value: 0.0 and parameters: {'learning_rate': 3.8708793687708895e-05, 'batch_size': 16, 'num_epochs': 3, 'weight_decay': 0.09208881770794522}. Best is trial 2 with value: 0.7552.\n",
      "Some weights of RobertaForSequenceClassification were not initialized from the model checkpoint at ai-forever/ruRoberta-large and are newly initialized: ['classifier.dense.bias', 'classifier.dense.weight', 'classifier.out_proj.bias', 'classifier.out_proj.weight']\n",
      "You should probably TRAIN this model on a down-stream task to be able to use it for predictions and inference.\n"
     ]
    },
    {
     "name": "stdout",
     "output_type": "stream",
     "text": [
      "{'train_runtime': 254.0199, 'train_samples_per_second': 78.478, 'train_steps_per_second': 9.822, 'train_loss': 0.1489553203085859, 'epoch': 5.0}\n"
     ]
    },
    {
     "name": "stderr",
     "output_type": "stream",
     "text": [
      "[I 2025-04-26 22:59:07,818] Trial 9 finished with value: 0.7500999600159935 and parameters: {'learning_rate': 2.9405892932387716e-05, 'batch_size': 8, 'num_epochs': 5, 'weight_decay': 0.012106873889132765}. Best is trial 2 with value: 0.7552.\n",
      "Some weights of RobertaForSequenceClassification were not initialized from the model checkpoint at ai-forever/ruRoberta-large and are newly initialized: ['classifier.dense.bias', 'classifier.dense.weight', 'classifier.out_proj.bias', 'classifier.out_proj.weight']\n",
      "You should probably TRAIN this model on a down-stream task to be able to use it for predictions and inference.\n"
     ]
    },
    {
     "name": "stdout",
     "output_type": "stream",
     "text": [
      "{'train_runtime': 202.7435, 'train_samples_per_second': 78.661, 'train_steps_per_second': 9.845, 'train_loss': 0.2962556888679703, 'epoch': 4.0}\n"
     ]
    },
    {
     "name": "stderr",
     "output_type": "stream",
     "text": [
      "[I 2025-04-26 23:02:34,432] Trial 10 finished with value: 0.6845694799658995 and parameters: {'learning_rate': 1.715629904782852e-05, 'batch_size': 8, 'num_epochs': 4, 'weight_decay': 0.06218353354112337}. Best is trial 2 with value: 0.7552.\n",
      "Some weights of RobertaForSequenceClassification were not initialized from the model checkpoint at ai-forever/ruRoberta-large and are newly initialized: ['classifier.dense.bias', 'classifier.dense.weight', 'classifier.out_proj.bias', 'classifier.out_proj.weight']\n",
      "You should probably TRAIN this model on a down-stream task to be able to use it for predictions and inference.\n"
     ]
    },
    {
     "name": "stdout",
     "output_type": "stream",
     "text": [
      "{'train_runtime': 202.7046, 'train_samples_per_second': 78.676, 'train_steps_per_second': 9.847, 'train_loss': 0.1705893017724903, 'epoch': 4.0}\n"
     ]
    },
    {
     "name": "stderr",
     "output_type": "stream",
     "text": [
      "[I 2025-04-26 23:06:00,894] Trial 11 finished with value: 0.7518248175182481 and parameters: {'learning_rate': 2.4828601792423826e-05, 'batch_size': 8, 'num_epochs': 4, 'weight_decay': 0.0733747947493944}. Best is trial 2 with value: 0.7552.\n",
      "Some weights of RobertaForSequenceClassification were not initialized from the model checkpoint at ai-forever/ruRoberta-large and are newly initialized: ['classifier.dense.bias', 'classifier.dense.weight', 'classifier.out_proj.bias', 'classifier.out_proj.weight']\n",
      "You should probably TRAIN this model on a down-stream task to be able to use it for predictions and inference.\n"
     ]
    },
    {
     "name": "stdout",
     "output_type": "stream",
     "text": [
      "{'train_runtime': 202.7385, 'train_samples_per_second': 78.663, 'train_steps_per_second': 9.845, 'train_loss': 0.17146977059587926, 'epoch': 4.0}\n"
     ]
    },
    {
     "name": "stderr",
     "output_type": "stream",
     "text": [
      "[I 2025-04-26 23:09:27,605] Trial 12 finished with value: 0.75 and parameters: {'learning_rate': 1.8967700731965708e-05, 'batch_size': 8, 'num_epochs': 4, 'weight_decay': 0.07492807920345339}. Best is trial 2 with value: 0.7552.\n",
      "Some weights of RobertaForSequenceClassification were not initialized from the model checkpoint at ai-forever/ruRoberta-large and are newly initialized: ['classifier.dense.bias', 'classifier.dense.weight', 'classifier.out_proj.bias', 'classifier.out_proj.weight']\n",
      "You should probably TRAIN this model on a down-stream task to be able to use it for predictions and inference.\n"
     ]
    },
    {
     "name": "stdout",
     "output_type": "stream",
     "text": [
      "{'train_runtime': 202.7323, 'train_samples_per_second': 78.665, 'train_steps_per_second': 9.845, 'train_loss': 0.1727542456739651, 'epoch': 4.0}\n"
     ]
    },
    {
     "name": "stderr",
     "output_type": "stream",
     "text": [
      "[I 2025-04-26 23:12:54,100] Trial 13 finished with value: 0.7465475223395613 and parameters: {'learning_rate': 2.1612394535129528e-05, 'batch_size': 8, 'num_epochs': 4, 'weight_decay': 0.055735417591040906}. Best is trial 2 with value: 0.7552.\n",
      "Some weights of RobertaForSequenceClassification were not initialized from the model checkpoint at ai-forever/ruRoberta-large and are newly initialized: ['classifier.dense.bias', 'classifier.dense.weight', 'classifier.out_proj.bias', 'classifier.out_proj.weight']\n",
      "You should probably TRAIN this model on a down-stream task to be able to use it for predictions and inference.\n"
     ]
    },
    {
     "name": "stdout",
     "output_type": "stream",
     "text": [
      "{'train_runtime': 140.7956, 'train_samples_per_second': 113.271, 'train_steps_per_second': 7.102, 'train_loss': 0.20583024597167968, 'epoch': 4.0}\n"
     ]
    },
    {
     "name": "stderr",
     "output_type": "stream",
     "text": [
      "[I 2025-04-26 23:15:18,358] Trial 14 finished with value: 0.7429769392033543 and parameters: {'learning_rate': 1.548834770619055e-05, 'batch_size': 16, 'num_epochs': 4, 'weight_decay': 0.09733056605355467}. Best is trial 2 with value: 0.7552.\n",
      "Some weights of RobertaForSequenceClassification were not initialized from the model checkpoint at ai-forever/ruRoberta-large and are newly initialized: ['classifier.dense.bias', 'classifier.dense.weight', 'classifier.out_proj.bias', 'classifier.out_proj.weight']\n",
      "You should probably TRAIN this model on a down-stream task to be able to use it for predictions and inference.\n"
     ]
    },
    {
     "name": "stdout",
     "output_type": "stream",
     "text": [
      "{'train_runtime': 152.1081, 'train_samples_per_second': 78.635, 'train_steps_per_second': 9.842, 'train_loss': 0.19849839653264864, 'epoch': 3.0}\n"
     ]
    },
    {
     "name": "stderr",
     "output_type": "stream",
     "text": [
      "[I 2025-04-26 23:17:54,218] Trial 15 finished with value: 0.7449392712550608 and parameters: {'learning_rate': 2.521792920389577e-05, 'batch_size': 8, 'num_epochs': 3, 'weight_decay': 0.06748207229366264}. Best is trial 2 with value: 0.7552.\n",
      "Some weights of RobertaForSequenceClassification were not initialized from the model checkpoint at ai-forever/ruRoberta-large and are newly initialized: ['classifier.dense.bias', 'classifier.dense.weight', 'classifier.out_proj.bias', 'classifier.out_proj.weight']\n",
      "You should probably TRAIN this model on a down-stream task to be able to use it for predictions and inference.\n"
     ]
    },
    {
     "name": "stdout",
     "output_type": "stream",
     "text": [
      "{'train_runtime': 304.3336, 'train_samples_per_second': 78.605, 'train_steps_per_second': 9.838, 'train_loss': 0.13787959015361453, 'epoch': 6.0}\n"
     ]
    },
    {
     "name": "stderr",
     "output_type": "stream",
     "text": [
      "[I 2025-04-26 23:23:02,314] Trial 16 finished with value: 0.7445544554455445 and parameters: {'learning_rate': 3.133245711830171e-05, 'batch_size': 8, 'num_epochs': 6, 'weight_decay': 0.08545370885900008}. Best is trial 2 with value: 0.7552.\n",
      "Some weights of RobertaForSequenceClassification were not initialized from the model checkpoint at ai-forever/ruRoberta-large and are newly initialized: ['classifier.dense.bias', 'classifier.dense.weight', 'classifier.out_proj.bias', 'classifier.out_proj.weight']\n",
      "You should probably TRAIN this model on a down-stream task to be able to use it for predictions and inference.\n"
     ]
    },
    {
     "name": "stdout",
     "output_type": "stream",
     "text": [
      "{'train_runtime': 140.7916, 'train_samples_per_second': 113.274, 'train_steps_per_second': 7.103, 'train_loss': 0.18314944458007812, 'epoch': 4.0}\n"
     ]
    },
    {
     "name": "stderr",
     "output_type": "stream",
     "text": [
      "[I 2025-04-26 23:25:27,174] Trial 17 finished with value: 0.7476559315124337 and parameters: {'learning_rate': 2.1538038341629682e-05, 'batch_size': 16, 'num_epochs': 4, 'weight_decay': 0.0427805490032834}. Best is trial 2 with value: 0.7552.\n",
      "Some weights of RobertaForSequenceClassification were not initialized from the model checkpoint at ai-forever/ruRoberta-large and are newly initialized: ['classifier.dense.bias', 'classifier.dense.weight', 'classifier.out_proj.bias', 'classifier.out_proj.weight']\n",
      "You should probably TRAIN this model on a down-stream task to be able to use it for predictions and inference.\n"
     ]
    },
    {
     "name": "stdout",
     "output_type": "stream",
     "text": [
      "{'train_runtime': 140.8125, 'train_samples_per_second': 113.257, 'train_steps_per_second': 7.102, 'train_loss': 0.18486441040039062, 'epoch': 4.0}\n"
     ]
    },
    {
     "name": "stderr",
     "output_type": "stream",
     "text": [
      "[I 2025-04-26 23:27:51,688] Trial 18 finished with value: 0.7351874244256348 and parameters: {'learning_rate': 4.067436887954021e-05, 'batch_size': 16, 'num_epochs': 4, 'weight_decay': 0.07994875475957926}. Best is trial 2 with value: 0.7552.\n",
      "Some weights of RobertaForSequenceClassification were not initialized from the model checkpoint at ai-forever/ruRoberta-large and are newly initialized: ['classifier.dense.bias', 'classifier.dense.weight', 'classifier.out_proj.bias', 'classifier.out_proj.weight']\n",
      "You should probably TRAIN this model on a down-stream task to be able to use it for predictions and inference.\n"
     ]
    },
    {
     "name": "stdout",
     "output_type": "stream",
     "text": [
      "{'train_runtime': 253.4911, 'train_samples_per_second': 78.642, 'train_steps_per_second': 9.843, 'train_loss': 0.15273272374827782, 'epoch': 5.0}\n"
     ]
    },
    {
     "name": "stderr",
     "output_type": "stream",
     "text": [
      "[I 2025-04-26 23:32:09,199] Trial 19 finished with value: 0.7456530529720987 and parameters: {'learning_rate': 1.472231576324234e-05, 'batch_size': 8, 'num_epochs': 5, 'weight_decay': 0.06156292781917182}. Best is trial 2 with value: 0.7552.\n",
      "Some weights of RobertaForSequenceClassification were not initialized from the model checkpoint at ai-forever/ruRoberta-large and are newly initialized: ['classifier.dense.bias', 'classifier.dense.weight', 'classifier.out_proj.bias', 'classifier.out_proj.weight']\n",
      "You should probably TRAIN this model on a down-stream task to be able to use it for predictions and inference.\n"
     ]
    },
    {
     "name": "stdout",
     "output_type": "stream",
     "text": [
      "{'train_runtime': 304.4397, 'train_samples_per_second': 78.577, 'train_steps_per_second': 9.834, 'train_loss': 0.45886214160091016, 'epoch': 6.0}\n"
     ]
    },
    {
     "name": "stderr",
     "output_type": "stream",
     "text": [
      "[I 2025-04-26 23:37:17,558] Trial 20 finished with value: 0.0 and parameters: {'learning_rate': 2.6613643803870655e-05, 'batch_size': 8, 'num_epochs': 6, 'weight_decay': 0.04833607088415707}. Best is trial 2 with value: 0.7552.\n",
      "Some weights of RobertaForSequenceClassification were not initialized from the model checkpoint at ai-forever/ruRoberta-large and are newly initialized: ['classifier.dense.bias', 'classifier.dense.weight', 'classifier.out_proj.bias', 'classifier.out_proj.weight']\n",
      "You should probably TRAIN this model on a down-stream task to be able to use it for predictions and inference.\n"
     ]
    },
    {
     "name": "stdout",
     "output_type": "stream",
     "text": [
      "{'train_runtime': 253.1427, 'train_samples_per_second': 78.75, 'train_steps_per_second': 9.856, 'train_loss': 0.1541635884072833, 'epoch': 5.0}\n"
     ]
    },
    {
     "name": "stderr",
     "output_type": "stream",
     "text": [
      "[I 2025-04-26 23:41:34,566] Trial 21 finished with value: 0.751993620414673 and parameters: {'learning_rate': 3.0261017503097008e-05, 'batch_size': 8, 'num_epochs': 5, 'weight_decay': 0.00993575253390895}. Best is trial 2 with value: 0.7552.\n",
      "Some weights of RobertaForSequenceClassification were not initialized from the model checkpoint at ai-forever/ruRoberta-large and are newly initialized: ['classifier.dense.bias', 'classifier.dense.weight', 'classifier.out_proj.bias', 'classifier.out_proj.weight']\n",
      "You should probably TRAIN this model on a down-stream task to be able to use it for predictions and inference.\n"
     ]
    },
    {
     "name": "stdout",
     "output_type": "stream",
     "text": [
      "{'train_runtime': 253.1078, 'train_samples_per_second': 78.761, 'train_steps_per_second': 9.857, 'train_loss': 0.17248613437813126, 'epoch': 5.0}\n"
     ]
    },
    {
     "name": "stderr",
     "output_type": "stream",
     "text": [
      "[I 2025-04-26 23:45:51,547] Trial 22 finished with value: 0.7384131971720346 and parameters: {'learning_rate': 3.597420099285068e-05, 'batch_size': 8, 'num_epochs': 5, 'weight_decay': 0.002337764155641491}. Best is trial 2 with value: 0.7552.\n",
      "Some weights of RobertaForSequenceClassification were not initialized from the model checkpoint at ai-forever/ruRoberta-large and are newly initialized: ['classifier.dense.bias', 'classifier.dense.weight', 'classifier.out_proj.bias', 'classifier.out_proj.weight']\n",
      "You should probably TRAIN this model on a down-stream task to be able to use it for predictions and inference.\n"
     ]
    },
    {
     "name": "stdout",
     "output_type": "stream",
     "text": [
      "{'train_runtime': 252.9785, 'train_samples_per_second': 78.801, 'train_steps_per_second': 9.862, 'train_loss': 0.4046918544119489, 'epoch': 5.0}\n"
     ]
    },
    {
     "name": "stderr",
     "output_type": "stream",
     "text": [
      "[I 2025-04-26 23:50:08,386] Trial 23 finished with value: 0.35785536159601 and parameters: {'learning_rate': 2.8014485759709776e-05, 'batch_size': 8, 'num_epochs': 5, 'weight_decay': 0.013315036224214018}. Best is trial 2 with value: 0.7552.\n",
      "Some weights of RobertaForSequenceClassification were not initialized from the model checkpoint at ai-forever/ruRoberta-large and are newly initialized: ['classifier.dense.bias', 'classifier.dense.weight', 'classifier.out_proj.bias', 'classifier.out_proj.weight']\n",
      "You should probably TRAIN this model on a down-stream task to be able to use it for predictions and inference.\n"
     ]
    },
    {
     "name": "stdout",
     "output_type": "stream",
     "text": [
      "{'train_runtime': 202.3702, 'train_samples_per_second': 78.806, 'train_steps_per_second': 9.863, 'train_loss': 0.17188527445516033, 'epoch': 4.0}\n"
     ]
    },
    {
     "name": "stderr",
     "output_type": "stream",
     "text": [
      "[I 2025-04-26 23:53:34,890] Trial 24 finished with value: 0.740501212611156 and parameters: {'learning_rate': 2.331381422769637e-05, 'batch_size': 8, 'num_epochs': 4, 'weight_decay': 0.06681055082003384}. Best is trial 2 with value: 0.7552.\n",
      "Some weights of RobertaForSequenceClassification were not initialized from the model checkpoint at ai-forever/ruRoberta-large and are newly initialized: ['classifier.dense.bias', 'classifier.dense.weight', 'classifier.out_proj.bias', 'classifier.out_proj.weight']\n",
      "You should probably TRAIN this model on a down-stream task to be able to use it for predictions and inference.\n"
     ]
    },
    {
     "name": "stdout",
     "output_type": "stream",
     "text": [
      "{'train_runtime': 253.754, 'train_samples_per_second': 78.56, 'train_steps_per_second': 9.832, 'train_loss': 0.14825829637791207, 'epoch': 5.0}\n"
     ]
    },
    {
     "name": "stderr",
     "output_type": "stream",
     "text": [
      "[I 2025-04-26 23:57:52,447] Trial 25 finished with value: 0.7463162086818 and parameters: {'learning_rate': 1.999095929766192e-05, 'batch_size': 8, 'num_epochs': 5, 'weight_decay': 0.09000471092915337}. Best is trial 2 with value: 0.7552.\n",
      "Some weights of RobertaForSequenceClassification were not initialized from the model checkpoint at ai-forever/ruRoberta-large and are newly initialized: ['classifier.dense.bias', 'classifier.dense.weight', 'classifier.out_proj.bias', 'classifier.out_proj.weight']\n",
      "You should probably TRAIN this model on a down-stream task to be able to use it for predictions and inference.\n"
     ]
    },
    {
     "name": "stdout",
     "output_type": "stream",
     "text": [
      "{'train_runtime': 211.1972, 'train_samples_per_second': 113.269, 'train_steps_per_second': 7.102, 'train_loss': 0.1405584004720052, 'epoch': 6.0}\n"
     ]
    },
    {
     "name": "stderr",
     "output_type": "stream",
     "text": [
      "[I 2025-04-27 00:01:27,513] Trial 26 finished with value: 0.7520693732755223 and parameters: {'learning_rate': 3.348771273813485e-05, 'batch_size': 16, 'num_epochs': 6, 'weight_decay': 0.05920229314026023}. Best is trial 2 with value: 0.7552.\n",
      "Some weights of RobertaForSequenceClassification were not initialized from the model checkpoint at ai-forever/ruRoberta-large and are newly initialized: ['classifier.dense.bias', 'classifier.dense.weight', 'classifier.out_proj.bias', 'classifier.out_proj.weight']\n",
      "You should probably TRAIN this model on a down-stream task to be able to use it for predictions and inference.\n"
     ]
    },
    {
     "name": "stdout",
     "output_type": "stream",
     "text": [
      "{'train_runtime': 211.3469, 'train_samples_per_second': 113.188, 'train_steps_per_second': 7.097, 'train_loss': 0.14489840698242187, 'epoch': 6.0}\n"
     ]
    },
    {
     "name": "stderr",
     "output_type": "stream",
     "text": [
      "[I 2025-04-27 00:05:02,349] Trial 27 finished with value: 0.7440944881889764 and parameters: {'learning_rate': 4.829924886413657e-05, 'batch_size': 16, 'num_epochs': 6, 'weight_decay': 0.045857544452974214}. Best is trial 2 with value: 0.7552.\n",
      "Some weights of RobertaForSequenceClassification were not initialized from the model checkpoint at ai-forever/ruRoberta-large and are newly initialized: ['classifier.dense.bias', 'classifier.dense.weight', 'classifier.out_proj.bias', 'classifier.out_proj.weight']\n",
      "You should probably TRAIN this model on a down-stream task to be able to use it for predictions and inference.\n"
     ]
    },
    {
     "name": "stdout",
     "output_type": "stream",
     "text": [
      "{'train_runtime': 211.2669, 'train_samples_per_second': 113.231, 'train_steps_per_second': 7.1, 'train_loss': 0.13435160319010417, 'epoch': 6.0}\n"
     ]
    },
    {
     "name": "stderr",
     "output_type": "stream",
     "text": [
      "[I 2025-04-27 00:08:37,120] Trial 28 finished with value: 0.7505938242280285 and parameters: {'learning_rate': 3.245480464367005e-05, 'batch_size': 16, 'num_epochs': 6, 'weight_decay': 0.05926659219199086}. Best is trial 2 with value: 0.7552.\n",
      "Some weights of RobertaForSequenceClassification were not initialized from the model checkpoint at ai-forever/ruRoberta-large and are newly initialized: ['classifier.dense.bias', 'classifier.dense.weight', 'classifier.out_proj.bias', 'classifier.out_proj.weight']\n",
      "You should probably TRAIN this model on a down-stream task to be able to use it for predictions and inference.\n"
     ]
    },
    {
     "name": "stdout",
     "output_type": "stream",
     "text": [
      "{'train_runtime': 211.1973, 'train_samples_per_second': 113.268, 'train_steps_per_second': 7.102, 'train_loss': 0.14163124593098958, 'epoch': 6.0}\n"
     ]
    },
    {
     "name": "stderr",
     "output_type": "stream",
     "text": [
      "[I 2025-04-27 00:12:11,816] Trial 29 finished with value: 0.7503937007874015 and parameters: {'learning_rate': 4.017860940186855e-05, 'batch_size': 16, 'num_epochs': 6, 'weight_decay': 0.02125732180794907}. Best is trial 2 with value: 0.7552.\n",
      "Some weights of RobertaForSequenceClassification were not initialized from the model checkpoint at ai-forever/ruRoberta-large and are newly initialized: ['classifier.dense.bias', 'classifier.dense.weight', 'classifier.out_proj.bias', 'classifier.out_proj.weight']\n",
      "You should probably TRAIN this model on a down-stream task to be able to use it for predictions and inference.\n"
     ]
    },
    {
     "name": "stdout",
     "output_type": "stream",
     "text": [
      "{'train_runtime': 211.1157, 'train_samples_per_second': 113.312, 'train_steps_per_second': 7.105, 'train_loss': 0.13904835001627605, 'epoch': 6.0}\n"
     ]
    },
    {
     "name": "stderr",
     "output_type": "stream",
     "text": [
      "[I 2025-04-27 00:15:46,445] Trial 30 finished with value: 0.7443875541551792 and parameters: {'learning_rate': 2.9680531805673592e-05, 'batch_size': 16, 'num_epochs': 6, 'weight_decay': 0.02918638120007984}. Best is trial 2 with value: 0.7552.\n",
      "Some weights of RobertaForSequenceClassification were not initialized from the model checkpoint at ai-forever/ruRoberta-large and are newly initialized: ['classifier.dense.bias', 'classifier.dense.weight', 'classifier.out_proj.bias', 'classifier.out_proj.weight']\n",
      "You should probably TRAIN this model on a down-stream task to be able to use it for predictions and inference.\n"
     ]
    },
    {
     "name": "stdout",
     "output_type": "stream",
     "text": [
      "{'train_runtime': 175.82, 'train_samples_per_second': 113.383, 'train_steps_per_second': 7.11, 'train_loss': 0.15545863037109375, 'epoch': 5.0}\n"
     ]
    },
    {
     "name": "stderr",
     "output_type": "stream",
     "text": [
      "[I 2025-04-27 00:18:45,743] Trial 31 finished with value: 0.75 and parameters: {'learning_rate': 3.520153950444624e-05, 'batch_size': 16, 'num_epochs': 5, 'weight_decay': 0.0747128838676375}. Best is trial 2 with value: 0.7552.\n",
      "Some weights of RobertaForSequenceClassification were not initialized from the model checkpoint at ai-forever/ruRoberta-large and are newly initialized: ['classifier.dense.bias', 'classifier.dense.weight', 'classifier.out_proj.bias', 'classifier.out_proj.weight']\n",
      "You should probably TRAIN this model on a down-stream task to be able to use it for predictions and inference.\n"
     ]
    },
    {
     "name": "stdout",
     "output_type": "stream",
     "text": [
      "{'train_runtime': 175.9135, 'train_samples_per_second': 113.323, 'train_steps_per_second': 7.106, 'train_loss': 0.1576712890625, 'epoch': 5.0}\n"
     ]
    },
    {
     "name": "stderr",
     "output_type": "stream",
     "text": [
      "[I 2025-04-27 00:21:45,142] Trial 32 finished with value: 0.7407111466240511 and parameters: {'learning_rate': 2.3343464887495026e-05, 'batch_size': 16, 'num_epochs': 5, 'weight_decay': 0.07648704427580913}. Best is trial 2 with value: 0.7552.\n",
      "Some weights of RobertaForSequenceClassification were not initialized from the model checkpoint at ai-forever/ruRoberta-large and are newly initialized: ['classifier.dense.bias', 'classifier.dense.weight', 'classifier.out_proj.bias', 'classifier.out_proj.weight']\n",
      "You should probably TRAIN this model on a down-stream task to be able to use it for predictions and inference.\n"
     ]
    },
    {
     "name": "stdout",
     "output_type": "stream",
     "text": [
      "{'train_runtime': 202.7432, 'train_samples_per_second': 78.661, 'train_steps_per_second': 9.845, 'train_loss': 0.46051624733842683, 'epoch': 4.0}\n"
     ]
    },
    {
     "name": "stderr",
     "output_type": "stream",
     "text": [
      "[I 2025-04-27 00:25:11,686] Trial 33 finished with value: 0.0 and parameters: {'learning_rate': 2.633201255787897e-05, 'batch_size': 8, 'num_epochs': 4, 'weight_decay': 0.06381893931773434}. Best is trial 2 with value: 0.7552.\n",
      "Some weights of RobertaForSequenceClassification were not initialized from the model checkpoint at ai-forever/ruRoberta-large and are newly initialized: ['classifier.dense.bias', 'classifier.dense.weight', 'classifier.out_proj.bias', 'classifier.out_proj.weight']\n",
      "You should probably TRAIN this model on a down-stream task to be able to use it for predictions and inference.\n"
     ]
    },
    {
     "name": "stdout",
     "output_type": "stream",
     "text": [
      "{'train_runtime': 175.9007, 'train_samples_per_second': 113.331, 'train_steps_per_second': 7.106, 'train_loss': 0.15472947998046874, 'epoch': 5.0}\n"
     ]
    },
    {
     "name": "stderr",
     "output_type": "stream",
     "text": [
      "[I 2025-04-27 00:28:11,096] Trial 34 finished with value: 0.7513015618742491 and parameters: {'learning_rate': 2.4363642401536094e-05, 'batch_size': 16, 'num_epochs': 5, 'weight_decay': 0.05398938863449924}. Best is trial 2 with value: 0.7552.\n",
      "Some weights of RobertaForSequenceClassification were not initialized from the model checkpoint at ai-forever/ruRoberta-large and are newly initialized: ['classifier.dense.bias', 'classifier.dense.weight', 'classifier.out_proj.bias', 'classifier.out_proj.weight']\n",
      "You should probably TRAIN this model on a down-stream task to be able to use it for predictions and inference.\n"
     ]
    },
    {
     "name": "stdout",
     "output_type": "stream",
     "text": [
      "{'train_runtime': 253.3666, 'train_samples_per_second': 78.68, 'train_steps_per_second': 9.847, 'train_loss': 0.41349192525676354, 'epoch': 5.0}\n"
     ]
    },
    {
     "name": "stderr",
     "output_type": "stream",
     "text": [
      "[I 2025-04-27 00:32:28,488] Trial 35 finished with value: 0.0 and parameters: {'learning_rate': 4.2802808578489735e-05, 'batch_size': 8, 'num_epochs': 5, 'weight_decay': 0.08357108039139373}. Best is trial 2 with value: 0.7552.\n",
      "Some weights of RobertaForSequenceClassification were not initialized from the model checkpoint at ai-forever/ruRoberta-large and are newly initialized: ['classifier.dense.bias', 'classifier.dense.weight', 'classifier.out_proj.bias', 'classifier.out_proj.weight']\n",
      "You should probably TRAIN this model on a down-stream task to be able to use it for predictions and inference.\n"
     ]
    },
    {
     "name": "stdout",
     "output_type": "stream",
     "text": [
      "{'train_runtime': 211.1088, 'train_samples_per_second': 113.316, 'train_steps_per_second': 7.105, 'train_loss': 0.13731187947591145, 'epoch': 6.0}\n"
     ]
    },
    {
     "name": "stderr",
     "output_type": "stream",
     "text": [
      "[I 2025-04-27 00:36:03,213] Trial 36 finished with value: 0.7452054794520548 and parameters: {'learning_rate': 3.46367443848543e-05, 'batch_size': 16, 'num_epochs': 6, 'weight_decay': 0.06981494455830722}. Best is trial 2 with value: 0.7552.\n",
      "Some weights of RobertaForSequenceClassification were not initialized from the model checkpoint at ai-forever/ruRoberta-large and are newly initialized: ['classifier.dense.bias', 'classifier.dense.weight', 'classifier.out_proj.bias', 'classifier.out_proj.weight']\n",
      "You should probably TRAIN this model on a down-stream task to be able to use it for predictions and inference.\n"
     ]
    },
    {
     "name": "stdout",
     "output_type": "stream",
     "text": [
      "{'train_runtime': 253.6095, 'train_samples_per_second': 78.605, 'train_steps_per_second': 9.838, 'train_loss': 0.16132660829471443, 'epoch': 5.0}\n"
     ]
    },
    {
     "name": "stderr",
     "output_type": "stream",
     "text": [
      "[I 2025-04-27 00:40:20,631] Trial 37 finished with value: 0.75 and parameters: {'learning_rate': 3.010217966095132e-05, 'batch_size': 8, 'num_epochs': 5, 'weight_decay': 0.03755412357754922}. Best is trial 2 with value: 0.7552.\n",
      "Some weights of RobertaForSequenceClassification were not initialized from the model checkpoint at ai-forever/ruRoberta-large and are newly initialized: ['classifier.dense.bias', 'classifier.dense.weight', 'classifier.out_proj.bias', 'classifier.out_proj.weight']\n",
      "You should probably TRAIN this model on a down-stream task to be able to use it for predictions and inference.\n"
     ]
    },
    {
     "name": "stdout",
     "output_type": "stream",
     "text": [
      "{'train_runtime': 105.5419, 'train_samples_per_second': 113.329, 'train_steps_per_second': 7.106, 'train_loss': 0.215987548828125, 'epoch': 3.0}\n"
     ]
    },
    {
     "name": "stderr",
     "output_type": "stream",
     "text": [
      "[I 2025-04-27 00:42:09,804] Trial 38 finished with value: 0.7473162675474814 and parameters: {'learning_rate': 2.738747388858335e-05, 'batch_size': 16, 'num_epochs': 3, 'weight_decay': 0.00014735032581684668}. Best is trial 2 with value: 0.7552.\n",
      "Some weights of RobertaForSequenceClassification were not initialized from the model checkpoint at ai-forever/ruRoberta-large and are newly initialized: ['classifier.dense.bias', 'classifier.dense.weight', 'classifier.out_proj.bias', 'classifier.out_proj.weight']\n",
      "You should probably TRAIN this model on a down-stream task to be able to use it for predictions and inference.\n"
     ]
    },
    {
     "name": "stdout",
     "output_type": "stream",
     "text": [
      "{'train_runtime': 140.6652, 'train_samples_per_second': 113.376, 'train_steps_per_second': 7.109, 'train_loss': 0.1933198699951172, 'epoch': 4.0}\n"
     ]
    },
    {
     "name": "stderr",
     "output_type": "stream",
     "text": [
      "[I 2025-04-27 00:44:33,948] Trial 39 finished with value: 0.7445852063751532 and parameters: {'learning_rate': 1.9706863109163216e-05, 'batch_size': 16, 'num_epochs': 4, 'weight_decay': 0.07076085577438364}. Best is trial 2 with value: 0.7552.\n",
      "Some weights of RobertaForSequenceClassification were not initialized from the model checkpoint at ai-forever/ruRoberta-large and are newly initialized: ['classifier.dense.bias', 'classifier.dense.weight', 'classifier.out_proj.bias', 'classifier.out_proj.weight']\n",
      "You should probably TRAIN this model on a down-stream task to be able to use it for predictions and inference.\n"
     ]
    },
    {
     "name": "stdout",
     "output_type": "stream",
     "text": [
      "{'train_runtime': 253.0875, 'train_samples_per_second': 78.767, 'train_steps_per_second': 9.858, 'train_loss': 0.15955627074461423, 'epoch': 5.0}\n"
     ]
    },
    {
     "name": "stderr",
     "output_type": "stream",
     "text": [
      "[I 2025-04-27 00:48:50,821] Trial 40 finished with value: 0.739542225730071 and parameters: {'learning_rate': 3.2613180334338785e-05, 'batch_size': 8, 'num_epochs': 5, 'weight_decay': 0.057323162979838006}. Best is trial 2 with value: 0.7552.\n",
      "Some weights of RobertaForSequenceClassification were not initialized from the model checkpoint at ai-forever/ruRoberta-large and are newly initialized: ['classifier.dense.bias', 'classifier.dense.weight', 'classifier.out_proj.bias', 'classifier.out_proj.weight']\n",
      "You should probably TRAIN this model on a down-stream task to be able to use it for predictions and inference.\n"
     ]
    },
    {
     "name": "stdout",
     "output_type": "stream",
     "text": [
      "{'train_runtime': 175.9301, 'train_samples_per_second': 113.312, 'train_steps_per_second': 7.105, 'train_loss': 0.15161949462890625, 'epoch': 5.0}\n"
     ]
    },
    {
     "name": "stderr",
     "output_type": "stream",
     "text": [
      "[I 2025-04-27 00:51:50,368] Trial 41 finished with value: 0.7415730337078652 and parameters: {'learning_rate': 2.3256612403307355e-05, 'batch_size': 16, 'num_epochs': 5, 'weight_decay': 0.0517530002591433}. Best is trial 2 with value: 0.7552.\n",
      "Some weights of RobertaForSequenceClassification were not initialized from the model checkpoint at ai-forever/ruRoberta-large and are newly initialized: ['classifier.dense.bias', 'classifier.dense.weight', 'classifier.out_proj.bias', 'classifier.out_proj.weight']\n",
      "You should probably TRAIN this model on a down-stream task to be able to use it for predictions and inference.\n"
     ]
    },
    {
     "name": "stdout",
     "output_type": "stream",
     "text": [
      "{'train_runtime': 175.941, 'train_samples_per_second': 113.305, 'train_steps_per_second': 7.105, 'train_loss': 0.155682666015625, 'epoch': 5.0}\n"
     ]
    },
    {
     "name": "stderr",
     "output_type": "stream",
     "text": [
      "[I 2025-04-27 00:54:49,808] Trial 42 finished with value: 0.7453168593064966 and parameters: {'learning_rate': 2.4220577755683585e-05, 'batch_size': 16, 'num_epochs': 5, 'weight_decay': 0.05453037859060315}. Best is trial 2 with value: 0.7552.\n",
      "Some weights of RobertaForSequenceClassification were not initialized from the model checkpoint at ai-forever/ruRoberta-large and are newly initialized: ['classifier.dense.bias', 'classifier.dense.weight', 'classifier.out_proj.bias', 'classifier.out_proj.weight']\n",
      "You should probably TRAIN this model on a down-stream task to be able to use it for predictions and inference.\n"
     ]
    },
    {
     "name": "stdout",
     "output_type": "stream",
     "text": [
      "{'train_runtime': 175.9148, 'train_samples_per_second': 113.322, 'train_steps_per_second': 7.106, 'train_loss': 0.1551416748046875, 'epoch': 5.0}\n"
     ]
    },
    {
     "name": "stderr",
     "output_type": "stream",
     "text": [
      "[I 2025-04-27 00:57:49,259] Trial 43 finished with value: 0.7482993197278912 and parameters: {'learning_rate': 2.5199886710370162e-05, 'batch_size': 16, 'num_epochs': 5, 'weight_decay': 0.04089403365785066}. Best is trial 2 with value: 0.7552.\n",
      "Some weights of RobertaForSequenceClassification were not initialized from the model checkpoint at ai-forever/ruRoberta-large and are newly initialized: ['classifier.dense.bias', 'classifier.dense.weight', 'classifier.out_proj.bias', 'classifier.out_proj.weight']\n",
      "You should probably TRAIN this model on a down-stream task to be able to use it for predictions and inference.\n"
     ]
    },
    {
     "name": "stdout",
     "output_type": "stream",
     "text": [
      "{'train_runtime': 140.6709, 'train_samples_per_second': 113.371, 'train_steps_per_second': 7.109, 'train_loss': 0.19771282958984376, 'epoch': 4.0}\n"
     ]
    },
    {
     "name": "stderr",
     "output_type": "stream",
     "text": [
      "[I 2025-04-27 01:00:13,443] Trial 44 finished with value: 0.7482828282828283 and parameters: {'learning_rate': 2.834213794730809e-05, 'batch_size': 16, 'num_epochs': 4, 'weight_decay': 0.07826062294378014}. Best is trial 2 with value: 0.7552.\n",
      "Some weights of RobertaForSequenceClassification were not initialized from the model checkpoint at ai-forever/ruRoberta-large and are newly initialized: ['classifier.dense.bias', 'classifier.dense.weight', 'classifier.out_proj.bias', 'classifier.out_proj.weight']\n",
      "You should probably TRAIN this model on a down-stream task to be able to use it for predictions and inference.\n"
     ]
    },
    {
     "name": "stdout",
     "output_type": "stream",
     "text": [
      "{'train_runtime': 175.8902, 'train_samples_per_second': 113.338, 'train_steps_per_second': 7.107, 'train_loss': 0.16262591552734376, 'epoch': 5.0}\n"
     ]
    },
    {
     "name": "stderr",
     "output_type": "stream",
     "text": [
      "[I 2025-04-27 01:03:12,847] Trial 45 finished with value: 0.7403494514425031 and parameters: {'learning_rate': 1.801630052806417e-05, 'batch_size': 16, 'num_epochs': 5, 'weight_decay': 0.06303959343247138}. Best is trial 2 with value: 0.7552.\n",
      "Some weights of RobertaForSequenceClassification were not initialized from the model checkpoint at ai-forever/ruRoberta-large and are newly initialized: ['classifier.dense.bias', 'classifier.dense.weight', 'classifier.out_proj.bias', 'classifier.out_proj.weight']\n",
      "You should probably TRAIN this model on a down-stream task to be able to use it for predictions and inference.\n"
     ]
    },
    {
     "name": "stdout",
     "output_type": "stream",
     "text": [
      "{'train_runtime': 211.137, 'train_samples_per_second': 113.301, 'train_steps_per_second': 7.104, 'train_loss': 0.13671567789713543, 'epoch': 6.0}\n"
     ]
    },
    {
     "name": "stderr",
     "output_type": "stream",
     "text": [
      "[I 2025-04-27 01:06:47,626] Trial 46 finished with value: 0.7434052757793765 and parameters: {'learning_rate': 2.1526872376049698e-05, 'batch_size': 16, 'num_epochs': 6, 'weight_decay': 0.04784743336065043}. Best is trial 2 with value: 0.7552.\n",
      "Some weights of RobertaForSequenceClassification were not initialized from the model checkpoint at ai-forever/ruRoberta-large and are newly initialized: ['classifier.dense.bias', 'classifier.dense.weight', 'classifier.out_proj.bias', 'classifier.out_proj.weight']\n",
      "You should probably TRAIN this model on a down-stream task to be able to use it for predictions and inference.\n"
     ]
    },
    {
     "name": "stdout",
     "output_type": "stream",
     "text": [
      "{'train_runtime': 202.7692, 'train_samples_per_second': 78.651, 'train_steps_per_second': 9.844, 'train_loss': 0.459316735277195, 'epoch': 4.0}\n"
     ]
    },
    {
     "name": "stderr",
     "output_type": "stream",
     "text": [
      "[I 2025-04-27 01:10:14,186] Trial 47 finished with value: 0.0 and parameters: {'learning_rate': 3.810307455912898e-05, 'batch_size': 8, 'num_epochs': 4, 'weight_decay': 0.03270550947897488}. Best is trial 2 with value: 0.7552.\n",
      "Some weights of RobertaForSequenceClassification were not initialized from the model checkpoint at ai-forever/ruRoberta-large and are newly initialized: ['classifier.dense.bias', 'classifier.dense.weight', 'classifier.out_proj.bias', 'classifier.out_proj.weight']\n",
      "You should probably TRAIN this model on a down-stream task to be able to use it for predictions and inference.\n"
     ]
    },
    {
     "name": "stdout",
     "output_type": "stream",
     "text": [
      "{'train_runtime': 105.4357, 'train_samples_per_second': 113.444, 'train_steps_per_second': 7.113, 'train_loss': 0.20198211669921876, 'epoch': 3.0}\n"
     ]
    },
    {
     "name": "stderr",
     "output_type": "stream",
     "text": [
      "[I 2025-04-27 01:12:03,682] Trial 48 finished with value: 0.7420408163265306 and parameters: {'learning_rate': 3.04236302913808e-05, 'batch_size': 16, 'num_epochs': 3, 'weight_decay': 0.020423377608999833}. Best is trial 2 with value: 0.7552.\n",
      "Some weights of RobertaForSequenceClassification were not initialized from the model checkpoint at ai-forever/ruRoberta-large and are newly initialized: ['classifier.dense.bias', 'classifier.dense.weight', 'classifier.out_proj.bias', 'classifier.out_proj.weight']\n",
      "You should probably TRAIN this model on a down-stream task to be able to use it for predictions and inference.\n"
     ]
    },
    {
     "name": "stdout",
     "output_type": "stream",
     "text": [
      "{'train_runtime': 304.1384, 'train_samples_per_second': 78.655, 'train_steps_per_second': 9.844, 'train_loss': 0.13101088244196726, 'epoch': 6.0}\n"
     ]
    },
    {
     "name": "stderr",
     "output_type": "stream",
     "text": [
      "[I 2025-04-27 01:17:11,830] Trial 49 finished with value: 0.7482297403619197 and parameters: {'learning_rate': 2.545136026405671e-05, 'batch_size': 8, 'num_epochs': 6, 'weight_decay': 0.0897504955752223}. Best is trial 2 with value: 0.7552.\n",
      "Some weights of RobertaForSequenceClassification were not initialized from the model checkpoint at ai-forever/ruRoberta-large and are newly initialized: ['classifier.dense.bias', 'classifier.dense.weight', 'classifier.out_proj.bias', 'classifier.out_proj.weight']\n",
      "You should probably TRAIN this model on a down-stream task to be able to use it for predictions and inference.\n"
     ]
    },
    {
     "name": "stdout",
     "output_type": "stream",
     "text": [
      "{'train_runtime': 140.6304, 'train_samples_per_second': 113.404, 'train_steps_per_second': 7.111, 'train_loss': 0.1828729705810547, 'epoch': 4.0}\n"
     ]
    },
    {
     "name": "stderr",
     "output_type": "stream",
     "text": [
      "[I 2025-04-27 01:19:36,361] Trial 50 finished with value: 0.7449424831416105 and parameters: {'learning_rate': 4.431091772490612e-05, 'batch_size': 16, 'num_epochs': 4, 'weight_decay': 0.07392429753785915}. Best is trial 2 with value: 0.7552.\n",
      "Some weights of RobertaForSequenceClassification were not initialized from the model checkpoint at ai-forever/ruRoberta-large and are newly initialized: ['classifier.dense.bias', 'classifier.dense.weight', 'classifier.out_proj.bias', 'classifier.out_proj.weight']\n",
      "You should probably TRAIN this model on a down-stream task to be able to use it for predictions and inference.\n"
     ]
    },
    {
     "name": "stdout",
     "output_type": "stream",
     "text": [
      "{'train_runtime': 210.9584, 'train_samples_per_second': 113.397, 'train_steps_per_second': 7.11, 'train_loss': 0.13803485107421876, 'epoch': 6.0}\n"
     ]
    },
    {
     "name": "stderr",
     "output_type": "stream",
     "text": [
      "[I 2025-04-27 01:23:10,813] Trial 51 finished with value: 0.7446808510638298 and parameters: {'learning_rate': 3.2610277915758076e-05, 'batch_size': 16, 'num_epochs': 6, 'weight_decay': 0.05769938564627928}. Best is trial 2 with value: 0.7552.\n",
      "Some weights of RobertaForSequenceClassification were not initialized from the model checkpoint at ai-forever/ruRoberta-large and are newly initialized: ['classifier.dense.bias', 'classifier.dense.weight', 'classifier.out_proj.bias', 'classifier.out_proj.weight']\n",
      "You should probably TRAIN this model on a down-stream task to be able to use it for predictions and inference.\n"
     ]
    },
    {
     "name": "stdout",
     "output_type": "stream",
     "text": [
      "{'train_runtime': 210.8957, 'train_samples_per_second': 113.43, 'train_steps_per_second': 7.113, 'train_loss': 0.14414900716145834, 'epoch': 6.0}\n"
     ]
    },
    {
     "name": "stderr",
     "output_type": "stream",
     "text": [
      "[I 2025-04-27 01:26:45,212] Trial 52 finished with value: 0.7432590855803048 and parameters: {'learning_rate': 3.6824925479752545e-05, 'batch_size': 16, 'num_epochs': 6, 'weight_decay': 0.06179897444582381}. Best is trial 2 with value: 0.7552.\n",
      "Some weights of RobertaForSequenceClassification were not initialized from the model checkpoint at ai-forever/ruRoberta-large and are newly initialized: ['classifier.dense.bias', 'classifier.dense.weight', 'classifier.out_proj.bias', 'classifier.out_proj.weight']\n",
      "You should probably TRAIN this model on a down-stream task to be able to use it for predictions and inference.\n"
     ]
    },
    {
     "name": "stdout",
     "output_type": "stream",
     "text": [
      "{'train_runtime': 211.1015, 'train_samples_per_second': 113.32, 'train_steps_per_second': 7.106, 'train_loss': 0.1400691630045573, 'epoch': 6.0}\n"
     ]
    },
    {
     "name": "stderr",
     "output_type": "stream",
     "text": [
      "[I 2025-04-27 01:30:19,819] Trial 53 finished with value: 0.751188589540412 and parameters: {'learning_rate': 3.2051319024545234e-05, 'batch_size': 16, 'num_epochs': 6, 'weight_decay': 0.06629652642086367}. Best is trial 2 with value: 0.7552.\n",
      "Some weights of RobertaForSequenceClassification were not initialized from the model checkpoint at ai-forever/ruRoberta-large and are newly initialized: ['classifier.dense.bias', 'classifier.dense.weight', 'classifier.out_proj.bias', 'classifier.out_proj.weight']\n",
      "You should probably TRAIN this model on a down-stream task to be able to use it for predictions and inference.\n"
     ]
    },
    {
     "name": "stdout",
     "output_type": "stream",
     "text": [
      "{'train_runtime': 210.9845, 'train_samples_per_second': 113.383, 'train_steps_per_second': 7.11, 'train_loss': 0.13705260213216147, 'epoch': 6.0}\n"
     ]
    },
    {
     "name": "stderr",
     "output_type": "stream",
     "text": [
      "[I 2025-04-27 01:33:54,327] Trial 54 finished with value: 0.7424960505529226 and parameters: {'learning_rate': 2.8109915465275568e-05, 'batch_size': 16, 'num_epochs': 6, 'weight_decay': 0.0812294917262201}. Best is trial 2 with value: 0.7552.\n",
      "Some weights of RobertaForSequenceClassification were not initialized from the model checkpoint at ai-forever/ruRoberta-large and are newly initialized: ['classifier.dense.bias', 'classifier.dense.weight', 'classifier.out_proj.bias', 'classifier.out_proj.weight']\n",
      "You should probably TRAIN this model on a down-stream task to be able to use it for predictions and inference.\n"
     ]
    },
    {
     "name": "stdout",
     "output_type": "stream",
     "text": [
      "{'train_runtime': 253.4399, 'train_samples_per_second': 78.658, 'train_steps_per_second': 9.845, 'train_loss': 0.1646580392229772, 'epoch': 5.0}\n"
     ]
    },
    {
     "name": "stderr",
     "output_type": "stream",
     "text": [
      "[I 2025-04-27 01:38:11,564] Trial 55 finished with value: 0.7505863956215794 and parameters: {'learning_rate': 3.374635935320279e-05, 'batch_size': 8, 'num_epochs': 5, 'weight_decay': 0.06651432267843532}. Best is trial 2 with value: 0.7552.\n",
      "Some weights of RobertaForSequenceClassification were not initialized from the model checkpoint at ai-forever/ruRoberta-large and are newly initialized: ['classifier.dense.bias', 'classifier.dense.weight', 'classifier.out_proj.bias', 'classifier.out_proj.weight']\n",
      "You should probably TRAIN this model on a down-stream task to be able to use it for predictions and inference.\n"
     ]
    },
    {
     "name": "stdout",
     "output_type": "stream",
     "text": [
      "{'train_runtime': 175.8737, 'train_samples_per_second': 113.348, 'train_steps_per_second': 7.107, 'train_loss': 0.15537998046875, 'epoch': 5.0}\n"
     ]
    },
    {
     "name": "stderr",
     "output_type": "stream",
     "text": [
      "[I 2025-04-27 01:41:11,003] Trial 56 finished with value: 0.7541247484909457 and parameters: {'learning_rate': 2.1825751673158425e-05, 'batch_size': 16, 'num_epochs': 5, 'weight_decay': 0.07068706879983358}. Best is trial 2 with value: 0.7552.\n",
      "Some weights of RobertaForSequenceClassification were not initialized from the model checkpoint at ai-forever/ruRoberta-large and are newly initialized: ['classifier.dense.bias', 'classifier.dense.weight', 'classifier.out_proj.bias', 'classifier.out_proj.weight']\n",
      "You should probably TRAIN this model on a down-stream task to be able to use it for predictions and inference.\n"
     ]
    },
    {
     "name": "stdout",
     "output_type": "stream",
     "text": [
      "{'train_runtime': 253.3878, 'train_samples_per_second': 78.674, 'train_steps_per_second': 9.847, 'train_loss': 0.1613635351758204, 'epoch': 5.0}\n"
     ]
    },
    {
     "name": "stderr",
     "output_type": "stream",
     "text": [
      "[I 2025-04-27 01:45:28,161] Trial 57 finished with value: 0.7493047278506159 and parameters: {'learning_rate': 2.0927213532274837e-05, 'batch_size': 8, 'num_epochs': 5, 'weight_decay': 0.07202611547771394}. Best is trial 2 with value: 0.7552.\n",
      "Some weights of RobertaForSequenceClassification were not initialized from the model checkpoint at ai-forever/ruRoberta-large and are newly initialized: ['classifier.dense.bias', 'classifier.dense.weight', 'classifier.out_proj.bias', 'classifier.out_proj.weight']\n",
      "You should probably TRAIN this model on a down-stream task to be able to use it for predictions and inference.\n"
     ]
    },
    {
     "name": "stdout",
     "output_type": "stream",
     "text": [
      "{'train_runtime': 175.9128, 'train_samples_per_second': 113.323, 'train_steps_per_second': 7.106, 'train_loss': 0.170509912109375, 'epoch': 5.0}\n"
     ]
    },
    {
     "name": "stderr",
     "output_type": "stream",
     "text": [
      "[I 2025-04-27 01:48:27,727] Trial 58 finished with value: 0.7430415490116983 and parameters: {'learning_rate': 1.636509486954667e-05, 'batch_size': 16, 'num_epochs': 5, 'weight_decay': 0.054194902597145975}. Best is trial 2 with value: 0.7552.\n",
      "Some weights of RobertaForSequenceClassification were not initialized from the model checkpoint at ai-forever/ruRoberta-large and are newly initialized: ['classifier.dense.bias', 'classifier.dense.weight', 'classifier.out_proj.bias', 'classifier.out_proj.weight']\n",
      "You should probably TRAIN this model on a down-stream task to be able to use it for predictions and inference.\n"
     ]
    },
    {
     "name": "stdout",
     "output_type": "stream",
     "text": [
      "{'train_runtime': 202.6794, 'train_samples_per_second': 78.686, 'train_steps_per_second': 9.848, 'train_loss': 0.45900480159537826, 'epoch': 4.0}\n"
     ]
    },
    {
     "name": "stderr",
     "output_type": "stream",
     "text": [
      "[I 2025-04-27 01:51:54,471] Trial 59 finished with value: 0.001583531274742676 and parameters: {'learning_rate': 2.2486779961827716e-05, 'batch_size': 8, 'num_epochs': 4, 'weight_decay': 0.09928376394206209}. Best is trial 2 with value: 0.7552.\n",
      "Some weights of RobertaForSequenceClassification were not initialized from the model checkpoint at ai-forever/ruRoberta-large and are newly initialized: ['classifier.dense.bias', 'classifier.dense.weight', 'classifier.out_proj.bias', 'classifier.out_proj.weight']\n",
      "You should probably TRAIN this model on a down-stream task to be able to use it for predictions and inference.\n"
     ]
    },
    {
     "name": "stdout",
     "output_type": "stream",
     "text": [
      "{'train_runtime': 175.9128, 'train_samples_per_second': 113.323, 'train_steps_per_second': 7.106, 'train_loss': 0.1512620361328125, 'epoch': 5.0}\n"
     ]
    },
    {
     "name": "stderr",
     "output_type": "stream",
     "text": [
      "[I 2025-04-27 01:54:54,088] Trial 60 finished with value: 0.7442977190876351 and parameters: {'learning_rate': 2.4596334253727252e-05, 'batch_size': 16, 'num_epochs': 5, 'weight_decay': 0.08668137353264732}. Best is trial 2 with value: 0.7552.\n",
      "Some weights of RobertaForSequenceClassification were not initialized from the model checkpoint at ai-forever/ruRoberta-large and are newly initialized: ['classifier.dense.bias', 'classifier.dense.weight', 'classifier.out_proj.bias', 'classifier.out_proj.weight']\n",
      "You should probably TRAIN this model on a down-stream task to be able to use it for predictions and inference.\n"
     ]
    },
    {
     "name": "stdout",
     "output_type": "stream",
     "text": [
      "{'train_runtime': 175.8902, 'train_samples_per_second': 113.338, 'train_steps_per_second': 7.107, 'train_loss': 0.1617135986328125, 'epoch': 5.0}\n"
     ]
    },
    {
     "name": "stderr",
     "output_type": "stream",
     "text": [
      "[I 2025-04-27 01:57:53,516] Trial 61 finished with value: 0.7484076433121019 and parameters: {'learning_rate': 2.922799405701184e-05, 'batch_size': 16, 'num_epochs': 5, 'weight_decay': 0.06471651017308279}. Best is trial 2 with value: 0.7552.\n",
      "Some weights of RobertaForSequenceClassification were not initialized from the model checkpoint at ai-forever/ruRoberta-large and are newly initialized: ['classifier.dense.bias', 'classifier.dense.weight', 'classifier.out_proj.bias', 'classifier.out_proj.weight']\n",
      "You should probably TRAIN this model on a down-stream task to be able to use it for predictions and inference.\n"
     ]
    },
    {
     "name": "stdout",
     "output_type": "stream",
     "text": [
      "{'train_runtime': 211.0699, 'train_samples_per_second': 113.337, 'train_steps_per_second': 7.107, 'train_loss': 0.14779141235351562, 'epoch': 6.0}\n"
     ]
    },
    {
     "name": "stderr",
     "output_type": "stream",
     "text": [
      "[I 2025-04-27 02:01:28,082] Trial 62 finished with value: 0.7445544554455445 and parameters: {'learning_rate': 2.6396010359212975e-05, 'batch_size': 16, 'num_epochs': 6, 'weight_decay': 0.05956544575270513}. Best is trial 2 with value: 0.7552.\n",
      "Some weights of RobertaForSequenceClassification were not initialized from the model checkpoint at ai-forever/ruRoberta-large and are newly initialized: ['classifier.dense.bias', 'classifier.dense.weight', 'classifier.out_proj.bias', 'classifier.out_proj.weight']\n",
      "You should probably TRAIN this model on a down-stream task to be able to use it for predictions and inference.\n"
     ]
    },
    {
     "name": "stdout",
     "output_type": "stream",
     "text": [
      "{'train_runtime': 175.9969, 'train_samples_per_second': 113.269, 'train_steps_per_second': 7.102, 'train_loss': 0.3242933837890625, 'epoch': 5.0}\n"
     ]
    },
    {
     "name": "stderr",
     "output_type": "stream",
     "text": [
      "[I 2025-04-27 02:04:27,576] Trial 63 finished with value: 0.622707423580786 and parameters: {'learning_rate': 1.2489376717122581e-05, 'batch_size': 16, 'num_epochs': 5, 'weight_decay': 0.06978012467001926}. Best is trial 2 with value: 0.7552.\n",
      "Some weights of RobertaForSequenceClassification were not initialized from the model checkpoint at ai-forever/ruRoberta-large and are newly initialized: ['classifier.dense.bias', 'classifier.dense.weight', 'classifier.out_proj.bias', 'classifier.out_proj.weight']\n",
      "You should probably TRAIN this model on a down-stream task to be able to use it for predictions and inference.\n"
     ]
    },
    {
     "name": "stdout",
     "output_type": "stream",
     "text": [
      "{'train_runtime': 211.2682, 'train_samples_per_second': 113.23, 'train_steps_per_second': 7.1, 'train_loss': 0.13812850952148437, 'epoch': 6.0}\n"
     ]
    },
    {
     "name": "stderr",
     "output_type": "stream",
     "text": [
      "[I 2025-04-27 02:08:02,361] Trial 64 finished with value: 0.7553063676411694 and parameters: {'learning_rate': 2.036419804781483e-05, 'batch_size': 16, 'num_epochs': 6, 'weight_decay': 0.05088833555168237}. Best is trial 64 with value: 0.7553063676411694.\n",
      "Some weights of RobertaForSequenceClassification were not initialized from the model checkpoint at ai-forever/ruRoberta-large and are newly initialized: ['classifier.dense.bias', 'classifier.dense.weight', 'classifier.out_proj.bias', 'classifier.out_proj.weight']\n",
      "You should probably TRAIN this model on a down-stream task to be able to use it for predictions and inference.\n"
     ]
    },
    {
     "name": "stdout",
     "output_type": "stream",
     "text": [
      "{'train_runtime': 175.9544, 'train_samples_per_second': 113.296, 'train_steps_per_second': 7.104, 'train_loss': 0.45644306640625, 'epoch': 5.0}\n"
     ]
    },
    {
     "name": "stderr",
     "output_type": "stream",
     "text": [
      "[I 2025-04-27 02:11:01,834] Trial 65 finished with value: 0.001583531274742676 and parameters: {'learning_rate': 1.89780264257738e-05, 'batch_size': 16, 'num_epochs': 5, 'weight_decay': 0.041072097631170576}. Best is trial 64 with value: 0.7553063676411694.\n",
      "Some weights of RobertaForSequenceClassification were not initialized from the model checkpoint at ai-forever/ruRoberta-large and are newly initialized: ['classifier.dense.bias', 'classifier.dense.weight', 'classifier.out_proj.bias', 'classifier.out_proj.weight']\n",
      "You should probably TRAIN this model on a down-stream task to be able to use it for predictions and inference.\n"
     ]
    },
    {
     "name": "stdout",
     "output_type": "stream",
     "text": [
      "{'train_runtime': 140.7611, 'train_samples_per_second': 113.298, 'train_steps_per_second': 7.104, 'train_loss': 0.18617156982421876, 'epoch': 4.0}\n"
     ]
    },
    {
     "name": "stderr",
     "output_type": "stream",
     "text": [
      "[I 2025-04-27 02:13:26,107] Trial 66 finished with value: 0.7415547415547415 and parameters: {'learning_rate': 2.0483748548197667e-05, 'batch_size': 16, 'num_epochs': 4, 'weight_decay': 0.045374878376220416}. Best is trial 64 with value: 0.7553063676411694.\n",
      "Some weights of RobertaForSequenceClassification were not initialized from the model checkpoint at ai-forever/ruRoberta-large and are newly initialized: ['classifier.dense.bias', 'classifier.dense.weight', 'classifier.out_proj.bias', 'classifier.out_proj.weight']\n",
      "You should probably TRAIN this model on a down-stream task to be able to use it for predictions and inference.\n"
     ]
    },
    {
     "name": "stdout",
     "output_type": "stream",
     "text": [
      "{'train_runtime': 253.6236, 'train_samples_per_second': 78.601, 'train_steps_per_second': 9.837, 'train_loss': 0.14987876142910822, 'epoch': 5.0}\n"
     ]
    },
    {
     "name": "stderr",
     "output_type": "stream",
     "text": [
      "[I 2025-04-27 02:17:43,524] Trial 67 finished with value: 0.748207171314741 and parameters: {'learning_rate': 2.2568959461114655e-05, 'batch_size': 8, 'num_epochs': 5, 'weight_decay': 0.005685619365729426}. Best is trial 64 with value: 0.7553063676411694.\n",
      "Some weights of RobertaForSequenceClassification were not initialized from the model checkpoint at ai-forever/ruRoberta-large and are newly initialized: ['classifier.dense.bias', 'classifier.dense.weight', 'classifier.out_proj.bias', 'classifier.out_proj.weight']\n",
      "You should probably TRAIN this model on a down-stream task to be able to use it for predictions and inference.\n"
     ]
    },
    {
     "name": "stdout",
     "output_type": "stream",
     "text": [
      "{'train_runtime': 211.2276, 'train_samples_per_second': 113.252, 'train_steps_per_second': 7.101, 'train_loss': 0.14341953531901042, 'epoch': 6.0}\n"
     ]
    },
    {
     "name": "stderr",
     "output_type": "stream",
     "text": [
      "[I 2025-04-27 02:21:18,356] Trial 68 finished with value: 0.7510951812027081 and parameters: {'learning_rate': 1.8842399192045793e-05, 'batch_size': 16, 'num_epochs': 6, 'weight_decay': 0.052613372380188025}. Best is trial 64 with value: 0.7553063676411694.\n",
      "Some weights of RobertaForSequenceClassification were not initialized from the model checkpoint at ai-forever/ruRoberta-large and are newly initialized: ['classifier.dense.bias', 'classifier.dense.weight', 'classifier.out_proj.bias', 'classifier.out_proj.weight']\n",
      "You should probably TRAIN this model on a down-stream task to be able to use it for predictions and inference.\n"
     ]
    },
    {
     "name": "stdout",
     "output_type": "stream",
     "text": [
      "{'train_runtime': 253.245, 'train_samples_per_second': 78.718, 'train_steps_per_second': 9.852, 'train_loss': 0.15215800252849448, 'epoch': 5.0}\n"
     ]
    },
    {
     "name": "stderr",
     "output_type": "stream",
     "text": [
      "[I 2025-04-27 02:25:35,397] Trial 69 finished with value: 0.7404733253108704 and parameters: {'learning_rate': 1.7401331318595418e-05, 'batch_size': 8, 'num_epochs': 5, 'weight_decay': 0.02546455757214713}. Best is trial 64 with value: 0.7553063676411694.\n",
      "Some weights of RobertaForSequenceClassification were not initialized from the model checkpoint at ai-forever/ruRoberta-large and are newly initialized: ['classifier.dense.bias', 'classifier.dense.weight', 'classifier.out_proj.bias', 'classifier.out_proj.weight']\n",
      "You should probably TRAIN this model on a down-stream task to be able to use it for predictions and inference.\n"
     ]
    },
    {
     "name": "stdout",
     "output_type": "stream",
     "text": [
      "{'train_runtime': 211.2041, 'train_samples_per_second': 113.265, 'train_steps_per_second': 7.102, 'train_loss': 0.1398320821126302, 'epoch': 6.0}\n"
     ]
    },
    {
     "name": "stderr",
     "output_type": "stream",
     "text": [
      "[I 2025-04-27 02:29:10,754] Trial 70 finished with value: 0.7575516693163752 and parameters: {'learning_rate': 2.3865475649837553e-05, 'batch_size': 16, 'num_epochs': 6, 'weight_decay': 0.049259958328353934}. Best is trial 70 with value: 0.7575516693163752.\n",
      "Some weights of RobertaForSequenceClassification were not initialized from the model checkpoint at ai-forever/ruRoberta-large and are newly initialized: ['classifier.dense.bias', 'classifier.dense.weight', 'classifier.out_proj.bias', 'classifier.out_proj.weight']\n",
      "You should probably TRAIN this model on a down-stream task to be able to use it for predictions and inference.\n"
     ]
    },
    {
     "name": "stdout",
     "output_type": "stream",
     "text": [
      "{'train_runtime': 211.0907, 'train_samples_per_second': 113.326, 'train_steps_per_second': 7.106, 'train_loss': 0.14292561848958332, 'epoch': 6.0}\n"
     ]
    },
    {
     "name": "stderr",
     "output_type": "stream",
     "text": [
      "[I 2025-04-27 02:32:45,562] Trial 71 finished with value: 0.7486077963404932 and parameters: {'learning_rate': 2.192306550115894e-05, 'batch_size': 16, 'num_epochs': 6, 'weight_decay': 0.04987314726643241}. Best is trial 70 with value: 0.7575516693163752.\n",
      "Some weights of RobertaForSequenceClassification were not initialized from the model checkpoint at ai-forever/ruRoberta-large and are newly initialized: ['classifier.dense.bias', 'classifier.dense.weight', 'classifier.out_proj.bias', 'classifier.out_proj.weight']\n",
      "You should probably TRAIN this model on a down-stream task to be able to use it for predictions and inference.\n"
     ]
    },
    {
     "name": "stdout",
     "output_type": "stream",
     "text": [
      "{'train_runtime': 211.0376, 'train_samples_per_second': 113.354, 'train_steps_per_second': 7.108, 'train_loss': 0.138418212890625, 'epoch': 6.0}\n"
     ]
    },
    {
     "name": "stderr",
     "output_type": "stream",
     "text": [
      "[I 2025-04-27 02:36:20,271] Trial 72 finished with value: 0.7508939213349225 and parameters: {'learning_rate': 2.408353340965271e-05, 'batch_size': 16, 'num_epochs': 6, 'weight_decay': 0.07838033885854301}. Best is trial 70 with value: 0.7575516693163752.\n",
      "Some weights of RobertaForSequenceClassification were not initialized from the model checkpoint at ai-forever/ruRoberta-large and are newly initialized: ['classifier.dense.bias', 'classifier.dense.weight', 'classifier.out_proj.bias', 'classifier.out_proj.weight']\n",
      "You should probably TRAIN this model on a down-stream task to be able to use it for predictions and inference.\n"
     ]
    },
    {
     "name": "stdout",
     "output_type": "stream",
     "text": [
      "{'train_runtime': 211.0923, 'train_samples_per_second': 113.325, 'train_steps_per_second': 7.106, 'train_loss': 0.13993087768554688, 'epoch': 6.0}\n"
     ]
    },
    {
     "name": "stderr",
     "output_type": "stream",
     "text": [
      "[I 2025-04-27 02:39:54,992] Trial 73 finished with value: 0.7465291550971836 and parameters: {'learning_rate': 2.6856166361228018e-05, 'batch_size': 16, 'num_epochs': 6, 'weight_decay': 0.010291022851181235}. Best is trial 70 with value: 0.7575516693163752.\n",
      "Some weights of RobertaForSequenceClassification were not initialized from the model checkpoint at ai-forever/ruRoberta-large and are newly initialized: ['classifier.dense.bias', 'classifier.dense.weight', 'classifier.out_proj.bias', 'classifier.out_proj.weight']\n",
      "You should probably TRAIN this model on a down-stream task to be able to use it for predictions and inference.\n"
     ]
    },
    {
     "name": "stdout",
     "output_type": "stream",
     "text": [
      "{'train_runtime': 211.0538, 'train_samples_per_second': 113.346, 'train_steps_per_second': 7.107, 'train_loss': 0.13990940348307293, 'epoch': 6.0}\n"
     ]
    },
    {
     "name": "stderr",
     "output_type": "stream",
     "text": [
      "[I 2025-04-27 02:43:29,586] Trial 74 finished with value: 0.7498001598721024 and parameters: {'learning_rate': 2.5412920040229528e-05, 'batch_size': 16, 'num_epochs': 6, 'weight_decay': 0.017820642817804835}. Best is trial 70 with value: 0.7575516693163752.\n",
      "Some weights of RobertaForSequenceClassification were not initialized from the model checkpoint at ai-forever/ruRoberta-large and are newly initialized: ['classifier.dense.bias', 'classifier.dense.weight', 'classifier.out_proj.bias', 'classifier.out_proj.weight']\n",
      "You should probably TRAIN this model on a down-stream task to be able to use it for predictions and inference.\n"
     ]
    },
    {
     "name": "stdout",
     "output_type": "stream",
     "text": [
      "{'train_runtime': 211.0379, 'train_samples_per_second': 113.354, 'train_steps_per_second': 7.108, 'train_loss': 0.13736996459960937, 'epoch': 6.0}\n"
     ]
    },
    {
     "name": "stderr",
     "output_type": "stream",
     "text": [
      "[I 2025-04-27 02:47:04,143] Trial 75 finished with value: 0.7553956834532374 and parameters: {'learning_rate': 2.342556154374276e-05, 'batch_size': 16, 'num_epochs': 6, 'weight_decay': 0.0361791658799708}. Best is trial 70 with value: 0.7575516693163752.\n",
      "Some weights of RobertaForSequenceClassification were not initialized from the model checkpoint at ai-forever/ruRoberta-large and are newly initialized: ['classifier.dense.bias', 'classifier.dense.weight', 'classifier.out_proj.bias', 'classifier.out_proj.weight']\n",
      "You should probably TRAIN this model on a down-stream task to be able to use it for predictions and inference.\n"
     ]
    },
    {
     "name": "stdout",
     "output_type": "stream",
     "text": [
      "{'train_runtime': 211.0225, 'train_samples_per_second': 113.362, 'train_steps_per_second': 7.108, 'train_loss': 0.14022864786783854, 'epoch': 6.0}\n"
     ]
    },
    {
     "name": "stderr",
     "output_type": "stream",
     "text": [
      "[I 2025-04-27 02:50:38,665] Trial 76 finished with value: 0.7554498612762585 and parameters: {'learning_rate': 2.3153525214245616e-05, 'batch_size': 16, 'num_epochs': 6, 'weight_decay': 0.03562815501018691}. Best is trial 70 with value: 0.7575516693163752.\n",
      "Some weights of RobertaForSequenceClassification were not initialized from the model checkpoint at ai-forever/ruRoberta-large and are newly initialized: ['classifier.dense.bias', 'classifier.dense.weight', 'classifier.out_proj.bias', 'classifier.out_proj.weight']\n",
      "You should probably TRAIN this model on a down-stream task to be able to use it for predictions and inference.\n"
     ]
    },
    {
     "name": "stdout",
     "output_type": "stream",
     "text": [
      "{'train_runtime': 211.0568, 'train_samples_per_second': 113.344, 'train_steps_per_second': 7.107, 'train_loss': 0.1383968811035156, 'epoch': 6.0}\n"
     ]
    },
    {
     "name": "stderr",
     "output_type": "stream",
     "text": [
      "[I 2025-04-27 02:54:13,395] Trial 77 finished with value: 0.7522052927024859 and parameters: {'learning_rate': 2.0015633835758894e-05, 'batch_size': 16, 'num_epochs': 6, 'weight_decay': 0.029772483902450565}. Best is trial 70 with value: 0.7575516693163752.\n",
      "Some weights of RobertaForSequenceClassification were not initialized from the model checkpoint at ai-forever/ruRoberta-large and are newly initialized: ['classifier.dense.bias', 'classifier.dense.weight', 'classifier.out_proj.bias', 'classifier.out_proj.weight']\n",
      "You should probably TRAIN this model on a down-stream task to be able to use it for predictions and inference.\n"
     ]
    },
    {
     "name": "stdout",
     "output_type": "stream",
     "text": [
      "{'train_runtime': 211.0979, 'train_samples_per_second': 113.322, 'train_steps_per_second': 7.106, 'train_loss': 0.14116504923502604, 'epoch': 6.0}\n"
     ]
    },
    {
     "name": "stderr",
     "output_type": "stream",
     "text": [
      "[I 2025-04-27 02:57:47,988] Trial 78 finished with value: 0.7493995196156925 and parameters: {'learning_rate': 1.9668573274830075e-05, 'batch_size': 16, 'num_epochs': 6, 'weight_decay': 0.03500257222546874}. Best is trial 70 with value: 0.7575516693163752.\n",
      "Some weights of RobertaForSequenceClassification were not initialized from the model checkpoint at ai-forever/ruRoberta-large and are newly initialized: ['classifier.dense.bias', 'classifier.dense.weight', 'classifier.out_proj.bias', 'classifier.out_proj.weight']\n",
      "You should probably TRAIN this model on a down-stream task to be able to use it for predictions and inference.\n"
     ]
    },
    {
     "name": "stdout",
     "output_type": "stream",
     "text": [
      "{'train_runtime': 211.0493, 'train_samples_per_second': 113.348, 'train_steps_per_second': 7.107, 'train_loss': 0.13956613159179687, 'epoch': 6.0}\n"
     ]
    },
    {
     "name": "stderr",
     "output_type": "stream",
     "text": [
      "[I 2025-04-27 03:01:22,528] Trial 79 finished with value: 0.7472 and parameters: {'learning_rate': 2.1277431233229894e-05, 'batch_size': 16, 'num_epochs': 6, 'weight_decay': 0.03629073838189813}. Best is trial 70 with value: 0.7575516693163752.\n",
      "Some weights of RobertaForSequenceClassification were not initialized from the model checkpoint at ai-forever/ruRoberta-large and are newly initialized: ['classifier.dense.bias', 'classifier.dense.weight', 'classifier.out_proj.bias', 'classifier.out_proj.weight']\n",
      "You should probably TRAIN this model on a down-stream task to be able to use it for predictions and inference.\n"
     ]
    },
    {
     "name": "stdout",
     "output_type": "stream",
     "text": [
      "{'train_runtime': 210.9422, 'train_samples_per_second': 113.405, 'train_steps_per_second': 7.111, 'train_loss': 0.14556842041015625, 'epoch': 6.0}\n"
     ]
    },
    {
     "name": "stderr",
     "output_type": "stream",
     "text": [
      "[I 2025-04-27 03:04:57,027] Trial 80 finished with value: 0.7401512136888182 and parameters: {'learning_rate': 1.851740059242291e-05, 'batch_size': 16, 'num_epochs': 6, 'weight_decay': 0.031147806103002294}. Best is trial 70 with value: 0.7575516693163752.\n",
      "Some weights of RobertaForSequenceClassification were not initialized from the model checkpoint at ai-forever/ruRoberta-large and are newly initialized: ['classifier.dense.bias', 'classifier.dense.weight', 'classifier.out_proj.bias', 'classifier.out_proj.weight']\n",
      "You should probably TRAIN this model on a down-stream task to be able to use it for predictions and inference.\n"
     ]
    },
    {
     "name": "stdout",
     "output_type": "stream",
     "text": [
      "{'train_runtime': 211.0352, 'train_samples_per_second': 113.356, 'train_steps_per_second': 7.108, 'train_loss': 0.14898199462890624, 'epoch': 6.0}\n"
     ]
    },
    {
     "name": "stderr",
     "output_type": "stream",
     "text": [
      "[I 2025-04-27 03:08:31,621] Trial 81 finished with value: 0.7450199203187251 and parameters: {'learning_rate': 2.285542318007974e-05, 'batch_size': 16, 'num_epochs': 6, 'weight_decay': 0.02504001901232896}. Best is trial 70 with value: 0.7575516693163752.\n",
      "Some weights of RobertaForSequenceClassification were not initialized from the model checkpoint at ai-forever/ruRoberta-large and are newly initialized: ['classifier.dense.bias', 'classifier.dense.weight', 'classifier.out_proj.bias', 'classifier.out_proj.weight']\n",
      "You should probably TRAIN this model on a down-stream task to be able to use it for predictions and inference.\n"
     ]
    },
    {
     "name": "stdout",
     "output_type": "stream",
     "text": [
      "{'train_runtime': 211.0558, 'train_samples_per_second': 113.344, 'train_steps_per_second': 7.107, 'train_loss': 0.13826443481445314, 'epoch': 6.0}\n"
     ]
    },
    {
     "name": "stderr",
     "output_type": "stream",
     "text": [
      "[I 2025-04-27 03:12:06,159] Trial 82 finished with value: 0.7530913442361388 and parameters: {'learning_rate': 2.056364749702912e-05, 'batch_size': 16, 'num_epochs': 6, 'weight_decay': 0.04368406347691902}. Best is trial 70 with value: 0.7575516693163752.\n",
      "Some weights of RobertaForSequenceClassification were not initialized from the model checkpoint at ai-forever/ruRoberta-large and are newly initialized: ['classifier.dense.bias', 'classifier.dense.weight', 'classifier.out_proj.bias', 'classifier.out_proj.weight']\n",
      "You should probably TRAIN this model on a down-stream task to be able to use it for predictions and inference.\n"
     ]
    },
    {
     "name": "stdout",
     "output_type": "stream",
     "text": [
      "{'train_runtime': 211.0104, 'train_samples_per_second': 113.369, 'train_steps_per_second': 7.109, 'train_loss': 0.14584961954752604, 'epoch': 6.0}\n"
     ]
    },
    {
     "name": "stderr",
     "output_type": "stream",
     "text": [
      "[I 2025-04-27 03:15:40,726] Trial 83 finished with value: 0.7514910536779325 and parameters: {'learning_rate': 2.071350776124206e-05, 'batch_size': 16, 'num_epochs': 6, 'weight_decay': 0.03831178218856761}. Best is trial 70 with value: 0.7575516693163752.\n",
      "Some weights of RobertaForSequenceClassification were not initialized from the model checkpoint at ai-forever/ruRoberta-large and are newly initialized: ['classifier.dense.bias', 'classifier.dense.weight', 'classifier.out_proj.bias', 'classifier.out_proj.weight']\n",
      "You should probably TRAIN this model on a down-stream task to be able to use it for predictions and inference.\n"
     ]
    },
    {
     "name": "stdout",
     "output_type": "stream",
     "text": [
      "{'train_runtime': 211.0775, 'train_samples_per_second': 113.333, 'train_steps_per_second': 7.106, 'train_loss': 0.14169342041015626, 'epoch': 6.0}\n"
     ]
    },
    {
     "name": "stderr",
     "output_type": "stream",
     "text": [
      "[I 2025-04-27 03:19:15,562] Trial 84 finished with value: 0.7501006036217304 and parameters: {'learning_rate': 1.9846889339911487e-05, 'batch_size': 16, 'num_epochs': 6, 'weight_decay': 0.04416935347869125}. Best is trial 70 with value: 0.7575516693163752.\n",
      "Some weights of RobertaForSequenceClassification were not initialized from the model checkpoint at ai-forever/ruRoberta-large and are newly initialized: ['classifier.dense.bias', 'classifier.dense.weight', 'classifier.out_proj.bias', 'classifier.out_proj.weight']\n",
      "You should probably TRAIN this model on a down-stream task to be able to use it for predictions and inference.\n"
     ]
    },
    {
     "name": "stdout",
     "output_type": "stream",
     "text": [
      "{'train_runtime': 211.0837, 'train_samples_per_second': 113.329, 'train_steps_per_second': 7.106, 'train_loss': 0.13550755818684895, 'epoch': 6.0}\n"
     ]
    },
    {
     "name": "stderr",
     "output_type": "stream",
     "text": [
      "[I 2025-04-27 03:22:50,147] Trial 85 finished with value: 0.7461263408820024 and parameters: {'learning_rate': 2.3585904229653202e-05, 'batch_size': 16, 'num_epochs': 6, 'weight_decay': 0.039895495086797114}. Best is trial 70 with value: 0.7575516693163752.\n",
      "Some weights of RobertaForSequenceClassification were not initialized from the model checkpoint at ai-forever/ruRoberta-large and are newly initialized: ['classifier.dense.bias', 'classifier.dense.weight', 'classifier.out_proj.bias', 'classifier.out_proj.weight']\n",
      "You should probably TRAIN this model on a down-stream task to be able to use it for predictions and inference.\n"
     ]
    },
    {
     "name": "stdout",
     "output_type": "stream",
     "text": [
      "{'train_runtime': 211.0242, 'train_samples_per_second': 113.361, 'train_steps_per_second': 7.108, 'train_loss': 0.15158369954427084, 'epoch': 6.0}\n"
     ]
    },
    {
     "name": "stderr",
     "output_type": "stream",
     "text": [
      "[I 2025-04-27 03:26:24,674] Trial 86 finished with value: 0.7441673370876911 and parameters: {'learning_rate': 1.6590792078165463e-05, 'batch_size': 16, 'num_epochs': 6, 'weight_decay': 0.04774097191207239}. Best is trial 70 with value: 0.7575516693163752.\n",
      "Some weights of RobertaForSequenceClassification were not initialized from the model checkpoint at ai-forever/ruRoberta-large and are newly initialized: ['classifier.dense.bias', 'classifier.dense.weight', 'classifier.out_proj.bias', 'classifier.out_proj.weight']\n",
      "You should probably TRAIN this model on a down-stream task to be able to use it for predictions and inference.\n"
     ]
    },
    {
     "name": "stdout",
     "output_type": "stream",
     "text": [
      "{'train_runtime': 211.1377, 'train_samples_per_second': 113.3, 'train_steps_per_second': 7.104, 'train_loss': 0.14273257446289062, 'epoch': 6.0}\n"
     ]
    },
    {
     "name": "stderr",
     "output_type": "stream",
     "text": [
      "[I 2025-04-27 03:29:59,307] Trial 87 finished with value: 0.7490007993605116 and parameters: {'learning_rate': 2.2015582586461222e-05, 'batch_size': 16, 'num_epochs': 6, 'weight_decay': 0.029279606580846884}. Best is trial 70 with value: 0.7575516693163752.\n",
      "Some weights of RobertaForSequenceClassification were not initialized from the model checkpoint at ai-forever/ruRoberta-large and are newly initialized: ['classifier.dense.bias', 'classifier.dense.weight', 'classifier.out_proj.bias', 'classifier.out_proj.weight']\n",
      "You should probably TRAIN this model on a down-stream task to be able to use it for predictions and inference.\n"
     ]
    },
    {
     "name": "stdout",
     "output_type": "stream",
     "text": [
      "{'train_runtime': 211.0929, 'train_samples_per_second': 113.324, 'train_steps_per_second': 7.106, 'train_loss': 0.13946695963541667, 'epoch': 6.0}\n"
     ]
    },
    {
     "name": "stderr",
     "output_type": "stream",
     "text": [
      "[I 2025-04-27 03:33:33,942] Trial 88 finished with value: 0.7450514647664291 and parameters: {'learning_rate': 2.05089085720286e-05, 'batch_size': 16, 'num_epochs': 6, 'weight_decay': 0.033365091627889955}. Best is trial 70 with value: 0.7575516693163752.\n",
      "Some weights of RobertaForSequenceClassification were not initialized from the model checkpoint at ai-forever/ruRoberta-large and are newly initialized: ['classifier.dense.bias', 'classifier.dense.weight', 'classifier.out_proj.bias', 'classifier.out_proj.weight']\n",
      "You should probably TRAIN this model on a down-stream task to be able to use it for predictions and inference.\n"
     ]
    },
    {
     "name": "stdout",
     "output_type": "stream",
     "text": [
      "{'train_runtime': 211.031, 'train_samples_per_second': 113.358, 'train_steps_per_second': 7.108, 'train_loss': 0.15166900634765626, 'epoch': 6.0}\n"
     ]
    },
    {
     "name": "stderr",
     "output_type": "stream",
     "text": [
      "[I 2025-04-27 03:37:08,684] Trial 89 finished with value: 0.7375149820215741 and parameters: {'learning_rate': 1.817488825370133e-05, 'batch_size': 16, 'num_epochs': 6, 'weight_decay': 0.05028849853538006}. Best is trial 70 with value: 0.7575516693163752.\n",
      "Some weights of RobertaForSequenceClassification were not initialized from the model checkpoint at ai-forever/ruRoberta-large and are newly initialized: ['classifier.dense.bias', 'classifier.dense.weight', 'classifier.out_proj.bias', 'classifier.out_proj.weight']\n",
      "You should probably TRAIN this model on a down-stream task to be able to use it for predictions and inference.\n"
     ]
    },
    {
     "name": "stdout",
     "output_type": "stream",
     "text": [
      "{'train_runtime': 211.0489, 'train_samples_per_second': 113.348, 'train_steps_per_second': 7.107, 'train_loss': 0.13770789591471355, 'epoch': 6.0}\n"
     ]
    },
    {
     "name": "stderr",
     "output_type": "stream",
     "text": [
      "[I 2025-04-27 03:40:43,621] Trial 90 finished with value: 0.7503961965134707 and parameters: {'learning_rate': 2.5897602993195136e-05, 'batch_size': 16, 'num_epochs': 6, 'weight_decay': 0.04301806434991161}. Best is trial 70 with value: 0.7575516693163752.\n",
      "Some weights of RobertaForSequenceClassification were not initialized from the model checkpoint at ai-forever/ruRoberta-large and are newly initialized: ['classifier.dense.bias', 'classifier.dense.weight', 'classifier.out_proj.bias', 'classifier.out_proj.weight']\n",
      "You should probably TRAIN this model on a down-stream task to be able to use it for predictions and inference.\n"
     ]
    },
    {
     "name": "stdout",
     "output_type": "stream",
     "text": [
      "{'train_runtime': 211.0019, 'train_samples_per_second': 113.373, 'train_steps_per_second': 7.109, 'train_loss': 0.14597948201497396, 'epoch': 6.0}\n"
     ]
    },
    {
     "name": "stderr",
     "output_type": "stream",
     "text": [
      "[I 2025-04-27 03:44:18,133] Trial 91 finished with value: 0.7455197132616488 and parameters: {'learning_rate': 2.3499612623837537e-05, 'batch_size': 16, 'num_epochs': 6, 'weight_decay': 0.01596096172926728}. Best is trial 70 with value: 0.7575516693163752.\n",
      "Some weights of RobertaForSequenceClassification were not initialized from the model checkpoint at ai-forever/ruRoberta-large and are newly initialized: ['classifier.dense.bias', 'classifier.dense.weight', 'classifier.out_proj.bias', 'classifier.out_proj.weight']\n",
      "You should probably TRAIN this model on a down-stream task to be able to use it for predictions and inference.\n"
     ]
    },
    {
     "name": "stdout",
     "output_type": "stream",
     "text": [
      "{'train_runtime': 211.032, 'train_samples_per_second': 113.357, 'train_steps_per_second': 7.108, 'train_loss': 0.14412669881184895, 'epoch': 6.0}\n"
     ]
    },
    {
     "name": "stderr",
     "output_type": "stream",
     "text": [
      "[I 2025-04-27 03:47:52,646] Trial 92 finished with value: 0.7474989995998399 and parameters: {'learning_rate': 2.185081057919385e-05, 'batch_size': 16, 'num_epochs': 6, 'weight_decay': 0.04152900439980885}. Best is trial 70 with value: 0.7575516693163752.\n",
      "Some weights of RobertaForSequenceClassification were not initialized from the model checkpoint at ai-forever/ruRoberta-large and are newly initialized: ['classifier.dense.bias', 'classifier.dense.weight', 'classifier.out_proj.bias', 'classifier.out_proj.weight']\n",
      "You should probably TRAIN this model on a down-stream task to be able to use it for predictions and inference.\n"
     ]
    },
    {
     "name": "stdout",
     "output_type": "stream",
     "text": [
      "{'train_runtime': 211.0625, 'train_samples_per_second': 113.341, 'train_steps_per_second': 7.107, 'train_loss': 0.14362457275390625, 'epoch': 6.0}\n"
     ]
    },
    {
     "name": "stderr",
     "output_type": "stream",
     "text": [
      "[I 2025-04-27 03:51:27,311] Trial 93 finished with value: 0.7389911929543634 and parameters: {'learning_rate': 1.942003884438995e-05, 'batch_size': 16, 'num_epochs': 6, 'weight_decay': 0.046232888047187115}. Best is trial 70 with value: 0.7575516693163752.\n",
      "Some weights of RobertaForSequenceClassification were not initialized from the model checkpoint at ai-forever/ruRoberta-large and are newly initialized: ['classifier.dense.bias', 'classifier.dense.weight', 'classifier.out_proj.bias', 'classifier.out_proj.weight']\n",
      "You should probably TRAIN this model on a down-stream task to be able to use it for predictions and inference.\n"
     ]
    },
    {
     "name": "stdout",
     "output_type": "stream",
     "text": [
      "{'train_runtime': 210.8378, 'train_samples_per_second': 113.462, 'train_steps_per_second': 7.114, 'train_loss': 0.14026851399739584, 'epoch': 6.0}\n"
     ]
    },
    {
     "name": "stderr",
     "output_type": "stream",
     "text": [
      "[I 2025-04-27 03:55:01,866] Trial 94 finished with value: 0.7471218737594283 and parameters: {'learning_rate': 3.1176911109813105e-05, 'batch_size': 16, 'num_epochs': 6, 'weight_decay': 0.05600281839765075}. Best is trial 70 with value: 0.7575516693163752.\n",
      "Some weights of RobertaForSequenceClassification were not initialized from the model checkpoint at ai-forever/ruRoberta-large and are newly initialized: ['classifier.dense.bias', 'classifier.dense.weight', 'classifier.out_proj.bias', 'classifier.out_proj.weight']\n",
      "You should probably TRAIN this model on a down-stream task to be able to use it for predictions and inference.\n"
     ]
    },
    {
     "name": "stdout",
     "output_type": "stream",
     "text": [
      "{'train_runtime': 211.0126, 'train_samples_per_second': 113.368, 'train_steps_per_second': 7.109, 'train_loss': 0.14234437052408855, 'epoch': 6.0}\n"
     ]
    },
    {
     "name": "stderr",
     "output_type": "stream",
     "text": [
      "[I 2025-04-27 03:58:36,379] Trial 95 finished with value: 0.7449743791880173 and parameters: {'learning_rate': 2.7727559931819383e-05, 'batch_size': 16, 'num_epochs': 6, 'weight_decay': 0.039064707361375135}. Best is trial 70 with value: 0.7575516693163752.\n",
      "Some weights of RobertaForSequenceClassification were not initialized from the model checkpoint at ai-forever/ruRoberta-large and are newly initialized: ['classifier.dense.bias', 'classifier.dense.weight', 'classifier.out_proj.bias', 'classifier.out_proj.weight']\n",
      "You should probably TRAIN this model on a down-stream task to be able to use it for predictions and inference.\n"
     ]
    },
    {
     "name": "stdout",
     "output_type": "stream",
     "text": [
      "{'train_runtime': 211.0745, 'train_samples_per_second': 113.334, 'train_steps_per_second': 7.106, 'train_loss': 0.1380248107910156, 'epoch': 6.0}\n"
     ]
    },
    {
     "name": "stderr",
     "output_type": "stream",
     "text": [
      "[I 2025-04-27 04:02:10,964] Trial 96 finished with value: 0.7461749705766968 and parameters: {'learning_rate': 2.8753699312439313e-05, 'batch_size': 16, 'num_epochs': 6, 'weight_decay': 0.06031148968849849}. Best is trial 70 with value: 0.7575516693163752.\n",
      "Some weights of RobertaForSequenceClassification were not initialized from the model checkpoint at ai-forever/ruRoberta-large and are newly initialized: ['classifier.dense.bias', 'classifier.dense.weight', 'classifier.out_proj.bias', 'classifier.out_proj.weight']\n",
      "You should probably TRAIN this model on a down-stream task to be able to use it for predictions and inference.\n"
     ]
    },
    {
     "name": "stdout",
     "output_type": "stream",
     "text": [
      "{'train_runtime': 211.0393, 'train_samples_per_second': 113.353, 'train_steps_per_second': 7.108, 'train_loss': 0.14608492024739583, 'epoch': 6.0}\n"
     ]
    },
    {
     "name": "stderr",
     "output_type": "stream",
     "text": [
      "[I 2025-04-27 04:05:45,557] Trial 97 finished with value: 0.7398797595190381 and parameters: {'learning_rate': 2.029498330856751e-05, 'batch_size': 16, 'num_epochs': 6, 'weight_decay': 0.0307140688667901}. Best is trial 70 with value: 0.7575516693163752.\n",
      "Some weights of RobertaForSequenceClassification were not initialized from the model checkpoint at ai-forever/ruRoberta-large and are newly initialized: ['classifier.dense.bias', 'classifier.dense.weight', 'classifier.out_proj.bias', 'classifier.out_proj.weight']\n",
      "You should probably TRAIN this model on a down-stream task to be able to use it for predictions and inference.\n"
     ]
    },
    {
     "name": "stdout",
     "output_type": "stream",
     "text": [
      "{'train_runtime': 211.0823, 'train_samples_per_second': 113.33, 'train_steps_per_second': 7.106, 'train_loss': 0.1372449747721354, 'epoch': 6.0}\n"
     ]
    },
    {
     "name": "stderr",
     "output_type": "stream",
     "text": [
      "[I 2025-04-27 04:09:20,138] Trial 98 finished with value: 0.7612594659226783 and parameters: {'learning_rate': 2.465937747266832e-05, 'batch_size': 16, 'num_epochs': 6, 'weight_decay': 0.008412661248092061}. Best is trial 98 with value: 0.7612594659226783.\n",
      "Some weights of RobertaForSequenceClassification were not initialized from the model checkpoint at ai-forever/ruRoberta-large and are newly initialized: ['classifier.dense.bias', 'classifier.dense.weight', 'classifier.out_proj.bias', 'classifier.out_proj.weight']\n",
      "You should probably TRAIN this model on a down-stream task to be able to use it for predictions and inference.\n"
     ]
    },
    {
     "name": "stdout",
     "output_type": "stream",
     "text": [
      "{'train_runtime': 211.052, 'train_samples_per_second': 113.346, 'train_steps_per_second': 7.107, 'train_loss': 0.13606388346354167, 'epoch': 6.0}\n"
     ]
    },
    {
     "name": "stderr",
     "output_type": "stream",
     "text": [
      "[I 2025-04-27 04:12:54,709] Trial 99 finished with value: 0.7506980454726765 and parameters: {'learning_rate': 2.4439234277476072e-05, 'batch_size': 16, 'num_epochs': 6, 'weight_decay': 0.03605676959870325}. Best is trial 98 with value: 0.7612594659226783.\n"
     ]
    },
    {
     "name": "stdout",
     "output_type": "stream",
     "text": [
      "Наилучшее значение F1 (micro) на валидации: 0.7613\n",
      "Лучшие гиперпараметры: {'learning_rate': 2.465937747266832e-05, 'batch_size': 16, 'num_epochs': 6, 'weight_decay': 0.008412661248092061}\n"
     ]
    }
   ],
   "source": [
    "# Создаем исследование Optuna\n",
    "study = optuna.create_study(direction='maximize', study_name=\"Multilabel_Optimization\")\n",
    "# Запускаем поиск \n",
    "study.optimize(objective, n_trials=100)\n",
    "\n",
    "print(\"Наилучшее значение F1 (micro) на валидации: {:.4f}\".format(study.best_value))\n",
    "print(\"Лучшие гиперпараметры:\", study.best_params)\n"
   ]
  },
  {
   "cell_type": "code",
   "execution_count": 17,
   "id": "ddad963a-f2e0-4ca8-a085-603e735995b4",
   "metadata": {},
   "outputs": [],
   "source": [
    "# Сохраняем объект Optuna study в файл\n",
    "joblib.dump(study, \"../configs/optuna_study.pkl\")\n",
    "\n",
    "# Сохраняем лучшие гиперпараметры в JSON\n",
    "best_params = study.best_params\n",
    "best_params['best_val_microF1'] = study.best_value\n",
    "with open(\"../configs/best_hyperparams.json\", \"w\") as f:\n",
    "    #import json\n",
    "    json.dump(best_params, f, indent=4)\n"
   ]
  },
  {
   "cell_type": "code",
   "execution_count": 18,
   "id": "a02aada7-523b-44a6-9db8-d44929b7fce9",
   "metadata": {},
   "outputs": [
    {
     "name": "stderr",
     "output_type": "stream",
     "text": [
      "Some weights of RobertaForSequenceClassification were not initialized from the model checkpoint at ai-forever/ruRoberta-large and are newly initialized: ['classifier.dense.bias', 'classifier.dense.weight', 'classifier.out_proj.bias', 'classifier.out_proj.weight']\n",
      "You should probably TRAIN this model on a down-stream task to be able to use it for predictions and inference.\n"
     ]
    }
   ],
   "source": [
    "# Извлекаем лучшие гиперпараметры\n",
    "best_params = study.best_params\n",
    "best_batch_size = best_params['batch_size']\n",
    "best_lr = best_params['learning_rate']\n",
    "best_epochs = best_params['num_epochs']\n",
    "best_wd = best_params['weight_decay']\n",
    "\n",
    "# Инициализируем модель с нуля (предобученные веса)\n",
    "final_model = AutoModelForSequenceClassification.from_pretrained(\n",
    "    model_name, \n",
    "    num_labels=num_labels, \n",
    "    problem_type=\"multi_label_classification\",\n",
    "    id2label=id2label,\n",
    "    label2id=label2id\n",
    ")\n",
    "final_model.to(device)\n",
    "\n",
    "# Настраиваем аргументы обучения\n",
    "training_args = TrainingArguments(\n",
    "    output_dir=\"../models/final_model\",\n",
    "    per_device_train_batch_size=best_batch_size,\n",
    "    per_device_eval_batch_size=best_batch_size,\n",
    "    learning_rate=best_lr,\n",
    "    num_train_epochs=best_epochs,\n",
    "    weight_decay=best_wd,\n",
    "    logging_strategy=\"epoch\",\n",
    "    eval_strategy=\"no\",   # Обновлено\n",
    "    save_strategy=\"no\",   # Обновлено\n",
    "    fp16=True,\n",
    "    seed=SEED\n",
    ")\n",
    "\n",
    "trainer_final = Trainer(\n",
    "    model=final_model,\n",
    "    args=training_args,\n",
    "    train_dataset=train_dataset,\n",
    "    # eval_dataset=val_dataset,  # можем указать для мониторинга, но финальную оценку сделаем отдельно\n",
    ")\n"
   ]
  },
  {
   "cell_type": "code",
   "execution_count": 19,
   "id": "61f06f99-120e-4c4b-906d-fd2062133683",
   "metadata": {},
   "outputs": [
    {
     "data": {
      "text/html": [
       "\n",
       "    <div>\n",
       "      \n",
       "      <progress value='1500' max='1500' style='width:300px; height:20px; vertical-align: middle;'></progress>\n",
       "      [1500/1500 03:31, Epoch 6/6]\n",
       "    </div>\n",
       "    <table border=\"1\" class=\"dataframe\">\n",
       "  <thead>\n",
       " <tr style=\"text-align: left;\">\n",
       "      <th>Step</th>\n",
       "      <th>Training Loss</th>\n",
       "    </tr>\n",
       "  </thead>\n",
       "  <tbody>\n",
       "    <tr>\n",
       "      <td>250</td>\n",
       "      <td>0.305900</td>\n",
       "    </tr>\n",
       "    <tr>\n",
       "      <td>500</td>\n",
       "      <td>0.193700</td>\n",
       "    </tr>\n",
       "    <tr>\n",
       "      <td>750</td>\n",
       "      <td>0.135000</td>\n",
       "    </tr>\n",
       "    <tr>\n",
       "      <td>1000</td>\n",
       "      <td>0.087400</td>\n",
       "    </tr>\n",
       "    <tr>\n",
       "      <td>1250</td>\n",
       "      <td>0.059600</td>\n",
       "    </tr>\n",
       "    <tr>\n",
       "      <td>1500</td>\n",
       "      <td>0.041900</td>\n",
       "    </tr>\n",
       "  </tbody>\n",
       "</table><p>"
      ],
      "text/plain": [
       "<IPython.core.display.HTML object>"
      ]
     },
     "metadata": {},
     "output_type": "display_data"
    },
    {
     "data": {
      "text/plain": [
       "TrainOutput(global_step=1500, training_loss=0.13724493344624838, metrics={'train_runtime': 211.2551, 'train_samples_per_second': 113.238, 'train_steps_per_second': 7.1, 'total_flos': 5573509675375104.0, 'train_loss': 0.13724493344624838, 'epoch': 6.0})"
      ]
     },
     "execution_count": 19,
     "metadata": {},
     "output_type": "execute_result"
    }
   ],
   "source": [
    "trainer_final.train()\n"
   ]
  },
  {
   "cell_type": "code",
   "execution_count": 20,
   "id": "520f898e-c08f-4716-b012-ec59287df70c",
   "metadata": {},
   "outputs": [
    {
     "name": "stdout",
     "output_type": "stream",
     "text": [
      "Модель и токенизатор сохранены в ../models/final_model/\n"
     ]
    }
   ],
   "source": [
    "# Сохранение обученной модели и токенизатора\n",
    "trainer_final.model.save_pretrained(\"../models/final_model\")\n",
    "tokenizer.save_pretrained(\"../models/final_model\")\n",
    "print(\"Модель и токенизатор сохранены в ../models/final_model/\")\n",
    "\n",
    "# Внимание, модели могут занимать много места и хранятся отдельно\n",
    "# https://drive.google.com/drive/folders/1F62--WR0UaHIkDsE0IpWxGPP7_MWRES_?usp=drive_link"
   ]
  },
  {
   "cell_type": "markdown",
   "id": "8f1e2c1b-3925-4fc8-9a0e-788e7c60c319",
   "metadata": {},
   "source": [
    "<h1 style=\"color:red;\">Внимание, модели могут занимать много места и хранятся отдельно</h1>\r\n",
    "\r\n",
    "<p><a href=\"https://drive.google.com/drive/folders/1F62--WR0UaHIkDsE0IpWxGPP7_MWRES_?usp=drive_link\" target=\"_blank\">Ссылка на модели (Google Drive)</a></p>"
   ]
  },
  {
   "cell_type": "code",
   "execution_count": 21,
   "id": "d51e2314-1ac0-4307-80c5-aa69321447b6",
   "metadata": {},
   "outputs": [
    {
     "data": {
      "text/html": [],
      "text/plain": [
       "<IPython.core.display.HTML object>"
      ]
     },
     "metadata": {},
     "output_type": "display_data"
    }
   ],
   "source": [
    "# Предсказание на валидационной выборке\n",
    "preds = trainer_final.predict(val_dataset)\n",
    "logits = preds.predictions\n",
    "probs = torch.sigmoid(torch.tensor(logits)).numpy()\n",
    "y_true = preds.label_ids\n",
    "y_pred_05 = (probs >= 0.5).astype(int)\n"
   ]
  },
  {
   "cell_type": "code",
   "execution_count": 22,
   "id": "e7c6110e-7466-418e-a0c7-a1fe152c8cf1",
   "metadata": {},
   "outputs": [
    {
     "name": "stdout",
     "output_type": "stream",
     "text": [
      "Micro F1 = 0.761\n",
      "Macro F1 = 0.730\n",
      "Macro ROC-AUC = 0.930\n",
      "Subset Accuracy = 0.596\n"
     ]
    }
   ],
   "source": [
    "micro_f1 = f1_score(y_true, y_pred_05, average='micro')\n",
    "macro_f1 = f1_score(y_true, y_pred_05, average='macro')\n",
    "macro_roc_auc = roc_auc_score(y_true, probs, average='macro')\n",
    "accuracy = accuracy_score(y_true, y_pred_05)\n",
    "\n",
    "print(f\"Micro F1 = {micro_f1:.3f}\")\n",
    "print(f\"Macro F1 = {macro_f1:.3f}\")\n",
    "print(f\"Macro ROC-AUC = {macro_roc_auc:.3f}\")\n",
    "print(f\"Subset Accuracy = {accuracy:.3f}\")\n"
   ]
  },
  {
   "cell_type": "code",
   "execution_count": 23,
   "id": "1138474a-3a6b-4002-b975-3fd443e02458",
   "metadata": {},
   "outputs": [
    {
     "name": "stdout",
     "output_type": "stream",
     "text": [
      "               precision    recall  f1-score   support\n",
      "\n",
      "        Спорт      0.937     0.931     0.934       318\n",
      " Личная жизнь      0.664     0.611     0.636       149\n",
      "         Юмор      0.771     0.775     0.773       178\n",
      "      Соцсети      0.704     0.717     0.711       269\n",
      "     Политика      0.788     0.809     0.798       115\n",
      "      Реклама      0.629     0.728     0.675       114\n",
      "Нет категории      0.670     0.513     0.581       119\n",
      "\n",
      "    micro avg      0.766     0.757     0.761      1262\n",
      "    macro avg      0.738     0.726     0.730      1262\n",
      " weighted avg      0.765     0.757     0.759      1262\n",
      "  samples avg      0.795     0.786     0.771      1262\n",
      "\n",
      "Список поддержек: [318.0, 149.0, 178.0, 269.0, 115.0, 114.0, 119.0]\n"
     ]
    }
   ],
   "source": [
    "topic_report = classification_report(\n",
    "    y_true, \n",
    "    y_pred_05, \n",
    "    target_names=label_cols, \n",
    "    digits=3, \n",
    "    output_dict=False,\n",
    "    zero_division=0\n",
    ")\n",
    "print(topic_report)\n",
    "\n",
    "report_dict = classification_report(\n",
    "    y_true, \n",
    "    y_pred_05, \n",
    "    target_names=label_cols, \n",
    "    digits=3, \n",
    "    output_dict=True,\n",
    "    zero_division=0)\n",
    "# Отбираем только «настоящие» классы, исключая accuracy и усреднения\n",
    "label_keys = [k for k in report_dict if k not in (\"samples avg\", \"micro avg\", \"macro avg\", \"weighted avg\")]\n",
    "# Извлекаем support для каждого класса в виде списка\n",
    "support_list = [report_dict[k][\"support\"] for k in label_keys]\n",
    "print(\"Список поддержек:\", support_list)\n"
   ]
  },
  {
   "cell_type": "code",
   "execution_count": 24,
   "id": "07726630-bcf2-40a2-b0bd-49b47a7f8918",
   "metadata": {},
   "outputs": [
    {
     "name": "stdout",
     "output_type": "stream",
     "text": [
      "Тема 'Спорт': лучший порог = 0.298, F1 = 0.941\n",
      "Тема 'Личная жизнь': лучший порог = 0.495, F1 = 0.641\n",
      "Тема 'Юмор': лучший порог = 0.535, F1 = 0.780\n",
      "Тема 'Соцсети': лучший порог = 0.534, F1 = 0.715\n",
      "Тема 'Политика': лучший порог = 0.665, F1 = 0.816\n",
      "Тема 'Реклама': лучший порог = 0.751, F1 = 0.681\n",
      "Тема 'Нет категории': лучший порог = 0.105, F1 = 0.613\n",
      "\n",
      "Взвешенный F1: 0.7689\n",
      "\n"
     ]
    }
   ],
   "source": [
    "best_thresholds = {}\n",
    "best_f1_scores = []\n",
    "for i, topic in enumerate(label_cols):\n",
    "    precision, recall, thresholds = precision_recall_curve(y_true[:, i], probs[:, i])\n",
    "    # Вычисляем F1 для каждого порога\n",
    "    f1_scores = []\n",
    "    for p, r in zip(precision, recall):\n",
    "        if p + r == 0:\n",
    "            f1 = 0\n",
    "        else:\n",
    "            f1 = 2 * p * r / (p + r)\n",
    "        f1_scores.append(f1)\n",
    "    f1_scores = np.array(f1_scores)\n",
    "    best_idx = f1_scores[:-1].argmax()  # последний элемент precision/recall не имеет соотв. порога\n",
    "    best_thr = thresholds[best_idx]\n",
    "    best_f1 = f1_scores[best_idx]\n",
    "    best_f1_scores.append(best_f1)\n",
    "    best_thresholds[topic] = best_thr\n",
    "    print(f\"Тема '{topic}': лучший порог = {best_thr:.3f}, F1 = {best_f1:.3f}\")\n",
    "\n",
    "def compute_weighted_f1(f1_per_class, support_per_class):\n",
    "    total = sum(support_per_class)\n",
    "    weighted_f1 = sum(f1 * support for f1, support in zip(f1_per_class, support_per_class)) / total\n",
    "    return weighted_f1\n",
    "\n",
    "weighted_f1 = compute_weighted_f1(best_f1_scores, support_list)\n",
    "print(f'''\n",
    "Взвешенный F1: {weighted_f1:.4f}\n",
    "''')\n"
   ]
  },
  {
   "cell_type": "code",
   "execution_count": 25,
   "id": "1d7d025d-ef03-4470-9b2d-5d617ebffe8b",
   "metadata": {},
   "outputs": [
    {
     "name": "stdout",
     "output_type": "stream",
     "text": [
      "После калибровки порогов: micro F1 = 0.769, macro F1 = 0.741, accuracy = 0.611\n"
     ]
    }
   ],
   "source": [
    "# Применяем индивидуальные пороги для каждого класса\n",
    "y_pred_opt = np.zeros_like(y_pred_05)\n",
    "for i, topic in enumerate(label_cols):\n",
    "    thr = best_thresholds[topic]\n",
    "    y_pred_opt[:, i] = (probs[:, i] >= thr).astype(int)\n",
    "\n",
    "micro_f1_opt = f1_score(y_true, y_pred_opt, average='micro')\n",
    "macro_f1_opt = f1_score(y_true, y_pred_opt, average='macro')\n",
    "accuracy_opt = accuracy_score(y_true, y_pred_opt)\n",
    "print(f\"После калибровки порогов: micro F1 = {micro_f1_opt:.3f}, macro F1 = {macro_f1_opt:.3f}, accuracy = {accuracy_opt:.3f}\")\n"
   ]
  },
  {
   "cell_type": "code",
   "execution_count": 26,
   "id": "cb61829e-78a7-44b8-9435-f97360612698",
   "metadata": {},
   "outputs": [
    {
     "name": "stdout",
     "output_type": "stream",
     "text": [
      "Конфигурация с гиперпараметрами и порогами сохранена в configs/final_config.json ✅\n"
     ]
    }
   ],
   "source": [
    "# Функция для приведения к сериализуемому виду\n",
    "def make_serializable(obj):\n",
    "    if isinstance(obj, dict):\n",
    "        return {k: make_serializable(v) for k, v in obj.items()}\n",
    "    elif isinstance(obj, list):\n",
    "        return [make_serializable(v) for v in obj]\n",
    "    elif isinstance(obj, np.generic):  # все numpy-скаляры\n",
    "        return obj.item()\n",
    "    else:\n",
    "        return obj\n",
    "\n",
    "# Подготовка данных\n",
    "config = {\n",
    "    \"model_name\": model_name,\n",
    "    \"best_hyperparams\": make_serializable(best_params),\n",
    "    \"thresholds\": make_serializable(best_thresholds)\n",
    "}\n",
    "\n",
    "# Сохраняем в файл\n",
    "with open(\"../configs/final_config.json\", \"w\", encoding=\"utf-8\") as f:\n",
    "    json.dump(config, f, ensure_ascii=False, indent=4)\n",
    "\n",
    "print(\"Конфигурация с гиперпараметрами и порогами сохранена в configs/final_config.json ✅\")\n"
   ]
  },
  {
   "cell_type": "code",
   "execution_count": 27,
   "id": "29bdc66e-7c87-4a82-9060-962900277c47",
   "metadata": {},
   "outputs": [
    {
     "data": {
      "image/png": "[encoded data removed]",
      "text/plain": [
       "<Figure size 600x600 with 1 Axes>"
      ]
     },
     "metadata": {},
     "output_type": "display_data"
    }
   ],
   "source": [
    "# Вычисляем точки для ROC-кривых\n",
    "fpr = {}\n",
    "tpr = {}\n",
    "roc_auc = {}\n",
    "for i, topic in enumerate(label_cols):\n",
    "    fpr[i], tpr[i], _ = roc_curve(y_true[:, i], probs[:, i])\n",
    "    roc_auc[i] = auc(fpr[i], tpr[i])\n",
    "# Микро-усредненная ROC (считаем как если все метки в один длинный список)\n",
    "fpr[\"micro\"], tpr[\"micro\"], _ = roc_curve(y_true.ravel(), probs.ravel())\n",
    "roc_auc[\"micro\"] = auc(fpr[\"micro\"], tpr[\"micro\"])\n",
    "\n",
    "# Строим график\n",
    "plt.figure(figsize=(6, 6))\n",
    "# Диагональ случайного угадывания\n",
    "plt.plot([0, 1], [0, 1], 'k--')\n",
    "# Кривые по темам\n",
    "for i, topic in enumerate(label_cols):\n",
    "    plt.plot(fpr[i], tpr[i], label=f\"{topic} (AUC = {roc_auc[i]:.2f})\")\n",
    "# Микро усредненная кривая\n",
    "plt.plot(fpr[\"micro\"], tpr[\"micro\"], label=f\"micro-average (AUC = {roc_auc['micro']:.2f})\", color='black', linestyle=':')\n",
    "plt.xlabel(\"False Positive Rate\")\n",
    "plt.ylabel(\"True Positive Rate\")\n",
    "plt.title(\"ROC-кривые по темам\")\n",
    "plt.legend(loc=\"lower right\")\n",
    "plt.show()\n"
   ]
  },
  {
   "cell_type": "code",
   "execution_count": 28,
   "id": "fa85419f-0a42-4cfd-a860-ece7ba36925f",
   "metadata": {},
   "outputs": [
    {
     "data": {
      "image/png": "[encoded data removed]",
      "text/plain": [
       "<Figure size 600x600 with 1 Axes>"
      ]
     },
     "metadata": {},
     "output_type": "display_data"
    }
   ],
   "source": [
    "plt.figure(figsize=(6, 6))\n",
    "for i, topic in enumerate(label_cols):\n",
    "    precision, recall, _ = precision_recall_curve(y_true[:, i], probs[:, i])\n",
    "    pr_auc = auc(recall, precision)\n",
    "    plt.plot(recall, precision, label=f\"{topic} (AP = {pr_auc:.2f})\")\n",
    "# микро-усредненная PR\n",
    "precision_micro, recall_micro, _ = precision_recall_curve(y_true.ravel(), probs.ravel())\n",
    "ap_micro = auc(recall_micro, precision_micro)\n",
    "plt.plot(recall_micro, precision_micro, label=f\"micro-average (AP = {ap_micro:.2f})\", color='black', linestyle=':')\n",
    "plt.xlabel(\"Recall\")\n",
    "plt.ylabel(\"Precision\")\n",
    "plt.title(\"Precision-Recall-кривые по темам\")\n",
    "plt.legend(loc=\"upper right\")\n",
    "plt.show()\n"
   ]
  },
  {
   "cell_type": "code",
   "execution_count": 29,
   "id": "115b5df1-c751-4b3e-8a75-c22cc5d9d36b",
   "metadata": {},
   "outputs": [
    {
     "data": {
      "image/png": "[encoded data removed]",
      "text/plain": [
       "<Figure size 1500x1200 with 7 Axes>"
      ]
     },
     "metadata": {},
     "output_type": "display_data"
    }
   ],
   "source": [
    "n_labels = len(label_cols)\n",
    "n_cols = 3\n",
    "n_rows = math.ceil(n_labels / n_cols)\n",
    "\n",
    "fig, axes = plt.subplots(n_rows, n_cols, figsize=(5 * n_cols, 4 * n_rows))\n",
    "axes = axes.flatten()\n",
    "\n",
    "for i, topic in enumerate(label_cols):\n",
    "    ax = axes[i]\n",
    "    pos_probs = probs[y_true[:, i] == 1, i]\n",
    "    neg_probs = probs[y_true[:, i] == 0, i]\n",
    "    ax.hist(pos_probs, bins=20, range=(0,1), alpha=0.5, label=\"True=1\")\n",
    "    ax.hist(neg_probs, bins=20, range=(0,1), alpha=0.5, label=\"True=0\")\n",
    "    ax.axvline(best_thresholds.get(topic, 0.5), color='red', linestyle='--', label='Threshold')\n",
    "    ax.set_title(topic)\n",
    "    ax.set_xlabel(\"Предсказанная вероятность\")\n",
    "    ax.set_ylabel(\"Частота\")\n",
    "    ax.legend(loc=\"upper center\")\n",
    "\n",
    "# Отключим пустые графики если их больше, чем нужно\n",
    "for j in range(i+1, len(axes)):\n",
    "    fig.delaxes(axes[j])\n",
    "\n",
    "plt.tight_layout()\n",
    "plt.show()\n",
    "\n"
   ]
  }
 ],
 "metadata": {
  "kernelspec": {
   "display_name": "MIFI Hackaton Polyglot News Analyzer (MIFI_Hackaton_Polyglot_News_Analyzer)",
   "language": "python",
   "name": "mifi_hackaton_polyglot_news_analyzer"
  },
  "language_info": {
   "codemirror_mode": {
    "name": "ipython",
    "version": 3
   },
   "file_extension": ".py",
   "mimetype": "text/x-python",
   "name": "python",
   "nbconvert_exporter": "python",
   "pygments_lexer": "ipython3",
   "version": "3.10.17"
  }
 },
 "nbformat": 4,
 "nbformat_minor": 5
}
