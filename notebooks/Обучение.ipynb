{
 "cells": [
  {
   "cell_type": "markdown",
   "id": "86a5bc74-a048-486e-a6e7-bc948d3ae856",
   "metadata": {},
   "source": [
    "# Обучение модели sberbank-ai/ruRoberta-large-sentiment для multi-label классификации"
   ]
  },
  {
   "cell_type": "code",
   "execution_count": 1,
   "id": "db5a355b-d838-4924-bf36-564df824f0ea",
   "metadata": {},
   "outputs": [],
   "source": [
    "!pip install pandas openpyxl transformers datasets scikit-learn -q"
   ]
  },
  {
   "cell_type": "code",
   "execution_count": 2,
   "id": "1210b9ff-58ef-44bb-80de-488a8a8d5fb2",
   "metadata": {},
   "outputs": [],
   "source": [
    "import pandas as pd"
   ]
  }
 ],
 "metadata": {
  "kernelspec": {
   "display_name": "MIFI Hackaton Polyglot News Analyzer (MIFI_Hackaton_Polyglot_News_Analyzer)",
   "language": "python",
   "name": "mifi_hackaton_polyglot_news_analyzer"
  },
  "language_info": {
   "codemirror_mode": {
    "name": "ipython",
    "version": 3
   },
   "file_extension": ".py",
   "mimetype": "text/x-python",
   "name": "python",
   "nbconvert_exporter": "python",
   "pygments_lexer": "ipython3",
   "version": "3.10.17"
  }
 },
 "nbformat": 4,
 "nbformat_minor": 5
}
